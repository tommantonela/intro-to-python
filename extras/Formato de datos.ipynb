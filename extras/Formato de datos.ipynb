{
 "cells": [
  {
   "cell_type": "markdown",
   "metadata": {
    "colab_type": "text",
    "id": "jIaQXvFrIH3d"
   },
   "source": [
    "# Formato de datos\n",
    "\n",
    "En esta notebook vamos a jugar con diferentes fuentes de datos, recordando cómo cargar y acceder a distintos tipos de datos.\n",
    "\n",
    "En particular, vamos a ver:\n",
    "\n",
    "*   Obtener archivos desde una url.\n",
    "*   Acceder y recorrer un archivo ``.csv``.\n",
    "*   Acceder y recorrer un archivo ``.xml``.\n",
    "*   Acceder al contenido de un archivo ``.zip``.\n",
    "*   Acceder y recorrer un archivo ``.json``."
   ]
  },
  {
   "cell_type": "code",
   "execution_count": null,
   "metadata": {},
   "outputs": [],
   "source": [
    "import functools\n",
    "import pathlib\n",
    "import shutil\n",
    "import requests\n",
    "from tqdm.auto import tqdm as tqdmauto\n",
    "import requests\n",
    "import os"
   ]
  },
  {
   "cell_type": "markdown",
   "metadata": {
    "colab_type": "text",
    "id": "E5WtRboha68Y"
   },
   "source": [
    "### Obtener archivos desde una url\n",
    "\n",
    "Por ejemplo, para acceder al contenido de la página de Wikipedia correspondiente a Londres, podemos hacer:"
   ]
  },
  {
   "cell_type": "code",
   "execution_count": null,
   "metadata": {
    "colab": {
     "base_uri": "https://localhost:8080/",
     "height": 55
    },
    "colab_type": "code",
    "executionInfo": {
     "elapsed": 3056,
     "status": "ok",
     "timestamp": 1595093346915,
     "user": {
      "displayName": "Antonela Tommasel",
      "photoUrl": "https://lh3.googleusercontent.com/a-/AOh14GhZHZvwAe7IBUffT-rd4hTz_uFFKkvW9vlfJO87sg=s64",
      "userId": "05608722526508464314"
     },
     "user_tz": 180
    },
    "id": "0qF7uZMja-RY",
    "outputId": "842b8337-29ad-4a22-df4e-e796155a3b7e"
   },
   "outputs": [],
   "source": [
    "data = requests.get('https://en.wikipedia.org/wiki/London')\n",
    "content = data.content\n",
    "\n",
    "print(content)"
   ]
  },
  {
   "cell_type": "markdown",
   "metadata": {
    "colab_type": "text",
    "id": "eZ8WpFMmcCfM"
   },
   "source": [
    "Sin embargo, eso no nos permite guardar el contenido en un archivo. En el caso en que querramos guardar el archivo que estamos accediendo (por ejemplo, un archivo almacenado en un GitHub). Vamos a tomar como ejemplo un archivo ``.csv`` que se encuentra en GitHub y que contiene un dataset para la detección de Hate Speech.\n",
    "\n",
    "Vamos a agregar un método auxiliar para realizar las descargar y observar el progreso:"
   ]
  },
  {
   "cell_type": "code",
   "execution_count": null,
   "metadata": {
    "colab": {},
    "colab_type": "code",
    "id": "ByH6m3wyKoKc"
   },
   "outputs": [],
   "source": [
    "def download_file(url, filename):    \n",
    "    r = requests.get(url, stream=True, allow_redirects=True)\n",
    "    if r.status_code != 200:\n",
    "        r.raise_for_status()  # Will only raise for 4xx codes, so...\n",
    "        raise RuntimeError(f\"Request to {url} returned status code {r.status_code}\")\n",
    "    file_size = int(r.headers.get('Content-Length', 0))\n",
    "\n",
    "    path = pathlib.Path(filename).expanduser().resolve()\n",
    "    path.parent.mkdir(parents=True, exist_ok=True)\n",
    "\n",
    "    desc = \"(Unknown total file size)\" if file_size == 0 else \"\"\n",
    "    r.raw.read = functools.partial(r.raw.read, decode_content=True)  # Decompress if needed\n",
    "    with tqdmauto.wrapattr(r.raw, \"read\", total=file_size, desc=desc) as r_raw:\n",
    "        with path.open(\"wb\") as f:\n",
    "            shutil.copyfileobj(r_raw, f)\n",
    "\n",
    "    return path"
   ]
  },
  {
   "cell_type": "code",
   "execution_count": null,
   "metadata": {
    "colab": {
     "base_uri": "https://localhost:8080/",
     "height": 69
    },
    "colab_type": "code",
    "executionInfo": {
     "elapsed": 3699,
     "status": "ok",
     "timestamp": 1595093378197,
     "user": {
      "displayName": "Antonela Tommasel",
      "photoUrl": "https://lh3.googleusercontent.com/a-/AOh14GhZHZvwAe7IBUffT-rd4hTz_uFFKkvW9vlfJO87sg=s64",
      "userId": "05608722526508464314"
     },
     "user_tz": 180
    },
    "id": "oWCLwFqCSJHq",
    "outputId": "be4d79ef-d404-4081-ec7f-baebfa1599a3"
   },
   "outputs": [],
   "source": [
    "url = \"https://raw.githubusercontent.com/t-davidson/hate-speech-and-offensive-language/master/data/labeled_data.csv\"\n",
    "datapath = \"labeled_data.csv\" # se puede incluir estructura de carpetas\n",
    "\n",
    "download_file(url,datapath)"
   ]
  },
  {
   "cell_type": "markdown",
   "metadata": {
    "colab_type": "text",
    "id": "vQJoNhXhdlOG"
   },
   "source": [
    "Notar que al no haber vinculado la notebook a nuestra cuenta de Drive, los archivos serán descargados en el espacio asignado a la notebook, accesible haciendo click en la carpetita que aparece en la barra de menú vertical de la izquierda. En consecuencia, el tiempo de persistencia de estos archivos será el mismo que el de vida de la notebook."
   ]
  },
  {
   "cell_type": "markdown",
   "metadata": {
    "colab_type": "text",
    "id": "Mm4xRk8ObDbO"
   },
   "source": [
    "### Acceder y recorrer un archivo ``.csv`` \n",
    "\n",
    "Los archivos ``.csv`` pueden ser directamente almacenados en un ``DataFrame`` de ``pandas``. \n",
    "Para ello, solo es necesario definir la ubicación del archivo y las columnas de dicho archivo a utilizar. Por ejemplo, considerando el ``.csv`` que descargamos anteriormente, vamos a quedarnos con las columnas ``class`` y ``tweet``."
   ]
  },
  {
   "cell_type": "code",
   "execution_count": null,
   "metadata": {
    "colab": {},
    "colab_type": "code",
    "id": "ko9qqIZPN8Kw"
   },
   "outputs": [],
   "source": [
    "import pandas as pd"
   ]
  },
  {
   "cell_type": "code",
   "execution_count": null,
   "metadata": {
    "colab": {
     "base_uri": "https://localhost:8080/",
     "height": 260
    },
    "colab_type": "code",
    "executionInfo": {
     "elapsed": 1115,
     "status": "ok",
     "timestamp": 1595093447913,
     "user": {
      "displayName": "Antonela Tommasel",
      "photoUrl": "https://lh3.googleusercontent.com/a-/AOh14GhZHZvwAe7IBUffT-rd4hTz_uFFKkvW9vlfJO87sg=s64",
      "userId": "05608722526508464314"
     },
     "user_tz": 180
    },
    "id": "cvXy4PNlbOIv",
    "outputId": "c8ab6234-2ebb-4d2c-e65c-4f6a3b9d02a2"
   },
   "outputs": [],
   "source": [
    "url = \"labeled_data.csv\"\n",
    "df = pd.read_csv(url,usecols=['class', 'tweet']) # de todas las columnas que tiene el dataset, nos vamos a quedar solo con el texto y la clase\n",
    "\n",
    "df"
   ]
  },
  {
   "cell_type": "markdown",
   "metadata": {
    "colab_type": "text",
    "id": "12-9KuXAN_Tn"
   },
   "source": [
    "En el ejemplo anterior utilizamos el archivo que habíamos descargado previamente, sin embargo, ``pandas`` también soporta que se le pase una ``url`` como parámetro. Entonces, si quisieramos cargar los datos del mismo archivo, pero sin tenerlo previamente descargado, podríamos hacer:"
   ]
  },
  {
   "cell_type": "code",
   "execution_count": null,
   "metadata": {
    "colab": {
     "base_uri": "https://localhost:8080/",
     "height": 260
    },
    "colab_type": "code",
    "executionInfo": {
     "elapsed": 1087,
     "status": "ok",
     "timestamp": 1595093482147,
     "user": {
      "displayName": "Antonela Tommasel",
      "photoUrl": "https://lh3.googleusercontent.com/a-/AOh14GhZHZvwAe7IBUffT-rd4hTz_uFFKkvW9vlfJO87sg=s64",
      "userId": "05608722526508464314"
     },
     "user_tz": 180
    },
    "id": "SFKBAypuOR7H",
    "outputId": "50672e44-5a04-456e-dfa2-8b47386dca3d"
   },
   "outputs": [],
   "source": [
    "url = \"https://raw.githubusercontent.com/t-davidson/hate-speech-and-offensive-language/master/data/labeled_data.csv\"\n",
    "df = pd.read_csv(url, usecols=['class', 'tweet']) # de todas las columnas que tiene el dataset, nos vamos a quedar solo con el texto y la clase\n",
    "\n",
    "df"
   ]
  },
  {
   "cell_type": "markdown",
   "metadata": {
    "colab_type": "text",
    "id": "rN5xDfcEPsjM"
   },
   "source": [
    "Si quisiéramos, en lugar de delegar la conversión de los records del ``.csv`` en ``pandas``, podríamos recorrerlo y procesarlo de forma manual utilizando "
   ]
  },
  {
   "cell_type": "code",
   "execution_count": null,
   "metadata": {
    "colab": {},
    "colab_type": "code",
    "id": "lH2_pH9w44q6"
   },
   "outputs": [],
   "source": [
    "import csv"
   ]
  },
  {
   "cell_type": "code",
   "execution_count": null,
   "metadata": {
    "colab": {},
    "colab_type": "code",
    "id": "nHXYAZGXSS9j"
   },
   "outputs": [],
   "source": [
    "reader = csv.DictReader(open(\"labeled_data.csv\"))\n",
    "\n",
    "with open('labeled_data.csv', 'r') as csvfile:\n",
    "    csvreader = csv.reader(csvfile)\n",
    "    print(\"header: \",reader.fieldnames)\n",
    "    next(csvreader) # salteando el header\n",
    "    for row in csvreader:\n",
    "            print('-',row[6].replace('\\n','')) # accedemos al texto del tweet"
   ]
  },
  {
   "cell_type": "markdown",
   "metadata": {
    "colab_type": "text",
    "id": "UudydkBubOXg"
   },
   "source": [
    "### Acceder y recorrer un archivo ``.xml``\n",
    "\n",
    "El XML es un formato de intercambio de datos que cuenta con algunas reglas para la definición de su estructura en forma de árbol.\n",
    "\n",
    "*   Puede incluir al principio una declaración (denominada prolog) la cual define el encoding utilizado en el documento.\n",
    "*   Debe tener un único elemento raíz,el cual es el padre de todos los otros elementos.\n",
    "*   Todos los elementos se encuentran encerrados entre tags. Si se incluyó un tag de inicio, debe incluirse el tag de finalización. Por ejemplo, en ``<p> texto <\\p>``, el ``<\\p>`` es obligatorio.\n",
    "*    Los tags son case sensitive. Por ejemplo ``<mensaje>`` es distinto de ``<Mensaje>``.\n",
    "*    Los elementos deben encontrarse apropiadamente anidados. Por ejemplo: ``<b><i> Texto </i></b>`` no puede escribirse como ``<b><i> Texto </b></i>``.\n",
    "*    Los atributos deben estar siempre entre comillas.\n",
    "*    Algunos chars tienen significado especial y deben ser reemplazados por lo que llaman un \"entity reference\". Por ejemplo: ``<mensaje> cantidad < 10 </mensaje>`` dará error, dado que el ``<`` será interpretado como un inicio de tag. En su lugar, debe utilizarse ``&lt;``.\n",
    "*    Se permiten comentarios.\n",
    "*    Se preservan los espacios.\n",
    "\n",
    "En este caso, vamos a ejemplificar utilizando un reporte extraído de Jira para el proyecto ``Apache Camel``."
   ]
  },
  {
   "cell_type": "code",
   "execution_count": null,
   "metadata": {
    "colab": {
     "base_uri": "https://localhost:8080/",
     "height": 69
    },
    "colab_type": "code",
    "executionInfo": {
     "elapsed": 1459,
     "status": "ok",
     "timestamp": 1595093531503,
     "user": {
      "displayName": "Antonela Tommasel",
      "photoUrl": "https://lh3.googleusercontent.com/a-/AOh14GhZHZvwAe7IBUffT-rd4hTz_uFFKkvW9vlfJO87sg=s64",
      "userId": "05608722526508464314"
     },
     "user_tz": 180
    },
    "id": "kvahuR7SbRSG",
    "outputId": "0da0349c-0361-48f1-b410-1d5a6c160b6f"
   },
   "outputs": [],
   "source": [
    "url = \"https://drive.google.com/uc?export=download&id=1iHve6u13LMrPYuOZZedSuhgMk6ZOEkXr\"\n",
    "datapath = \"CAMEL-15233.xml\""
   ]
  },
  {
   "cell_type": "code",
   "execution_count": null,
   "metadata": {},
   "outputs": [],
   "source": [
    "download_file(url,datapath)"
   ]
  },
  {
   "cell_type": "markdown",
   "metadata": {},
   "source": [
    "Esta forma de descargar archivos de Drive no suele tener problemas cuando el tamaño no supera los 100MB. Cuando tenemos que bajar archivos más grandes, se puede utilizar ``gdown``. Asimismo, también puede tener problemas si drive \"detecta\" que puede ser un archivo peligroso. Si no está instalada, primero ejecutar:"
   ]
  },
  {
   "cell_type": "code",
   "execution_count": null,
   "metadata": {},
   "outputs": [],
   "source": [
    "pip install gdown"
   ]
  },
  {
   "cell_type": "code",
   "execution_count": null,
   "metadata": {},
   "outputs": [],
   "source": [
    "import gdown\n",
    "\n",
    "gdown.download(url, datapath, quiet=False)"
   ]
  },
  {
   "cell_type": "markdown",
   "metadata": {
    "colab_type": "text",
    "id": "GgWJnxML68Ez"
   },
   "source": [
    "Hay distintos tipos de parsers, en este caso vamos a utilizar la opción de [``ElementTree``](https://docs.python.org/3.4/library/xml.etree.elementtree.html)."
   ]
  },
  {
   "cell_type": "code",
   "execution_count": null,
   "metadata": {
    "colab": {},
    "colab_type": "code",
    "id": "T0nS_fDF6Pfx"
   },
   "outputs": [],
   "source": [
    "import xml.etree.ElementTree as ET "
   ]
  },
  {
   "cell_type": "code",
   "execution_count": null,
   "metadata": {
    "colab": {
     "base_uri": "https://localhost:8080/",
     "height": 228
    },
    "colab_type": "code",
    "executionInfo": {
     "elapsed": 1054,
     "status": "ok",
     "timestamp": 1595093552355,
     "user": {
      "displayName": "Antonela Tommasel",
      "photoUrl": "https://lh3.googleusercontent.com/a-/AOh14GhZHZvwAe7IBUffT-rd4hTz_uFFKkvW9vlfJO87sg=s64",
      "userId": "05608722526508464314"
     },
     "user_tz": 180
    },
    "id": "h2TA_lWs6v2A",
    "outputId": "e34aaf4c-1286-4a90-a734-82d8920e766a"
   },
   "outputs": [],
   "source": [
    "# create element tree object \n",
    "tree = ET.parse(datapath) \n",
    "  \n",
    "# get root element \n",
    "root = tree.getroot()\n",
    "\n",
    "item = root.findall(\"channel\")[0].findall(\"item\")[0] # sabemos que hay solo uno\n",
    "\n",
    "print(\"Title: \",item.find(\"title\").text) # es un child, no un atributo\n",
    "print(\"Type: \",item.find(\"type\").text) # es un child, no un atributo\n",
    "print(\"Priority: \",item.find(\"priority\").text) # es un child, no un atributo\n",
    "\n",
    "comments = item.find(\"comments\")\n",
    "for comment in comments.findall(\"comment\"):\n",
    "  print(\"Comment: \",comment.attrib[\"author\"]) # accedemos a un atributo del comentario\n",
    "  print(\" \",comment.text)"
   ]
  },
  {
   "cell_type": "markdown",
   "metadata": {
    "colab_type": "text",
    "id": "bKafIe7la_0E"
   },
   "source": [
    "### Acceder al contenido de un archivo ``.zip``\n",
    "\n",
    "En este caso, vamos a descargar y extraer el contenido de un archivo ``.zip`` conteniendo tweets."
   ]
  },
  {
   "cell_type": "code",
   "execution_count": null,
   "metadata": {
    "colab": {
     "base_uri": "https://localhost:8080/",
     "height": 69
    },
    "colab_type": "code",
    "executionInfo": {
     "elapsed": 2928,
     "status": "ok",
     "timestamp": 1595093399163,
     "user": {
      "displayName": "Antonela Tommasel",
      "photoUrl": "https://lh3.googleusercontent.com/a-/AOh14GhZHZvwAe7IBUffT-rd4hTz_uFFKkvW9vlfJO87sg=s64",
      "userId": "05608722526508464314"
     },
     "user_tz": 180
    },
    "id": "ci8mGIxgRoj5",
    "outputId": "d0015dbf-a07a-4ad7-fb5a-3b67bb0b2528"
   },
   "outputs": [],
   "source": [
    "# descargamos el archivo invocando a la función que definimos anteriormente\n",
    "\n",
    "url = \"https://drive.google.com/uc?export=download&id=1RCNlZXFpTBAisF2Bsh2OJl7g4qLnR3vI\"\n",
    "\n",
    "datapath = \"sydneysiege-example.zip\"\n",
    "download_file(url,datapath)"
   ]
  },
  {
   "cell_type": "code",
   "execution_count": null,
   "metadata": {},
   "outputs": [],
   "source": [
    "import gdown\n",
    "\n",
    "gdown.download(url, datapath, quiet=False)"
   ]
  },
  {
   "cell_type": "markdown",
   "metadata": {},
   "source": [
    "Una vez descargado el ``.zip``, hay que descomprimirlo."
   ]
  },
  {
   "cell_type": "code",
   "execution_count": null,
   "metadata": {
    "colab": {
     "base_uri": "https://localhost:8080/",
     "height": 35
    },
    "colab_type": "code",
    "executionInfo": {
     "elapsed": 1082,
     "status": "ok",
     "timestamp": 1595093405901,
     "user": {
      "displayName": "Antonela Tommasel",
      "photoUrl": "https://lh3.googleusercontent.com/a-/AOh14GhZHZvwAe7IBUffT-rd4hTz_uFFKkvW9vlfJO87sg=s64",
      "userId": "05608722526508464314"
     },
     "user_tz": 180
    },
    "id": "1S_6WJboH4Vw",
    "outputId": "4ba09f42-2f38-413a-a9ae-a37b14ee115a"
   },
   "outputs": [],
   "source": [
    "import gzip\n",
    "import shutil\n",
    "\n",
    "from zipfile import ZipFile\n",
    " \n",
    "print(\"Extracting data...\")\n",
    "with ZipFile(datapath, 'r') as zipObj:\n",
    "    zipObj.extractall('.')"
   ]
  },
  {
   "cell_type": "markdown",
   "metadata": {
    "colab_type": "text",
    "id": "cuzNfq_zzvY_"
   },
   "source": [
    "Ahora podemos ver en el espacio de la notebook, que se descomprimió el archivo y podemos acceder a los diferentes directorios.\n",
    "\n",
    "Vamos a ver una estructura anidada de directorios, donde hay archivos correspondientes a tweets y sus reacciones."
   ]
  },
  {
   "cell_type": "markdown",
   "metadata": {},
   "source": [
    "![image.png](data:image/png;base64,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)"
   ]
  },
  {
   "cell_type": "code",
   "execution_count": null,
   "metadata": {
    "colab": {
     "base_uri": "https://localhost:8080/",
     "height": 1000
    },
    "colab_type": "code",
    "executionInfo": {
     "elapsed": 1117,
     "status": "ok",
     "timestamp": 1595101119546,
     "user": {
      "displayName": "Antonela Tommasel",
      "photoUrl": "https://lh3.googleusercontent.com/a-/AOh14GhZHZvwAe7IBUffT-rd4hTz_uFFKkvW9vlfJO87sg=s64",
      "userId": "05608722526508464314"
     },
     "user_tz": 180
    },
    "id": "vH9wztIgz4ll",
    "outputId": "a60d41e7-4c62-4362-d6de-fc186d765dad"
   },
   "outputs": [],
   "source": [
    "path = os.walk(\"sydneysiege-example\")\n",
    "\n",
    "for root, directories, files in path:\n",
    "    for directory in directories:\n",
    "        print(directory)\n",
    "    for file in files:\n",
    "        print(root,file)"
   ]
  },
  {
   "cell_type": "markdown",
   "metadata": {
    "colab_type": "text",
    "id": "nZOBjFh5bRh-"
   },
   "source": [
    "### Acceder y recorrer un archivo ``.json``\n",
    "\n",
    "La estructura de los archivos ``.json`` se define con:\n",
    "\n",
    "*   Los datos se definen como pares ``objeto : valor``. \n",
    "*   Los objetos están separados por ``,``.\n",
    "*   Los objetos se encierran entre ``{}``.\n",
    "*   Los objetos pueden ser agrupados en secuencias ordenadas encerradas entre ``[]``. Por ejemplo ``[{},{}]``.\n",
    "*   Los elementos deben estar encerrados entre comillas, a menos que representen elementos numéricos.\n",
    "\n",
    "El siguiente ejemplo representa un objeto simple, sin anidamientos:\n",
    "\n",
    "```\n",
    "{ \"name\":\"Chaya\", \"age\":12, \"city\":\"Boulder\", \"type\":\"Canine\" }\n",
    "```\n",
    "\n",
    "Considerando una estructura un poco más compleja incluyendo anidamientos:\n",
    "\n",
    "```\n",
    "{\n",
    "     \"album_title\" : \"Yellow Submarine\",     \n",
    "     \"release_year\" : 1966,   \n",
    "     \"won_grammy\" : False,\n",
    "     \"band\" : \"The Beatles\",\n",
    "     \"album_sale\": None\n",
    "     \"musicians\" : [\"John Lennon\", \"Paul McCartney\", \"George   Harrison\", \"Ringo Starr\"],\n",
    "     \"studio\" : {\"studio_name\": \"Abbey Road Studios\", \"location\": \"London, England\"}\n",
    "     }\n",
    "```\n",
    "\n",
    "En este caso vamos a trabajar con un archivo correspondiente a un tweet de los que estaban en el ``.zip`` que descomprimimos anteriormente.\n"
   ]
  },
  {
   "cell_type": "markdown",
   "metadata": {
    "colab_type": "text",
    "id": "zaaLcHo27e2y"
   },
   "source": [
    "Al igual que con el ``.csv``, los ``.json`` pueden ser directamente cargados en un ``DataFrame`` de ``pandas``."
   ]
  },
  {
   "cell_type": "code",
   "execution_count": null,
   "metadata": {
    "colab": {
     "base_uri": "https://localhost:8080/",
     "height": 936
    },
    "colab_type": "code",
    "executionInfo": {
     "elapsed": 1031,
     "status": "ok",
     "timestamp": 1595105648855,
     "user": {
      "displayName": "Antonela Tommasel",
      "photoUrl": "https://lh3.googleusercontent.com/a-/AOh14GhZHZvwAe7IBUffT-rd4hTz_uFFKkvW9vlfJO87sg=s64",
      "userId": "05608722526508464314"
     },
     "user_tz": 180
    },
    "id": "xxJXTi2qbUjU",
    "outputId": "a4f69a85-a18d-4ffb-99af-81635e6fdb63"
   },
   "outputs": [],
   "source": [
    "datapath = \"./sydneysiege-example/non-rumours/544266241511133186/source-tweet/544266241511133186.json\"\n",
    "jsondf = pd.read_json(datapath)\n",
    "\n",
    "print(jsondf.columns)\n",
    "jsondf"
   ]
  },
  {
   "cell_type": "markdown",
   "metadata": {
    "colab_type": "text",
    "id": "wG-Y5pP4DqhE"
   },
   "source": [
    "Pero, fíjense que la carga de forma directa no nos da como resultado lo que nosotros esperábamos. El ``.json`` que seleccionamos incluye un único tweet con todos sus atributos. Con lo que hubiésemos esperado obtener una fila con muchas columnas. Es necesario modificar la orientación para la carga del dataframe."
   ]
  },
  {
   "cell_type": "code",
   "execution_count": null,
   "metadata": {
    "colab": {
     "base_uri": "https://localhost:8080/",
     "height": 295
    },
    "colab_type": "code",
    "executionInfo": {
     "elapsed": 1141,
     "status": "ok",
     "timestamp": 1595105657741,
     "user": {
      "displayName": "Antonela Tommasel",
      "photoUrl": "https://lh3.googleusercontent.com/a-/AOh14GhZHZvwAe7IBUffT-rd4hTz_uFFKkvW9vlfJO87sg=s64",
      "userId": "05608722526508464314"
     },
     "user_tz": 180
    },
    "id": "h36vpgNpGDJX",
    "outputId": "6e52887f-f53a-40c3-b178-be87cd8ecb5f"
   },
   "outputs": [],
   "source": [
    "jsondf = pd.read_json(datapath,orient=\"index\").T\n",
    "jsondf = jsondf.set_index('id') # seteamos el id como index del frame\n",
    "jsondf"
   ]
  },
  {
   "cell_type": "code",
   "execution_count": null,
   "metadata": {},
   "outputs": [],
   "source": [
    "print(\"Columns: \",jsondf.columns)\n",
    "print(\"Rows: \",jsondf.index.values)\n",
    "\n",
    "print(\"Text: \",jsondf['text']) #accedemos al texto (para todas las filas)\n",
    "\n",
    "print(\"Entities: \",jsondf['entities']) # fíjense en este caso, que la estructura compleja la parseó como un dict, con lo que se puede acceder de forma directa\n",
    "\n",
    "for row in jsondf['entities']:\n",
    "    print(row)\n",
    "    print(\"Hashtags: \",row['hashtags'])"
   ]
  },
  {
   "cell_type": "markdown",
   "metadata": {
    "colab_type": "text",
    "id": "ib4Bya4yKOxk"
   },
   "source": [
    "Si quisiéramos, el ``.json`` podríamos parsearlo de forma directa:"
   ]
  },
  {
   "cell_type": "code",
   "execution_count": null,
   "metadata": {
    "colab": {},
    "colab_type": "code",
    "id": "v1D55zhwIGtW"
   },
   "outputs": [],
   "source": [
    "import json"
   ]
  },
  {
   "cell_type": "code",
   "execution_count": null,
   "metadata": {
    "colab": {
     "base_uri": "https://localhost:8080/",
     "height": 436
    },
    "colab_type": "code",
    "executionInfo": {
     "elapsed": 1078,
     "status": "ok",
     "timestamp": 1595093783911,
     "user": {
      "displayName": "Antonela Tommasel",
      "photoUrl": "https://lh3.googleusercontent.com/a-/AOh14GhZHZvwAe7IBUffT-rd4hTz_uFFKkvW9vlfJO87sg=s64",
      "userId": "05608722526508464314"
     },
     "user_tz": 180
    },
    "id": "EspxuFPl7hqO",
    "outputId": "667e8d14-b9d9-40aa-e2cd-4d5fc8015fe0"
   },
   "outputs": [],
   "source": [
    "with open(datapath) as json_file:\n",
    "    data = json.load(json_file)\n",
    "    print(data)\n",
    "    for x in data: # iteramos por todos los keys\n",
    "        print(x,\":\",data[x]) # accedemos a los datos"
   ]
  },
  {
   "cell_type": "markdown",
   "metadata": {
    "colab_type": "text",
    "id": "qNvg2hCsLghH"
   },
   "source": [
    "En caso de que se trate de un arreglo de objetos json."
   ]
  },
  {
   "cell_type": "code",
   "execution_count": null,
   "metadata": {
    "colab": {},
    "colab_type": "code",
    "id": "zSyrWWAJLlJZ"
   },
   "outputs": [],
   "source": [
    "array = '[\\\n",
    "    { \"name\":\"Ford\", \"models\":[ \"Fiesta\", \"Focus\", \"Mustang\" ] },\\\n",
    "    { \"name\":\"BMW\", \"models\":[ \"320\", \"X3\", \"X5\" ] },\\\n",
    "    { \"name\":\"Fiat\", \"models\":[ \"500\", \"Panda\" ] }\\\n",
    "  ]' # fíjense que las propiedades y valores están entre comillas dobles."
   ]
  },
  {
   "cell_type": "code",
   "execution_count": null,
   "metadata": {
    "colab": {
     "base_uri": "https://localhost:8080/",
     "height": 69
    },
    "colab_type": "code",
    "executionInfo": {
     "elapsed": 1043,
     "status": "ok",
     "timestamp": 1595093804274,
     "user": {
      "displayName": "Antonela Tommasel",
      "photoUrl": "https://lh3.googleusercontent.com/a-/AOh14GhZHZvwAe7IBUffT-rd4hTz_uFFKkvW9vlfJO87sg=s64",
      "userId": "05608722526508464314"
     },
     "user_tz": 180
    },
    "id": "o0qfxzu3Lmvq",
    "outputId": "32af4632-de36-4cca-bb6b-7168e6a6edb4"
   },
   "outputs": [],
   "source": [
    "jarray = json.loads(array)\n",
    "for js in jarray: # iteramos por cada uno de los objetos\n",
    "    print(js) # accedemos a los datos de cada objeto"
   ]
  },
  {
   "cell_type": "markdown",
   "metadata": {
    "colab_type": "text",
    "id": "BWBBQr53m5Qx"
   },
   "source": [
    "Para cargar un ``jsonarray`` en un dataframe, no hay que hacer nada especial, dado que pandas acepta como parámetro del constructor una lista de diccionarios:"
   ]
  },
  {
   "cell_type": "code",
   "execution_count": null,
   "metadata": {
    "colab": {
     "base_uri": "https://localhost:8080/",
     "height": 416
    },
    "colab_type": "code",
    "executionInfo": {
     "elapsed": 1124,
     "status": "ok",
     "timestamp": 1595102388912,
     "user": {
      "displayName": "Antonela Tommasel",
      "photoUrl": "https://lh3.googleusercontent.com/a-/AOh14GhZHZvwAe7IBUffT-rd4hTz_uFFKkvW9vlfJO87sg=s64",
      "userId": "05608722526508464314"
     },
     "user_tz": 180
    },
    "id": "GgWQoalEMd7r",
    "outputId": "c8c1bd54-9a1d-48e8-ff92-b2a78f2310e0"
   },
   "outputs": [],
   "source": [
    "listi = [x for x in jarray] # primero armamos\n",
    "pd.DataFrame(jarray)"
   ]
  }
 ],
 "metadata": {
  "colab": {
   "collapsed_sections": [],
   "name": "DUIA NLP (A) - Formato de datos",
   "provenance": [],
   "toc_visible": true
  },
  "kernelspec": {
   "display_name": "Python 3",
   "language": "python",
   "name": "python3"
  },
  "language_info": {
   "codemirror_mode": {
    "name": "ipython",
    "version": 3
   },
   "file_extension": ".py",
   "mimetype": "text/x-python",
   "name": "python",
   "nbconvert_exporter": "python",
   "pygments_lexer": "ipython3",
   "version": "3.7.6"
  }
 },
 "nbformat": 4,
 "nbformat_minor": 1
}
