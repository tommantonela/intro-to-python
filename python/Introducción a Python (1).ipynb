{
 "cells": [
  {
   "cell_type": "markdown",
   "id": "ef902338",
   "metadata": {},
   "source": [
    "# Introducción a Python: Hello World!\n",
    "\n",
    "Durante el curso vamos a estar desarrollando los aspectos prácticos utilizando Python. Para aquellos que no estén muy familiarizados con el lenguaje, acá tenemos una introducción al lenguaje.\n",
    "\n",
    "Si necesitan más material, algunos libros para consultar (si los quieren, los podemos compartir):\n",
    "* Introducing Python (Bill Lubanovic, O'Reilly Media, Inc., ISBN: 9781449359362)\n",
    "* Learning Python (Mark Lutz, O'Reilly Media, Inc. ISBN: 9781449355739)\n",
    "\n",
    "Cuentan con una serie de notebooks introductorias:\n",
    "* **Hello World!**\n",
    "* Tipos de datos.\n",
    "* Expresiones.\n",
    "* Estructuras de datos.\n",
    "* Condiciones, iteraciones.\n",
    "* Funciones.\n",
    "* Manejo de archivos.\n",
    "\n",
    "En las notebooks van a encontrar algunos ejercios (opcionales).\n",
    "\n",
    "Las notebooks se encuentran basadas en diversos tutoriales de Kaggle, y cursos de disponibles online."
   ]
  },
  {
   "cell_type": "markdown",
   "id": "4dc7a86d",
   "metadata": {},
   "source": [
    "Estas notebooks puede ser ejecutadas en Google Colab o en cualquier ambiente local como por ejemplo Jupyter. En caso de ejecutarlas localmente, se asume que Python (y las bibliotecas necesarias ya se encuentran instaladas y disponibles para el uso)."
   ]
  },
  {
   "cell_type": "markdown",
   "id": "810aa281",
   "metadata": {},
   "source": [
    "## Hello World!\n",
    "\n",
    "Cuando se comienza a aprender un lenguaje, lo primero que se suele hacer es realizar una impresión por pantalla.\n",
    "\n",
    "En este caso, vamos a imprimir el tradicional mensaje \"Hello World!\". \n",
    "\n",
    "Recordar que para ejecutar una celda, la misma debe estar seleccionada y hay que apretar ``Shift + Enter``."
   ]
  },
  {
   "cell_type": "code",
   "execution_count": null,
   "id": "d827ad07",
   "metadata": {},
   "outputs": [],
   "source": [
    "print('Hello World!')"
   ]
  },
  {
   "cell_type": "markdown",
   "id": "b3e595bf",
   "metadata": {},
   "source": [
    "#### Cómo saber qué versión de Python estamos utilizando?\n",
    "\n",
    "En la actualidad hay dos versiones de Python en uso: Python 2 y Python 3. Si bien Python 2 ya no es actualizado y se lo considera deprecado, todavía es posible encontrar recursos para dicha versión. En este curso, nos vamos a centrar en el uso de Python 3. \n",
    "\n",
    "Cómo saber qué versión tenemos instalada? \n",
    "\n",
    "Debieramos ver en la parte superior derecha de esta notebook que diga ``Python 3``. Sino, podemos optar por preguntárselo directamente a Python usando ``sys``. ``sys`` es un módulo que contiene algunas funciones y parámetros del sistema, incluyendo la versión de Python que está en uso."
   ]
  },
  {
   "cell_type": "code",
   "execution_count": null,
   "id": "65ff3082",
   "metadata": {},
   "outputs": [],
   "source": [
    "import sys\n",
    "print(sys.version)"
   ]
  },
  {
   "cell_type": "markdown",
   "id": "fac565bc",
   "metadata": {},
   "source": [
    "#### Agregar comentarios al código\n",
    "\n",
    "Como en cualquier lenguaje de programación, es una buena costumbre comentar el código para ayudar a otros a comprender la finalidad de lo implementado (además de ayudarnos a nosotros a recordar qué es lo que hicimos).\n",
    "\n",
    "Para escribir comentarios en Python, hay que colocar el símbolo ``#``. Cuando el código sea ejecutado, Python ignorará todo lo que se encuentre luego del ``#`` hasta el salto de línea."
   ]
  },
  {
   "cell_type": "code",
   "execution_count": null,
   "id": "a200ce2b",
   "metadata": {},
   "outputs": [],
   "source": [
    "# Escribiendo comentarios\n",
    "\n",
    "print('Hello, World!') # Imprimimos un string\n",
    "# print('Hi')"
   ]
  },
  {
   "cell_type": "markdown",
   "id": "b4afc767",
   "metadata": {},
   "source": [
    "Como se esperaba, solo se ejecutó el código que no está \"tapado\" por el ``#``. "
   ]
  },
  {
   "cell_type": "markdown",
   "id": "a6ca9e30",
   "metadata": {},
   "source": [
    "#### Errores\n",
    "\n",
    "Python provee soporte de errores. \n",
    "\n",
    "Por ejemplo, si se escribe mal ``print``, Python mostrará un mensaje de error:"
   ]
  },
  {
   "cell_type": "code",
   "execution_count": null,
   "id": "a548e43a",
   "metadata": {},
   "outputs": [],
   "source": [
    "frint(\"Hello World!\")"
   ]
  },
  {
   "cell_type": "markdown",
   "id": "7c539562",
   "metadata": {},
   "source": [
    "El mensaje nos dice: \n",
    "    \n",
    "* Dónde ocurrió el error. Útil cuando se tienen notebooks o scripts largos.\n",
    "* Qué tipo de error ocurrió. En este caso: ``NameError``.\n",
    "    \n",
    "Python intentó ejecutar la función ``frint``, pero no pudo determinar qué significa dado que no es una función pre-existente no una función definida por el usuario."
   ]
  },
  {
   "cell_type": "markdown",
   "id": "4ef3009d",
   "metadata": {},
   "source": [
    "Por supuesto, que el mensaje que se obtiene depende del error que se cometa. Por ejemplo, en la siguiente celda nos olvidamos de cerrar la cadena a imprimir:"
   ]
  },
  {
   "cell_type": "code",
   "execution_count": null,
   "id": "bf36df06",
   "metadata": {},
   "outputs": [],
   "source": [
    "print(\"Hello World!)"
   ]
  },
  {
   "cell_type": "markdown",
   "id": "99716edb",
   "metadata": {},
   "source": [
    "#### Indentación\n",
    "\n",
    "A diferencia de otros lenguajes que definen ámbitos utilizando llaves, Python usa indentación por bloques. Para comenzar un bloque de indentación, la línea anterior debe terminar en ``:``. Se aceptan tanto espacios como tabs (un tab equivale a 4 espacios), pero es más común utilizar espacios.\n",
    "\n",
    "Tener cuidado porque depende de donde de esté copiando el código puede haber problemas si se mezla indentación con espacios y con tabs."
   ]
  },
  {
   "cell_type": "code",
   "execution_count": null,
   "id": "cd9b612c",
   "metadata": {},
   "outputs": [],
   "source": [
    "x = 17\n",
    "if x == 17:\n",
    "    print('x is 17') # bloque del then"
   ]
  }
 ],
 "metadata": {
  "kernelspec": {
   "display_name": "Python 3",
   "language": "python",
   "name": "python3"
  },
  "language_info": {
   "codemirror_mode": {
    "name": "ipython",
    "version": 3
   },
   "file_extension": ".py",
   "mimetype": "text/x-python",
   "name": "python",
   "nbconvert_exporter": "python",
   "pygments_lexer": "ipython3",
   "version": "3.7.6"
  }
 },
 "nbformat": 4,
 "nbformat_minor": 5
}
