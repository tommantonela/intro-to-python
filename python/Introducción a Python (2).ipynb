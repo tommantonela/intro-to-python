{
 "cells": [
  {
   "cell_type": "markdown",
   "id": "6f82dec5",
   "metadata": {},
   "source": [
    "## Introducción a Python: Tipos de datos\n",
    "\n",
    "Durante el curso vamos a estar desarrollando los aspectos prácticos utilizando Python. Para aquellos que no estén muy familiarizados con el lenguaje, acá tenemos una introducción al lenguaje.\n",
    "\n",
    "Si necesitan más material, algunos libros para consultar (si los quieren, los podemos compartir):\n",
    "* Introducing Python (Bill Lubanovic, O'Reilly Media, Inc., ISBN: 9781449359362)\n",
    "* Learning Python (Mark Lutz, O'Reilly Media, Inc. ISBN: 9781449355739)\n",
    "\n",
    "Cuentan con una serie de notebooks introductorias:\n",
    "* Hello World!\n",
    "* **Tipos de datos.**\n",
    "* Expresiones.\n",
    "* Estructuras de datos.\n",
    "* Condiciones, iteraciones.\n",
    "* Funciones.\n",
    "* Manejo de archivos.\n",
    "\n",
    "En las notebooks van a encontrar algunos ejercios (opcionales).\n",
    "\n",
    "Las notebooks se encuentran basadas en diversos tutoriales de Kaggle, y cursos de disponibles online."
   ]
  },
  {
   "cell_type": "markdown",
   "id": "bb3153f1",
   "metadata": {},
   "source": [
    "### Tipos de datos\n",
    "\n",
    "Python es un lenguaje orientado a objetos. Hay numerosos tipos de objetos disponibles. Vamos a arrancar con los tipos más comunes:\n",
    "\n",
    "* Strings.\n",
    "* Enteros. \n",
    "* Flotantes. \n",
    "\n",
    "Como tipos, no existen ni los long (existía en Python 2), ni los double."
   ]
  },
  {
   "cell_type": "code",
   "execution_count": null,
   "id": "2f8f9172",
   "metadata": {},
   "outputs": [],
   "source": [
    "# Integer\n",
    "\n",
    "11"
   ]
  },
  {
   "cell_type": "code",
   "execution_count": null,
   "id": "f903578a",
   "metadata": {},
   "outputs": [],
   "source": [
    "# Float\n",
    "\n",
    "2.14"
   ]
  },
  {
   "cell_type": "code",
   "execution_count": null,
   "id": "2a46b887",
   "metadata": {},
   "outputs": [],
   "source": [
    "# String\n",
    "\n",
    "\"Hello, Aprendizaje de Máquina en Inteligencia Artificial!\""
   ]
  },
  {
   "cell_type": "markdown",
   "id": "79f6655e",
   "metadata": {},
   "source": [
    "Es posible obtener el tipo de una expresión utilizando la función ``type()``:\n",
    "* Integer -> ``int``.\n",
    "* Flotantes -> ``float``.\n",
    "* String -> ``str``."
   ]
  },
  {
   "cell_type": "code",
   "execution_count": null,
   "id": "58dc4ffd",
   "metadata": {},
   "outputs": [],
   "source": [
    "type(12)"
   ]
  },
  {
   "cell_type": "code",
   "execution_count": null,
   "id": "1c49aab5",
   "metadata": {},
   "outputs": [],
   "source": [
    "type(2.14)"
   ]
  },
  {
   "cell_type": "code",
   "execution_count": null,
   "id": "1f320586",
   "metadata": {},
   "outputs": [],
   "source": [
    "type(\"Hello, Aprendizaje de Máquina en Inteligencia Artificial!\")"
   ]
  },
  {
   "cell_type": "markdown",
   "id": "cc028e93",
   "metadata": {},
   "source": [
    "In the code cell below, use the type() function to check the object type of 12.0.\n",
    "\n"
   ]
  },
  {
   "cell_type": "markdown",
   "id": "f1712d53",
   "metadata": {},
   "source": [
    "### Integer\n",
    "\n",
    "Pueden ser números positivos o negativos. Por lo general se encuentran en el rango $[-2147483648, 2147483647]$. El tamaño puede ser mayor, pero no menor."
   ]
  },
  {
   "cell_type": "code",
   "execution_count": null,
   "id": "bb181d70",
   "metadata": {},
   "outputs": [],
   "source": [
    "type(-1), type(4), type(0)"
   ]
  },
  {
   "cell_type": "markdown",
   "id": "e8e2d2c8",
   "metadata": {},
   "source": [
    "### Float\n",
    "\n",
    "Representan los números reales. "
   ]
  },
  {
   "cell_type": "code",
   "execution_count": null,
   "id": "8edfba76",
   "metadata": {},
   "outputs": [],
   "source": [
    "type(1.0) # 1 es un int, mientras que 1.0 es un float"
   ]
  },
  {
   "cell_type": "markdown",
   "id": "292cec1d",
   "metadata": {},
   "source": [
    "Como en la gran mayoría de lenguajes de programación, puede haber problemas de representación de acuerdo a dónde estemos ejecutando el código. \n",
    "\n",
    "Para obtener información respecto a los límites podemos utilizar ``sys.float_info``."
   ]
  },
  {
   "cell_type": "code",
   "execution_count": null,
   "id": "4f70d4c7",
   "metadata": {},
   "outputs": [],
   "source": [
    "import sys\n",
    "sys.float_info"
   ]
  },
  {
   "cell_type": "markdown",
   "id": "80cf0eb3",
   "metadata": {},
   "source": [
    "### String\n",
    "\n",
    "Secuencias de chars. Para definirlos, hay que encerrarlos entre comillas. Pueden ser comillas simples (``'``) o dobles (``\"``), pero no se puede mezclar."
   ]
  },
  {
   "cell_type": "code",
   "execution_count": null,
   "id": "4c1e171b",
   "metadata": {},
   "outputs": [],
   "source": [
    "\"Machine Learning\""
   ]
  },
  {
   "cell_type": "code",
   "execution_count": null,
   "id": "944a9445",
   "metadata": {},
   "outputs": [],
   "source": [
    "'Machine Learning'"
   ]
  },
  {
   "cell_type": "code",
   "execution_count": null,
   "id": "e3a287f7",
   "metadata": {},
   "outputs": [],
   "source": [
    "\"Machine Learning'"
   ]
  },
  {
   "cell_type": "markdown",
   "id": "aab17365",
   "metadata": {},
   "source": [
    "Podemos asignarlos a variables:"
   ]
  },
  {
   "cell_type": "code",
   "execution_count": null,
   "id": "b75abc95",
   "metadata": {},
   "outputs": [],
   "source": [
    "name = \"Machine Learning\"\n",
    "name"
   ]
  },
  {
   "cell_type": "markdown",
   "id": "dc76781c",
   "metadata": {},
   "source": [
    "#### Indexado\n",
    "\n",
    "Los strings son secuencias ordenadas, donde cada elementos puede ser accedido utilizando un índice representado por el arreglo de números:"
   ]
  },
  {
   "cell_type": "markdown",
   "id": "0c720c18",
   "metadata": {},
   "source": [
    "![image.png](data:image/png;base64,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)"
   ]
  },
  {
   "cell_type": "markdown",
   "id": "c56e8e96",
   "metadata": {},
   "source": [
    "El indexado comienza en 0."
   ]
  },
  {
   "cell_type": "code",
   "execution_count": null,
   "id": "01714e5a",
   "metadata": {},
   "outputs": [],
   "source": [
    "print(name[0])"
   ]
  },
  {
   "cell_type": "code",
   "execution_count": null,
   "id": "bdaa24bc",
   "metadata": {},
   "outputs": [],
   "source": [
    "print(name[13])"
   ]
  },
  {
   "cell_type": "markdown",
   "id": "b910b2c3",
   "metadata": {},
   "source": [
    "##### Indexado negativo\n",
    "\n",
    "Podemos utilizar indexado negativo, con el cual accedemos a los elementos desde el final del elemento:"
   ]
  },
  {
   "cell_type": "markdown",
   "id": "efb594bb",
   "metadata": {},
   "source": [
    "![image.png](data:image/png;base64,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)"
   ]
  },
  {
   "cell_type": "markdown",
   "id": "90f759b6",
   "metadata": {},
   "source": [
    "Así, el último elemento puede ser accedido con el ``-1``."
   ]
  },
  {
   "cell_type": "code",
   "execution_count": null,
   "id": "ff20f05a",
   "metadata": {},
   "outputs": [],
   "source": [
    "print(name[-1])"
   ]
  },
  {
   "cell_type": "markdown",
   "id": "94f95a46",
   "metadata": {},
   "source": [
    "#### Longitud\n",
    "\n",
    "Podemos obtener la longitud de un string con la función ``len`` (abreviación de ``length``)."
   ]
  },
  {
   "cell_type": "code",
   "execution_count": null,
   "id": "dfec4cbc",
   "metadata": {},
   "outputs": [],
   "source": [
    "len(\"Machine Learning\")"
   ]
  },
  {
   "cell_type": "markdown",
   "id": "724017d8",
   "metadata": {},
   "source": [
    "#### Slicing\n",
    "\n",
    "Nos permite encontrar secuencias de chars dentro del string.\n",
    "\n",
    "El primer número del slicing nos da la posición de inicio, el segundo nos da la posición final del slice (no incluída en el slice)."
   ]
  },
  {
   "cell_type": "markdown",
   "id": "4da53bc5",
   "metadata": {},
   "source": [
    "![image.png](data:image/png;base64,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)"
   ]
  },
  {
   "cell_type": "code",
   "execution_count": null,
   "id": "36c3819d",
   "metadata": {},
   "outputs": [],
   "source": [
    "# Nos va a devolver los chars en las posiciones 0,1,2,3\n",
    "name[0:4]"
   ]
  },
  {
   "cell_type": "markdown",
   "id": "8d54a9be",
   "metadata": {},
   "source": [
    "#### Strive\n",
    "\n",
    "El slice como vimos nos devuelve secuencia de chars consecutivos, si queremos alterar esa secuencia, podemos utilizar un tercer valor. Por ejemplo, para obtener los chars cada dos posiciones (los que se encuentran en las posiciones pares):"
   ]
  },
  {
   "cell_type": "markdown",
   "id": "34147947",
   "metadata": {},
   "source": [
    "![image.png](data:image/png;base64,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)"
   ]
  },
  {
   "cell_type": "code",
   "execution_count": null,
   "id": "88fe1a82",
   "metadata": {},
   "outputs": [],
   "source": [
    "name[::2]"
   ]
  },
  {
   "cell_type": "markdown",
   "id": "d7cd2225",
   "metadata": {},
   "source": [
    "Mezclando el slice con el stride:"
   ]
  },
  {
   "cell_type": "code",
   "execution_count": null,
   "id": "053045f1",
   "metadata": {},
   "outputs": [],
   "source": [
    "# Entre los índices 0 y 4, obtenemos cada dos chars\n",
    "\n",
    "name[0:5:2]"
   ]
  },
  {
   "cell_type": "markdown",
   "id": "4e4dc151",
   "metadata": {},
   "source": [
    "#### Concatenación\n",
    "\n",
    "Podemos concatenar strings usando ``+``. El resultado es un nuevo string."
   ]
  },
  {
   "cell_type": "code",
   "execution_count": null,
   "id": "80e671c0",
   "metadata": {},
   "outputs": [],
   "source": [
    "name + \" rocks!\""
   ]
  },
  {
   "cell_type": "markdown",
   "id": "85b643e6",
   "metadata": {},
   "source": [
    "#### Secuencias \"especiales\"\n",
    "\n",
    "Cuando nos encontramos con ``\\``, estamos en presencia de una secuencia de escape. Estas representan strings que pueden ser difíciles de escribir, por ejemplo saltos de línea, el cual se simboliza como ``\\n``."
   ]
  },
  {
   "cell_type": "code",
   "execution_count": null,
   "id": "a0173d0a",
   "metadata": {},
   "outputs": [],
   "source": [
    "print(\"Machine Learning \\n rocks\" )"
   ]
  },
  {
   "cell_type": "markdown",
   "id": "f7b2b313",
   "metadata": {},
   "source": [
    "De forma similar, ``\\t`` representa un ``tab``."
   ]
  },
  {
   "cell_type": "code",
   "execution_count": null,
   "id": "9519fea1",
   "metadata": {},
   "outputs": [],
   "source": [
    "print(\"Machine Learning \\t rocks\")"
   ]
  },
  {
   "cell_type": "markdown",
   "id": "0bea8386",
   "metadata": {},
   "source": [
    "If you want to place a back slash in your string, use a double back slash:\n",
    "Cada vez que se escribe ``\\``, el intérprete va a intentar decodificar lo que sigue como una secuencia especial. Si quisiéramos insertar una ``\\`` en nuestro string, hay que agregarle otra más:\n"
   ]
  },
  {
   "cell_type": "code",
   "execution_count": null,
   "id": "39f5745a",
   "metadata": {},
   "outputs": [],
   "source": [
    "print(\"Machine Learning \\\\n rocks\" )"
   ]
  },
  {
   "cell_type": "markdown",
   "id": "e45c1023",
   "metadata": {},
   "source": [
    "#### Operaciones con strings\n",
    "\n",
    "Existen algunas operaciones manipulación de strings. Por ejemplo: ``upper`` y ``lower``, las cuales convierten el string en mayúsculas o minúsculas dependiendo del caso:"
   ]
  },
  {
   "cell_type": "code",
   "execution_count": null,
   "id": "08fc4c50",
   "metadata": {},
   "outputs": [],
   "source": [
    "print(name)\n",
    "print(name.upper())\n",
    "print(name.lower())"
   ]
  },
  {
   "cell_type": "markdown",
   "id": "696a98ef",
   "metadata": {},
   "source": [
    "#### Replace\n",
    "\n",
    "Sirve para reemplazar un substring por otro. Dos parámetros: 1) qué queremos cambiar, 2) reemplazo."
   ]
  },
  {
   "cell_type": "code",
   "execution_count": null,
   "id": "e3e3a832",
   "metadata": {},
   "outputs": [],
   "source": [
    "\"Machine Learning is the best!\" .replace('best', 'worst')"
   ]
  },
  {
   "cell_type": "markdown",
   "id": "e0517334",
   "metadata": {},
   "source": [
    "#### Find\n",
    "\n",
    "Permite encontrar un substring. Recibe un argumento, aquello que queremos buscar y devuelve el primer índice de esa secuencia."
   ]
  },
  {
   "cell_type": "code",
   "execution_count": null,
   "id": "63d51946",
   "metadata": {},
   "outputs": [],
   "source": [
    "'Machine Learning'.find('Le')"
   ]
  },
  {
   "cell_type": "markdown",
   "id": "2845c5c3",
   "metadata": {},
   "source": [
    "Si el substring no puede ser encontrado, devuelve un valor negativo:"
   ]
  },
  {
   "cell_type": "code",
   "execution_count": null,
   "id": "eac27a9e",
   "metadata": {},
   "outputs": [],
   "source": [
    "'Machine Learning'.find('lala')"
   ]
  },
  {
   "cell_type": "markdown",
   "id": "a8c409f5",
   "metadata": {},
   "source": [
    "#### Ejercicios"
   ]
  },
  {
   "cell_type": "markdown",
   "id": "0de818d3",
   "metadata": {},
   "source": [
    "Considerando la variable ``D``."
   ]
  },
  {
   "cell_type": "code",
   "execution_count": null,
   "id": "5c3806fd",
   "metadata": {},
   "outputs": [],
   "source": [
    "D = \"ABCDEFG\""
   ]
  },
  {
   "cell_type": "markdown",
   "id": "1752ceeb",
   "metadata": {},
   "source": [
    "Encontrar su longitud:"
   ]
  },
  {
   "cell_type": "code",
   "execution_count": null,
   "id": "b148e53c",
   "metadata": {},
   "outputs": [],
   "source": [
    "# TODO"
   ]
  },
  {
   "cell_type": "markdown",
   "id": "26a676b2",
   "metadata": {},
   "source": [
    "Utilizar stride 2 para obtener los chars en posiciones pares:"
   ]
  },
  {
   "cell_type": "code",
   "execution_count": null,
   "id": "4c5caa7b",
   "metadata": {},
   "outputs": [],
   "source": [
    "# TODO"
   ]
  },
  {
   "cell_type": "markdown",
   "id": "9a65f990",
   "metadata": {},
   "source": [
    "Convertir ``D`` a minúscula:"
   ]
  },
  {
   "cell_type": "code",
   "execution_count": null,
   "id": "8c0159e4",
   "metadata": {},
   "outputs": [],
   "source": [
    "# TODO"
   ]
  },
  {
   "cell_type": "markdown",
   "id": "1fa53efd",
   "metadata": {},
   "source": [
    "### Conversiones entre tipos numéricos y string\n",
    "\n",
    "Esto se denomina \"casting\" o \"type casting\"."
   ]
  },
  {
   "cell_type": "code",
   "execution_count": null,
   "id": "27a1d57f",
   "metadata": {},
   "outputs": [],
   "source": [
    "type(2)"
   ]
  },
  {
   "cell_type": "code",
   "execution_count": null,
   "id": "5aa1b67f",
   "metadata": {},
   "outputs": [],
   "source": [
    "float(2)"
   ]
  },
  {
   "cell_type": "code",
   "execution_count": null,
   "id": "89cf04ef",
   "metadata": {},
   "outputs": [],
   "source": [
    "type(float(2))"
   ]
  },
  {
   "cell_type": "markdown",
   "id": "78e40e33",
   "metadata": {},
   "source": [
    "Cuando convertimos un valor ``int`` a un ``float`` no estamos cambiando realmente su valor. Sin embargo, al revés podría haber pérdida de información. Por ejemplo, si casteamos ``1.1`` a ``int``, vamos a perder la información del decimal:"
   ]
  },
  {
   "cell_type": "code",
   "execution_count": null,
   "id": "16592fa3",
   "metadata": {},
   "outputs": [],
   "source": [
    "int(1.1)"
   ]
  },
  {
   "cell_type": "markdown",
   "id": "73c1fd73",
   "metadata": {},
   "source": [
    "En ocasiones, podemos tener un string que contiene un número. Es posible extraerlo haciendo un casting:"
   ]
  },
  {
   "cell_type": "code",
   "execution_count": null,
   "id": "de393560",
   "metadata": {},
   "outputs": [],
   "source": [
    "int('1')"
   ]
  },
  {
   "cell_type": "code",
   "execution_count": null,
   "id": "f01e2fce",
   "metadata": {},
   "outputs": [],
   "source": [
    "float('1.2')"
   ]
  },
  {
   "cell_type": "markdown",
   "id": "4c0539a8",
   "metadata": {},
   "source": [
    "Pero si se lo quiere hacer con un string que no es un match perfecto para un número, se obtendrá un error."
   ]
  },
  {
   "cell_type": "code",
   "execution_count": null,
   "id": "0f698c5d",
   "metadata": {},
   "outputs": [],
   "source": [
    "int('1 a 3')"
   ]
  },
  {
   "cell_type": "markdown",
   "id": "e9e54b86",
   "metadata": {},
   "source": [
    "También podemos convertir números a strings.\n",
    "\n",
    "Esto es necesario para las impresiones o cuando estamos tratando de concatenar elementos en un único string."
   ]
  },
  {
   "cell_type": "code",
   "execution_count": null,
   "id": "7843b2d8",
   "metadata": {},
   "outputs": [],
   "source": [
    "str(1)"
   ]
  },
  {
   "cell_type": "code",
   "execution_count": null,
   "id": "91bd208d",
   "metadata": {},
   "outputs": [],
   "source": [
    "str(1.2)"
   ]
  },
  {
   "cell_type": "markdown",
   "id": "16a9f7d1",
   "metadata": {},
   "source": [
    "### Boolean\n",
    "\n",
    "Pueden tomar uno de dos valores ``True`` o ``False``.\n",
    "\n",
    "Notar la mayúscula al inicio."
   ]
  },
  {
   "cell_type": "code",
   "execution_count": null,
   "id": "3aba54cf",
   "metadata": {},
   "outputs": [],
   "source": [
    "True, False"
   ]
  },
  {
   "cell_type": "code",
   "execution_count": null,
   "id": "555cc5aa",
   "metadata": {},
   "outputs": [],
   "source": [
    "type(True)"
   ]
  },
  {
   "cell_type": "markdown",
   "id": "ab99e6d9",
   "metadata": {},
   "source": [
    "Los ``bool`` pueden ser casteados a otros tipos. Si casteamos un ``bool`` con un valor de ``True`` a un ``int`` o ``float`` vamos a obtener un ``1``. De forma similar, si casteamos un ``False`` vamos a obtener un ``0``. Al revés, si casteamos un ``1`` a un ``bool`` vamos a obtener un ``True``. "
   ]
  },
  {
   "cell_type": "code",
   "execution_count": null,
   "id": "51b35ab3",
   "metadata": {},
   "outputs": [],
   "source": [
    "int(True)"
   ]
  },
  {
   "cell_type": "code",
   "execution_count": null,
   "id": "81495a00",
   "metadata": {},
   "outputs": [],
   "source": [
    "bool(1)"
   ]
  },
  {
   "cell_type": "code",
   "execution_count": null,
   "id": "1f5b629a",
   "metadata": {},
   "outputs": [],
   "source": [
    "float(True)"
   ]
  }
 ],
 "metadata": {
  "kernelspec": {
   "display_name": "Python 3",
   "language": "python",
   "name": "python3"
  },
  "language_info": {
   "codemirror_mode": {
    "name": "ipython",
    "version": 3
   },
   "file_extension": ".py",
   "mimetype": "text/x-python",
   "name": "python",
   "nbconvert_exporter": "python",
   "pygments_lexer": "ipython3",
   "version": "3.7.6"
  }
 },
 "nbformat": 4,
 "nbformat_minor": 5
}
