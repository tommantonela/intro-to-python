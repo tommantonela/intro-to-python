{
 "cells": [
  {
   "cell_type": "markdown",
   "id": "1bcbd309",
   "metadata": {},
   "source": [
    "## Introducción a Python: Condiciones, iteraciones\n",
    "\n",
    "Durante el curso vamos a estar desarrollando los aspectos prácticos utilizando Python. Para aquellos que no estén muy familiarizados con el lenguaje, acá tenemos una introducción al lenguaje.\n",
    "\n",
    "Si necesitan más material, algunos libros para consultar (si los quieren, los podemos compartir):\n",
    "* Introducing Python (Bill Lubanovic, O'Reilly Media, Inc., ISBN: 9781449359362)\n",
    "* Learning Python (Mark Lutz, O'Reilly Media, Inc. ISBN: 9781449355739)\n",
    "\n",
    "Cuentan con una serie de notebooks introductorias:\n",
    "* Hello World!\n",
    "* Tipos de datos.\n",
    "* Expresiones.\n",
    "* Estructuras de datos.\n",
    "* **Condiciones, iteraciones.**\n",
    "* Funciones.\n",
    "* Manejo de archivos.\n",
    "\n",
    "En las notebooks van a encontrar algunos ejercios (opcionales).\n",
    "\n",
    "Las notebooks se encuentran basadas en diversos tutoriales de Kaggle, y cursos de disponibles online."
   ]
  },
  {
   "cell_type": "markdown",
   "id": "51bdde2b",
   "metadata": {},
   "source": [
    "## Sentencias condicionales\n",
    "\n",
    "Estas sentencias se basan en las operaciones de comparación que ya vimos:\n",
    "\n",
    "| Símbolo | Operación |\n",
    "|----|---|\n",
    "| == | True si los elementos son iguales |\n",
    "| !=  | True si los elementos son distintos |\n",
    "| < | True si el primer elemento es menor que el segundo |\n",
    "| > | True si el primer elemento es mayor que el segundo |\n",
    "| <=  | True si el primer elemento es menor o igual que el segundo |\n",
    "| >=  | True si el primer elemento es mayor o igual que el segundo|"
   ]
  },
  {
   "cell_type": "markdown",
   "id": "51d08529",
   "metadata": {},
   "source": [
    "Las sentencias condicionales (branching) nos permiten ejecutar diferentes fragmentos de código de acuerdo a los inputs. \n",
    "\n",
    "Sintaxis:"
   ]
  },
  {
   "cell_type": "markdown",
   "id": "014cce6f",
   "metadata": {},
   "source": [
    "![image.png](data:image/png;base64,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)"
   ]
  },
  {
   "cell_type": "markdown",
   "id": "7906eb50",
   "metadata": {},
   "source": [
    "### if\n",
    "\n",
    "```\n",
    "if some_condition:\n",
    "    bloque then\n",
    "```"
   ]
  },
  {
   "cell_type": "code",
   "execution_count": null,
   "id": "ab2f258f",
   "metadata": {},
   "outputs": [],
   "source": [
    "x = 12\n",
    "\n",
    "if x >10:\n",
    "    print(\"hello\")"
   ]
  },
  {
   "cell_type": "markdown",
   "id": "2f5be649",
   "metadata": {},
   "source": [
    "### if-else\n",
    "\n",
    "if some_condition:\n",
    "    bloque then\n",
    "else:\n",
    "    bloque else"
   ]
  },
  {
   "cell_type": "code",
   "execution_count": null,
   "id": "674eec65",
   "metadata": {},
   "outputs": [],
   "source": [
    "x = 12\n",
    "\n",
    "if x > 10:\n",
    "    print(\"hello\")\n",
    "else:\n",
    "    print(\"world\")"
   ]
  },
  {
   "cell_type": "markdown",
   "id": "4ad75594",
   "metadata": {},
   "source": [
    "### if-elif\n",
    "\n",
    "Incluye otro chequeo (anidado) en el else.\n",
    "\n",
    "```\n",
    "if some_condition:\n",
    "    bloque then\n",
    "elif some_condition:\n",
    "    bloque then del else\n",
    "else:\n",
    "    bloque else\n",
    "```\n",
    "\n",
    "Es el equivalente a:\n",
    "\n",
    "```\n",
    "if some_condition:\n",
    "    bloque then\n",
    "else:\n",
    "    if some_condition:\n",
    "        bloque then del else\n",
    "    else:\n",
    "        bloque else\n",
    "```"
   ]
  },
  {
   "cell_type": "code",
   "execution_count": null,
   "id": "8a251595",
   "metadata": {},
   "outputs": [],
   "source": [
    "x = 10\n",
    "y = 12\n",
    "\n",
    "if x > y:\n",
    "    print(\"x>y\")\n",
    "elif x < y:\n",
    "    print(\"x<y\")\n",
    "else:\n",
    "    print(\"x=y\")"
   ]
  },
  {
   "cell_type": "code",
   "execution_count": null,
   "id": "e3e7c6b2",
   "metadata": {},
   "outputs": [],
   "source": [
    "if x > y:\n",
    "    print(\"x>y\")\n",
    "else:\n",
    "    if x < y:\n",
    "        print(\"x<y\")\n",
    "    else:\n",
    "        print(\"x=y\")"
   ]
  },
  {
   "cell_type": "markdown",
   "id": "2cdfbeed",
   "metadata": {},
   "source": [
    "## Iteraciones\n",
    "\n",
    "A veces vamos a querer ejecutar una operación múltiples veces, para esto vamos a utilizar ciclos. Vamos a ver dos tipos: ``for`` y ``while``."
   ]
  },
  {
   "cell_type": "markdown",
   "id": "c8d15bb8",
   "metadata": {},
   "source": [
    "En ocasiones, nos va a ser de utilidad el ``range``, que nos permite generar secuencias de elementos. \n",
    "\n",
    "Por ejemplo:"
   ]
  },
  {
   "cell_type": "markdown",
   "id": "40faf39f",
   "metadata": {},
   "source": [
    "![image.png](data:image/png;base64,iVBORw0KGgoAAAANSUhEUgAAAQsAAAC3CAYAAAAFKnvoAAASGUlEQVR4Ae2dsaocyRWG7xs5cuJkg91UiRODQ+NAGAfLgjMFTg0CZzbIDyDjUMZsdA2GBeFMqcCJQmV6gzb/wBn9t29Vd9VM10x19VcwdE931alT/6nzdVXfEXqYKCiAAihQoMBDQR2qoAAKoMAELJgEKIACRQoAiyKZqIQCKAAsmAMogAJFCgCLIpmohAIoACyYAyiAAkUKAIsimaiEAigALJgDKIACRQoAiyKZqIQCKAAsmAMogAJFCgCLIpmohAIoACyYAyiAAkUKAIsimaiEAigALJgDKIACRQoAiyKZqIQCKAAsmAMogAJFCgCLIpmo1FqBV69eTW/fvm3dzdn+58+fpxcvXkzv378/X+NkWQFgsawPd2+ggEDx8PBw+nz69OkGPU7T69evz31++PDhJn3uvRNgsfcI7tx/rSYCFKVJ+/Hjx+nx8fG0ElHS6/Pu3buptH1I5pCqbRs2jnQEFkeKdmdj1RYgQFG6BYn6uaO2FgJJSfny5ctpKyJbaqetCSWvALDIa8OdhgooMSPh9YQvLd4mVhU6vnz58mxPdUqBoW2P2yz144j1gMURo97BmJXgkaQ1T/Sl7YKvVGS7tGgLE77wwjOvWrmieRvcQYEqBZTwkZxK1C3LmzdvzrZrXpZqGyKfdKSkFQAW03R6ORYvyUImTTRNvJhEWiqXLG318k0JIHvRVpNQ7bUvX5vASiS11SeKbHoSlPoS7WXTxyK/oo/5MfeU1/5e41LfkegxJt2rKW6jpl1JXcUo/FvT2u15O1YXrszXc2Axff0zWiSoL0tj4sVREz1XfMJF/dRx6WWe21A//teCua0lX8JHjWnebul7KsEEGwdfqr3qlBR/V7GkQ4mtVB3XLzWWVJu4FuPS+w/KcwWAxQwWnpw61+TTx5MllxgxUZXEOtcTShNWR7erSblmQ3W8Tc4X9ZMrvhoRNCJ5lLBuW2OTHX3mqwStaiKJVC/GJFuqX6KL++cglu2tS7zolF+1xfXKrbBqbY5UH1gYLDwpIrEi2Poe92MFEvfiuDbBBIiwkVsVKAGjjo6a9HO7+h51ck9Br5Pz1xM3B6+AwVI/UackQTXu8D102+roALwERAJh+KZzylMFgMUMFqnkDMniqaUJdWlZSxaHxZIvvr1I+eJ2comjVUQkh56q81JiQ228Xg46YTv6ywEs6q0d1d4/YVea5ca7ZtMfCAIP5akCl8/6p3Z2/c0Tb76i8IF5Pb9ec75mozTx/Cma6t/tLI0pkkx+zUuAbW3F4KsYrVZypbRerr1fD7/nR41jDVhuZ34e9lJ6zOse7TuwmK0sliaAJrsSbyn5vL3Xj3aRgJqUqVKa5F5vzU7uSevJm3qS1iROSV1pEPXk/zVF7eOjVZHrqj4uTfbwL7ftusbnvbdNz9i9j6rSf02smCSVTZ9VV0L4i7Kwmzo+azxb0i9BaQ0WDgIlUqq4n3OgePuU77lrS0m6JSxS49G2ymOZ2lql2vk1H5df53zif1HXJPAJds2k8K1BTDolquzHR0v6uJfqyyFwDSxk219gyg8tz2VTYPAx63xePLHD35JjylbYdpsaZ6vi75bmf91Z6zPGyMriuVKsLDaChRLRJ1ou0T1Jn4fj6cvCnA21c6ik7OjafGke/vkxl9z+8jNXJ9dv7vqtYOHaLGmY8jO02WrMqT72eg1YbAQLh8DSBPV6qUlTOtG9XokdrTLUd3y0ClryUzYjcXLbmFS/S9daACjVn2uzNkZv7/5dsoVxWyOeA4uNYBGJpeNS8ad9ql7pRPd6KTvRj+BwaXGw1S7nc33GNmztLyy59iXXY+yKRY3f2p5FHKUv5akCyzP7ad1hv3lSXDpI3yfnbPgLxRxUHAJLT0Wvl+ovkvKavbdvrbZaXbgGeom6dXGfa0Hp73ha+Lb1WG9tD1hstLLwl5uapPFE01GJHckbT67WsHB/1Jd8mn/kl36puJQY/pQWeJSM86L2eiov/cYi2ngyl9SPdjoKnvGZX5ddjS/0ld4RA6+7dB7AvwawS/b3fg9YbAQLJUwKCDF5I2H96ZWaPL5iuGZlIdue6O5H6lyJlipKuBo7KRvza6GTjjXFtUmNIa7J3yUApvp0iKkfynMFgMVGsJC0mqD+dIvJ609kn/DPw/H0rxzXwMLhpaRUv1pt+OoinqThZw4Y8lPt5/WjnY7qo/SloGug89Li7bzvOFf/qZVPif2IWy3ASmyPUgdYNIiknsaxXK59wm3ljiZ9JPGSTfkZdVV/zV8fW4xxyX7uXvRZm5yp/td8zvkQ11lVhBLLR2CxrM8u7/q/nix5csdTVbBYWs1sKYb7WLoi2bJ/txXg4l2Fq/L8HFg812T3V3y5XrIs93cSenLfqjikSvxs4Zf7cCtQthjHLWwCi1uofOM+fFktECwBwP9qosS5dYmneskWaGvffOwlK7Ct+9+bPWCxt4gV+uurBSWivgsGSop40anr8dH9e5T5i9hr3z+UjsG3QdKDsq4AsFjXaLc1/MkZUJgf9WS/91M1gHFLYMXqC1CUT29gUa7VbmtqLy4gzD897dFvtaLwIPY0fver13Ng0Wtk8AsFOlMAWHQWENxBgV4VABa9Rga/UKAzBYBFZwHBHRToVQFg0Wtk8AsFOlMAWHQWENxBgV4VABa9Rga/UKAzBYBFZwHBHRToVQFg0Wtk8AsFOlMAWHQWENxBgV4VABa9Rga/UKAzBYBFZwHBHRToVQFg0Wtk8AsFOlMAWHQWENxBgV4VABa9RqaBX3/8y+P0s1/+edOPbFKOoQCwOEacT6P81R/eTt/87sfpux9+2uQjW7JJOYYCwOIYcT6NElgcKNgNhgosGojaq0lg0Wtk9uEXsNhHnDbxElhsIuNhjQCLA4UeWBwo2A2GCiwaiNqrSWDRa2T24Rew2EecNvESWGwi42GNAIsDhR5YHCjYDYYKLBqI2qtJYNFrZPbhF7DYR5w28RJYbCLjYY0AiwOFHlgcKNgNhgosGojaq0lg0Wtk9uEXsNhHnDbxElhsIuNhjQCLA4UeWBwo2A2GCiwaiNqrSWDRa2T24Rew2EecNvESWGwi42GNAIsDhR5YHCjYDYYKLBqI2qtJYNFrZPbhF7DYR5w28RJYbCLjYY0AiwOFHlgcKNgNhgosGojaq0lg0Wtk9uEXsNhHnDbxElhsIuNhjQCLA4UeWBwo2A2GCiwaiNqrSWDRa2T24Rew2EecNvESWGwi42GNAIsDhR5YHCjYDYYKLBqI2qtJYNFrZPbhF7DYR5w28RJYbCLjYY0AiwOFHlgcKNgNhgosGojaq0lg0Wtk9uEXsNhHnDbxElhsIuNhjQCLA4UeWBwo2A2GCiwaiHprk//+7/+mv/79/ern29/+bfrmdz9O3/3w0yYf2ZLNkr7lI2XfCgCLfcfv5P33f/rX9PNfv5l+8Zt/rH6+/f4/m4BCwJGtkj7lm3yk7FsBYLHv+J29VzJ+9/t/bgaCrVYf8glQnMO06xNgsevwPXW+O2AAiqcB2vk3YLHzAM7d7wYYgGIemt1/Bxa7D+HzAdwdGIDieVAGuAIsBghiagh3AwagSIVjiGvAYogwpgdxc2AAinQgBrkKLAYJZG4YNwMGoMiFYJjrwGKYUOYH0hwYgCIv/kB3gMVAwVwaSjNgAIol2Ye6ByyGCufyYDYHBqBYFnywu8BisICuDWczYACKNamHuw8shgvp+oCuBgagWBd5wBrAYsCglgzpYmAAihJ5h6wDLIYMa9mgqoEBKMqEHbQWsBg0sKXDKgYGoCiVdNh6wGLY0JYPbBUYgKJczIFrAouBg1sztCwwAEWNjEPXBRZDh7ducM+AASjqBBy8NrAYPMC1wzsDA1DUSjd8fWAxfIjrByhg6ENBAVcAWLganKMACmQVABZZabiBAijgCgALV4NzFECBrALAIisNN1AABVwBYOFqcI4CKJBVAFhkpeEGCqCAKwAsXA3OUQAFsgoAi6w03EABFHAFgIWrwTkKoEBWAWCRlYYbKIACrgCwcDU4RwEUyCoALLLScAMFUMAVABauBucogAJZBYBFVhpuoAAKuALAwtXgHAVQIKsAsMhKww0UQAFXAFi4GgXnHz58mF6/fp39FJigyg0UWIvT58+fb+DFWF0Ai8p4Pj4+Tg8PD9lPpTmqN1JgLU6fPn1q1PO4ZoFFZWx9Eup8/qkx9/Hjx+ndu3fnVYps9TCJ379/fx5XzXi2qvvly5dT/2/evDlpo6N80vXSIh3nsdGKMEDfg86lY+mlHrCojIQmYEy4yqbn6loCv3z58mwn7MVRk7omMc6GrzzR0n3u15Umq5sLDKFD6ij9Ly0eO2BRryKwqNTMJ1xl01N1geLFixfnhFByxjsQv67zW5UUJCJRb+XDXBeNP3SZA+xSYHjsgEV9ZIFFpWY+4Sqbnqr7xNfSel5evXp1Bomesi2LEsb9ESDm31v277YFiwBUCgbSKu7reMnKy2MHLFz9snNgUabTuZZPuPPFwhOf8KmECDOesJckRdhZO759+/acgOpTKwwVT8o1G1veV/+CRq74FiUF2ly7uO6xAxahSvkRWJRrdarpE66y6fmpvbbFUNJEwuoFaKsSS/85uKJvHXsqrotAV1s8dsCiVr1p6ms21Pt/8xY+4Wo61wohknBtovsTX9uSW5fwszdYKMHDN73PqC0eO2BRqx6wqFbMJ1xNY38q6jxVBBR/ZxGJkarb8lr02xssXEPFobZ47IBFrXrAoloxn3A1jb1daqLqNxf+1xBP2JbvLVJj8L5T9+91zVdc0qu2rMWg1t7R6rMNqYy4T7iapt5uDgu9l/AE1cs7vzavX9PvJXXdl0vat2jj2zi9jL2kLMXgEntHawMsKiPuE66mqbeL5NcLRt92KAnirwGp+jX9XVO3R1i4TpesKqTHPTW9Jh69tAUWlZHwCVfT1NsJFtp/+7Zj/puKef2avq6t2xssfPux9nJ4aez31HTJr73cAxaVkfIJV9PU2/lTUomZ+s2A14/VRk1/19TtCRYOCul2TXFNY3V3jb2jtQUWlRH3CVfT1NtFMmry50CgPw1GvZp+tqgb/ep4z7IlKDQOjwGwqI/sfWdDvb93b+ETrsYZ7bM9CdeW0/Erzktf5tX4Nq/rfs7v3er71qCQ3x47YFEfSWBRqZlPuJqm/jZ/bTntddegUuNDad17w6IFKDR2jx2wKJ0NX+sBi69aFJ35hCtqYJX8XcXSbyc8WUrf/IdtbV9yWxtzZfH0Wlhc44uPfQ2qi4NI3PTYAYuEQCuXgMWKQPPbPuHm99a++y8Qc4mgRI9kLd2CuE9qe8lPod336F/H2nKNLw6Ka8eQ8tt9AxYphZav1c+GZXvD3/UJd8lg46mrRNR5rBy00pBt/3Nq6YR2nyLRS1YX0afa+yds6OjXdb7mk+p4e52X+OI/QpMG835T33M/m8/FxX1bG0fOxpGvA4vK6PuEq2x6qq4EjZeX86Ty7zWJIJsOGdkpSQbV8T5LzjX+pXKpL/7XnxI/VKd29eGxK9FnaZxHvAcsKqPuE66y6ZPqWnLPEzwSoORJ/MTYNJ1+5OVJVpIMLWAhv3y7JZ9KfAEW84j29x1YVMZkK1hEt0qk+MS1S47zxL/ExlZtevLFx+Sxk4+UOgWARZ1ep710PMErmzat7k9zrVruWXryxXUAFq5G/TmwqNTMJ1xl02bV9XPx2NLoqPcG9yo9+TLXwGPHymKuzvp3YLGu0ZMaPuGe3LjxF73XmO/zBYpL3ndc63pPviyNxWMHLJaUSt8DFmldsld9wilZ559sw41v+HsBQeKeW4+efAmZtRWax8b/CgUsQqnyI7Ao1+pU02ER7y78WGnuquqa8L1M+p58kahrcepFt6smwI0bA4tKwTXJNBFzn0pzVG+kwFqc7vlep9GQm5sFFs0lpgMUGEMBYDFGHBkFCjRXAFg0l5gOUGAMBYDFGHFkFCjQXAFg0VxiOkCBMRQAFmPEkVGgQHMFgEVziekABcZQAFiMEUdGgQLNFQAWzSWmAxQYQwFgMUYcGQUKNFcAWDSXmA5QYAwFgMUYcWQUKNBcAWDRXGI6QIExFAAWY8SRUaBAcwWARXOJ6QAFxlAAWIwRR0aBAs0VABbNJaYDFBhDAWAxRhwZBQo0VwBYNJeYDlBgDAWAxRhxZBQo0FwBYNFcYjpAgTEU+D+SJZIOmynv5QAAAABJRU5ErkJggg==)"
   ]
  },
  {
   "cell_type": "code",
   "execution_count": null,
   "id": "feaddadf",
   "metadata": {},
   "outputs": [],
   "source": [
    "range(3)"
   ]
  },
  {
   "cell_type": "markdown",
   "id": "69dc9b49",
   "metadata": {},
   "source": [
    "### for\n",
    "\n",
    "El ``for`` permite ejecutar un bloque de código múltiples veces. \n",
    "\n",
    "Por ejempo, podemos imprimir una secuencia de números. En este caso el código del indent es ejecutado 8 veces, y el valor de ``i`` es incrementado en 1 en cada ejecución."
   ]
  },
  {
   "cell_type": "code",
   "execution_count": null,
   "id": "2ff3cadc",
   "metadata": {},
   "outputs": [],
   "source": [
    "for i in range(0, 8):\n",
    "    print(i)"
   ]
  },
  {
   "cell_type": "markdown",
   "id": "7d007042",
   "metadata": {},
   "source": [
    "Por ejemplo, para imprimir todos los elementos en una lista:"
   ]
  },
  {
   "cell_type": "code",
   "execution_count": null,
   "id": "48131cf9",
   "metadata": {},
   "outputs": [],
   "source": [
    "dates = [1975,1989,2021]\n",
    "\n",
    "for i in range(len(dates)): # creamos un range desde 0 hasta el tamaño de la lista\n",
    "    print(dates[i])    "
   ]
  },
  {
   "cell_type": "markdown",
   "id": "fcbe3a57",
   "metadata": {},
   "source": [
    "En el caso de las listas, también podemos acceder de forma directa a los elementos."
   ]
  },
  {
   "cell_type": "code",
   "execution_count": null,
   "id": "336b15a6",
   "metadata": {},
   "outputs": [],
   "source": [
    "for year in dates:  \n",
    "    print(year)   "
   ]
  },
  {
   "cell_type": "markdown",
   "id": "a752de0a",
   "metadata": {},
   "source": [
    "También podemos acceder de forma conjunta al índice y al elemento en la posición:"
   ]
  },
  {
   "cell_type": "code",
   "execution_count": null,
   "id": "05fc585f",
   "metadata": {},
   "outputs": [],
   "source": [
    "for i, date in enumerate(dates):\n",
    "    print(i, date)"
   ]
  },
  {
   "cell_type": "markdown",
   "id": "18926872",
   "metadata": {},
   "source": [
    "### while\n",
    "\n",
    "Los ``for`` son utilizados para flujos controlados de repetición. Sin embargo, si no sabemos cuándo se va a terminar el ciclo, no nos sirven. En este caso, vamos a utilizar un ``while``, el cual va a ejecutarse mientras se cumpla una condición dada.\n",
    "\n",
    "Por ejemplo, queremos iterar por la lista que habíamos definido antes, mientras los años sean menores que 1990. Una vez que salimos del ciclo, queremos imprimir la cantidad de iteraciones."
   ]
  },
  {
   "cell_type": "code",
   "execution_count": null,
   "id": "9bab9128",
   "metadata": {},
   "outputs": [],
   "source": [
    "i = 1\n",
    "year = dates[0]\n",
    "\n",
    "while(year < 1990):\n",
    "    print(year)\n",
    "    year = dates[i]\n",
    "    i = i + 1\n",
    "    \n",
    "print(\"Tardamos\", i-1 ,\"iteraciones en salir del ciclo!\")"
   ]
  },
  {
   "cell_type": "markdown",
   "id": "fb7f6571",
   "metadata": {},
   "source": [
    "### Algunas opciones extra\n",
    "\n",
    "#### Break\n",
    "\n",
    "Utilizado para salir del ciclo (romper) cuando una determina condición se cumple."
   ]
  },
  {
   "cell_type": "code",
   "execution_count": null,
   "id": "26cf8a1f",
   "metadata": {},
   "outputs": [],
   "source": [
    "for i in range(100):\n",
    "    print(i)\n",
    "    if i>=7:\n",
    "        break"
   ]
  },
  {
   "cell_type": "markdown",
   "id": "a52547ae",
   "metadata": {},
   "source": [
    "#### Continue\n",
    "\n",
    "Continúa con la siguiente iteración del ciclo, salteando el resto del código del bloque."
   ]
  },
  {
   "cell_type": "code",
   "execution_count": null,
   "id": "0a99b9d2",
   "metadata": {},
   "outputs": [],
   "source": [
    "for i in range(10):\n",
    "    if i>4:\n",
    "        print(\"Is this the end?\")\n",
    "        continue\n",
    "    print('i',i)"
   ]
  },
  {
   "cell_type": "markdown",
   "id": "b95abc48",
   "metadata": {},
   "source": [
    "#### Comprensión de listas\n",
    "\n",
    "Python facilita la creación de listas en una única línea de código utilizando comprensión de listas. \n",
    "\n",
    "Por ejemplo, queremos multiplicar por 2 los primeros 10 números naturales. Para eso, podemos utilizar el siguiente ``for``:"
   ]
  },
  {
   "cell_type": "code",
   "execution_count": null,
   "id": "1baff2a6",
   "metadata": {},
   "outputs": [],
   "source": [
    "res = []\n",
    "\n",
    "for i in range(1,11):\n",
    "    x = 2*i\n",
    "    res.append(x)\n",
    "\n",
    "res"
   ]
  },
  {
   "cell_type": "markdown",
   "id": "e73f40d9",
   "metadata": {},
   "source": [
    "Sin embargo, una forma más eficiente es:"
   ]
  },
  {
   "cell_type": "code",
   "execution_count": null,
   "id": "873f56ce",
   "metadata": {},
   "outputs": [],
   "source": [
    "[2*x for x in range(1,11)]"
   ]
  },
  {
   "cell_type": "markdown",
   "id": "93be733b",
   "metadata": {},
   "source": [
    "Y listo! Solo hay que recordar encerrar todo entre corchetes.\n",
    "\n",
    "Cómo queda definido el código:\n",
    "1. La expresión que define lo que va a lista.\n",
    "2. La iteración.\n",
    "\n",
    "Podemos combinarlo con condiciones? Si! Van al final:"
   ]
  },
  {
   "cell_type": "code",
   "execution_count": null,
   "id": "673b8870",
   "metadata": {},
   "outputs": [],
   "source": [
    "[2*x for x in range(1,20) if x<=10]"
   ]
  },
  {
   "cell_type": "markdown",
   "id": "d13f46b9",
   "metadata": {},
   "source": [
    "### Ejercicio"
   ]
  },
  {
   "cell_type": "markdown",
   "id": "85959457",
   "metadata": {},
   "source": [
    "Escribir un ``for`` que imprima todos los elementos entre -5 y 5 utilizando la función ``range``."
   ]
  },
  {
   "cell_type": "code",
   "execution_count": null,
   "id": "8a1e64da",
   "metadata": {},
   "outputs": [],
   "source": [
    "# TODO"
   ]
  },
  {
   "cell_type": "markdown",
   "id": "8195268d",
   "metadata": {},
   "source": [
    "Escribir un ``while`` que imprima los valores en ``vals`` mientras el valor sea mayor a 6. En cuanto encuentra uno menor, se debe salir del ciclo."
   ]
  },
  {
   "cell_type": "code",
   "execution_count": null,
   "id": "9043bc73",
   "metadata": {},
   "outputs": [],
   "source": [
    "vals = [10, 9.5, 10, 8, 7.5, 5, 10, 10]\n",
    "# TODO"
   ]
  }
 ],
 "metadata": {
  "kernelspec": {
   "display_name": "Python 3",
   "language": "python",
   "name": "python3"
  },
  "language_info": {
   "codemirror_mode": {
    "name": "ipython",
    "version": 3
   },
   "file_extension": ".py",
   "mimetype": "text/x-python",
   "name": "python",
   "nbconvert_exporter": "python",
   "pygments_lexer": "ipython3",
   "version": "3.7.6"
  }
 },
 "nbformat": 4,
 "nbformat_minor": 5
}
