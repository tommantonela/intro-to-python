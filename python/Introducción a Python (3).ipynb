{
 "cells": [
  {
   "cell_type": "markdown",
   "id": "96bb9503",
   "metadata": {},
   "source": [
    "## Introducción a Python: Expresiones\n",
    "\n",
    "Durante el curso vamos a estar desarrollando los aspectos prácticos utilizando Python. Para aquellos que no estén muy familiarizados con el lenguaje, acá tenemos una introducción al lenguaje.\n",
    "\n",
    "Si necesitan más material, algunos libros para consultar (si los quieren, los podemos compartir):\n",
    "* Introducing Python (Bill Lubanovic, O'Reilly Media, Inc., ISBN: 9781449359362)\n",
    "* Learning Python (Mark Lutz, O'Reilly Media, Inc. ISBN: 9781449355739)\n",
    "\n",
    "Cuentan con una serie de notebooks introductorias:\n",
    "* Hello World!\n",
    "* Tipos de datos.\n",
    "* **Expresiones.**\n",
    "* Estructuras de datos.\n",
    "* Condiciones, iteraciones.\n",
    "* Funciones.\n",
    "* Manejo de archivos.\n",
    "\n",
    "En las notebooks van a encontrar algunos ejercios (opcionales).\n",
    "\n",
    "Las notebooks se encuentran basadas en diversos tutoriales de Kaggle, y cursos de disponibles online."
   ]
  },
  {
   "cell_type": "markdown",
   "id": "77d46343",
   "metadata": {},
   "source": [
    "## Expresiones\n",
    "\n",
    "Las expresiones en Python pueden incluir operaciones entre tipos compatibles."
   ]
  },
  {
   "cell_type": "markdown",
   "id": "e206832d",
   "metadata": {},
   "source": [
    "### Operaciones aritméticas\n",
    "\n",
    "Operaciones aritméticas básicas entre tipos numéricos:\n",
    "\n",
    "| Símbolo | Operación |\n",
    "|----|---|\n",
    "| +  | suma |\n",
    "| -  | resta |\n",
    "| /  | división |\n",
    "| %  | mod |\n",
    "| *  | multiplicación |\n",
    "| //  | división piso |\n",
    "| **  | potencia |"
   ]
  },
  {
   "cell_type": "code",
   "execution_count": null,
   "id": "ee16d629",
   "metadata": {},
   "outputs": [],
   "source": [
    "43 + 60 + 16 + 41"
   ]
  },
  {
   "cell_type": "code",
   "execution_count": null,
   "id": "117463a1",
   "metadata": {},
   "outputs": [],
   "source": [
    "1/2"
   ]
  },
  {
   "cell_type": "markdown",
   "id": "e5d5dbc9",
   "metadata": {},
   "source": [
    "Notar que el resultado es ``0`` porque ambos operandos son enteros. Si se cambia cualquiera de los dos a flotante, se obtiene el valor correcto."
   ]
  },
  {
   "cell_type": "code",
   "execution_count": null,
   "id": "26c90035",
   "metadata": {},
   "outputs": [],
   "source": [
    "1/2.0"
   ]
  },
  {
   "cell_type": "markdown",
   "id": "c752fe09",
   "metadata": {},
   "source": [
    "#### Ejercicio\n",
    "\n",
    "Escribir una expresión que calcule cuantos minutos hay en una semana."
   ]
  },
  {
   "cell_type": "code",
   "execution_count": null,
   "id": "d8293a39",
   "metadata": {},
   "outputs": [],
   "source": [
    "# TODO"
   ]
  },
  {
   "cell_type": "markdown",
   "id": "63607a9c",
   "metadata": {},
   "source": [
    "Python sigue las convenciones matemáticas aceptadas de prioridad y asociación de operaciones.\n",
    "\n",
    "En el siguiente ejemplo, primero se realiza la multiplicación y luego la suma."
   ]
  },
  {
   "cell_type": "code",
   "execution_count": null,
   "id": "4590cc9d",
   "metadata": {},
   "outputs": [],
   "source": [
    "30 + 2 * 60"
   ]
  },
  {
   "cell_type": "markdown",
   "id": "2e1dfad2",
   "metadata": {},
   "source": [
    "Podemos cambiar la prioridad utilizando paréntesis:\n"
   ]
  },
  {
   "cell_type": "code",
   "execution_count": null,
   "id": "ee715a17",
   "metadata": {},
   "outputs": [],
   "source": [
    "(30 + 2) * 60"
   ]
  },
  {
   "cell_type": "markdown",
   "id": "c2064dd5",
   "metadata": {},
   "source": [
    "### Operaciones de comparación\n",
    "\n",
    "Estas operaciones comparan dos valores a partir de una condición y dan como resultado un ``bool``.\n",
    "\n",
    "| Símbolo | Operación |\n",
    "|----|---|\n",
    "| == | True si los elementos son iguales |\n",
    "| !=  | True si los elementos son distintos |\n",
    "| < | True si el primer elemento es menor que el segundo |\n",
    "| > | True si el primer elemento es mayor que el segundo |\n",
    "| <=  | True si el primer elemento es menor o igual que el segundo |\n",
    "| >=  | True si el primer elemento es mayor o igual que el segundo|"
   ]
  },
  {
   "cell_type": "code",
   "execution_count": null,
   "id": "b5dff971",
   "metadata": {},
   "outputs": [],
   "source": [
    "z = 1"
   ]
  },
  {
   "cell_type": "code",
   "execution_count": null,
   "id": "9baf99c2",
   "metadata": {},
   "outputs": [],
   "source": [
    "z == 1"
   ]
  },
  {
   "cell_type": "code",
   "execution_count": null,
   "id": "6a7865ca",
   "metadata": {},
   "outputs": [],
   "source": [
    "z > 1"
   ]
  },
  {
   "cell_type": "markdown",
   "id": "90ffedec",
   "metadata": {},
   "source": [
    "Estas operaciones también pueden ser aplicadas sobre strings."
   ]
  },
  {
   "cell_type": "code",
   "execution_count": null,
   "id": "9a45994a",
   "metadata": {},
   "outputs": [],
   "source": [
    "'casa' == 'Casa'"
   ]
  },
  {
   "cell_type": "markdown",
   "id": "ef5ae11c",
   "metadata": {},
   "source": [
    "También las podemos utilizar para comparar chars de acuerdo a su valor ASCCI.\n",
    "\n",
    "Por ejemplo, el valor ASCII para la ``A`` es 65, mientras que el de ``B`` es 66, con lo que:"
   ]
  },
  {
   "cell_type": "code",
   "execution_count": null,
   "id": "627bf266",
   "metadata": {},
   "outputs": [],
   "source": [
    "'B' > 'A'"
   ]
  },
  {
   "cell_type": "markdown",
   "id": "d4548b77",
   "metadata": {},
   "source": [
    "### Operadores relacionales\n",
    "\n",
    "| Symbol | Task Performed |\n",
    "|----|---|\n",
    "| &  | Logical And |\n",
    "| l  | Logical OR |\n",
    "| ^  | XOR |\n",
    "| ~  | Negate |\n",
    "| >>  | Right shift |\n",
    "| <<  | Left shift |"
   ]
  },
  {
   "cell_type": "code",
   "execution_count": null,
   "id": "ab7d4ad5",
   "metadata": {},
   "outputs": [],
   "source": [
    "a = 2 #10\n",
    "b = 3 #11"
   ]
  },
  {
   "cell_type": "code",
   "execution_count": null,
   "id": "b3afe95d",
   "metadata": {},
   "outputs": [],
   "source": [
    "print (a & b)\n",
    "print (bin(a&b))"
   ]
  },
  {
   "cell_type": "markdown",
   "id": "53704bf1",
   "metadata": {},
   "source": [
    "## Variables\n",
    "\n",
    "Una variable es un nombre que denota \"algo\" o un valor. Una asignación tiene tres partes:\n",
    "\n",
    "1. Nombre de la variable.\n",
    "2. Signo ``=``.\n",
    "3. Lo que queremos guardar en la variable."
   ]
  },
  {
   "cell_type": "code",
   "execution_count": null,
   "id": "e64ab568",
   "metadata": {},
   "outputs": [],
   "source": [
    "# almacenamos el resultado en x\n",
    "\n",
    "x = 43 + 60 + 16 + 41"
   ]
  },
  {
   "cell_type": "code",
   "execution_count": null,
   "id": "d9f6afe1",
   "metadata": {},
   "outputs": [],
   "source": [
    "We can also perform operations on x and save the result to a new variable:"
   ]
  },
  {
   "cell_type": "code",
   "execution_count": null,
   "id": "4c143b41",
   "metadata": {},
   "outputs": [],
   "source": [
    "# Use another variable to store the result of the operation between variable and value\n",
    "\n",
    "y = x / 60\n",
    "y"
   ]
  },
  {
   "cell_type": "markdown",
   "id": "2cc9e0a6",
   "metadata": {},
   "source": [
    "Podemos hacer asignaciones múltiples con el mismo valor:"
   ]
  },
  {
   "cell_type": "code",
   "execution_count": null,
   "id": "4b0a9503",
   "metadata": {},
   "outputs": [],
   "source": [
    "x = y = 1\n",
    "\n",
    "x,y"
   ]
  },
  {
   "cell_type": "markdown",
   "id": "adffedd7",
   "metadata": {},
   "source": [
    "Es una buena práctica dar nombres representativos a las variables!"
   ]
  }
 ],
 "metadata": {
  "kernelspec": {
   "display_name": "Python 3",
   "language": "python",
   "name": "python3"
  },
  "language_info": {
   "codemirror_mode": {
    "name": "ipython",
    "version": 3
   },
   "file_extension": ".py",
   "mimetype": "text/x-python",
   "name": "python",
   "nbconvert_exporter": "python",
   "pygments_lexer": "ipython3",
   "version": "3.7.6"
  }
 },
 "nbformat": 4,
 "nbformat_minor": 5
}
