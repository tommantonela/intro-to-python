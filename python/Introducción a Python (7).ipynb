{
 "cells": [
  {
   "cell_type": "markdown",
   "id": "bb1b205c",
   "metadata": {},
   "source": [
    "## Introducción a Python: Manejo de archivos\n",
    "\n",
    "Durante el curso vamos a estar desarrollando los aspectos prácticos utilizando Python. Para aquellos que no estén muy familiarizados con el lenguaje, acá tenemos una introducción al lenguaje.\n",
    "\n",
    "Si necesitan más material, algunos libros para consultar (si los quieren, los podemos compartir):\n",
    "* Introducing Python (Bill Lubanovic, O'Reilly Media, Inc., ISBN: 9781449359362)\n",
    "* Learning Python (Mark Lutz, O'Reilly Media, Inc. ISBN: 9781449355739)\n",
    "\n",
    "Cuentan con una serie de notebooks introductorias:\n",
    "* Hello World!\n",
    "* Tipos de datos.\n",
    "* Expresiones.\n",
    "* Estructuras de datos.\n",
    "* Condiciones, iteraciones.\n",
    "* Funciones.\n",
    "* **Manejo de archivos.**\n",
    "\n",
    "En las notebooks van a encontrar algunos ejercios (opcionales).\n",
    "\n",
    "Las notebooks se encuentran basadas en diversos tutoriales de Kaggle, y cursos de disponibles online."
   ]
  },
  {
   "cell_type": "markdown",
   "id": "44cf1983",
   "metadata": {},
   "source": [
    "Primero, vamos a descargar el archivo de texto que vamos a utilizar de ejemplo utilizando ``gdown``. \n",
    "\n",
    "Si el paquete no está instalado, ejecutar:"
   ]
  },
  {
   "cell_type": "code",
   "execution_count": null,
   "id": "800a3c2c",
   "metadata": {},
   "outputs": [],
   "source": [
    "pip install gdown"
   ]
  },
  {
   "cell_type": "code",
   "execution_count": null,
   "id": "bef3fc92",
   "metadata": {},
   "outputs": [],
   "source": [
    "import gdown\n",
    "\n",
    "url = \"https://drive.google.com/uc?export=download&id=1DEQPa2kjRIxDWfL0NiizUs0sdr6ZsyYa\"\n",
    "datapath = 'test.txt'\n",
    "\n",
    "gdown.download(url, datapath, quiet=False)"
   ]
  },
  {
   "cell_type": "markdown",
   "id": "259c8440",
   "metadata": {},
   "source": [
    "## Lectura de archivos\n",
    "\n",
    "Una forma de leer o escribir un archivo es utilizar la función pre-definida ``open``. Esta función provee un objeto ``File`` que contiene los métodos y atributos necesario para leer, manipular y guardar archivos.\n",
    "\n",
    "``open`` requiere el path al archivo a manipular, en este caso, dado por ``datapath``. De forma opcional se puede definir un modo de apertura:\n",
    "\n",
    "* `r`: Modo de lectura.\n",
    "* ``w``: Modo de escritura.\n",
    "* ``a``: Modo de escritura append (lo que se escriba, se escribe al final del archivo ya existente).\n",
    "\n",
    "Por defecto, el valor es ``r``."
   ]
  },
  {
   "cell_type": "code",
   "execution_count": null,
   "id": "e4350e42",
   "metadata": {},
   "outputs": [],
   "source": [
    "file = open(datapath)"
   ]
  },
  {
   "cell_type": "markdown",
   "id": "eaf3fa0e",
   "metadata": {},
   "source": [
    "Podemos ver algunos atributos del objeto ``file``:"
   ]
  },
  {
   "cell_type": "code",
   "execution_count": null,
   "id": "a6c80a20",
   "metadata": {},
   "outputs": [],
   "source": [
    "# nombre\n",
    "\n",
    "file.name"
   ]
  },
  {
   "cell_type": "code",
   "execution_count": null,
   "id": "2bcedfde",
   "metadata": {},
   "outputs": [],
   "source": [
    "# modo\n",
    "\n",
    "file.mode"
   ]
  },
  {
   "cell_type": "code",
   "execution_count": null,
   "id": "b0734cc7",
   "metadata": {},
   "outputs": [],
   "source": [
    "# ver si está cerrado\n",
    "\n",
    "file.closed"
   ]
  },
  {
   "cell_type": "markdown",
   "id": "a3aa1bc6",
   "metadata": {},
   "source": [
    "Podemos leer el contenido:"
   ]
  },
  {
   "cell_type": "code",
   "execution_count": null,
   "id": "e4e9deb9",
   "metadata": {},
   "outputs": [],
   "source": [
    "fileContent = file.read()\n",
    "fileContent"
   ]
  },
  {
   "cell_type": "code",
   "execution_count": null,
   "id": "ee6a590b",
   "metadata": {},
   "outputs": [],
   "source": [
    "# ver el tipo del contenido\n",
    "\n",
    "type(fileContent)"
   ]
  },
  {
   "cell_type": "markdown",
   "id": "8c8a9d32",
   "metadata": {},
   "source": [
    "Finalmente, una vez que terminemos con el archivo, debemos cerrarlo:"
   ]
  },
  {
   "cell_type": "code",
   "execution_count": null,
   "id": "7142807c",
   "metadata": {},
   "outputs": [],
   "source": [
    "file.close()"
   ]
  },
  {
   "cell_type": "markdown",
   "id": "63b75bf9",
   "metadata": {},
   "source": [
    "Otra forma de abrir el archivo es utilizar la sentencia ``with``, la cual realiza el cierre del archivo de forma automática."
   ]
  },
  {
   "cell_type": "code",
   "execution_count": null,
   "id": "041a2e1d",
   "metadata": {},
   "outputs": [],
   "source": [
    "with open(datapath, \"r\") as file1:\n",
    "    content = file1.read()\n",
    "\n",
    "print(content)"
   ]
  },
  {
   "cell_type": "code",
   "execution_count": null,
   "id": "2ae720d8",
   "metadata": {},
   "outputs": [],
   "source": [
    "file1.closed # el with cerró el archivo de forma automática"
   ]
  },
  {
   "cell_type": "markdown",
   "id": "3b6de788",
   "metadata": {},
   "source": [
    "En el ejemplo anterior, leímos el contenido completo del archivo. Eso no es necesario, podemos leer de a chars.\n",
    "\n",
    "Para esto, al método ``read`` le podemos indicar cuántos chars queremos leer:"
   ]
  },
  {
   "cell_type": "code",
   "execution_count": null,
   "id": "15ebe4aa",
   "metadata": {},
   "outputs": [],
   "source": [
    "with open(datapath, \"r\") as file1:\n",
    "    print(file1.read(4))"
   ]
  },
  {
   "cell_type": "code",
   "execution_count": null,
   "id": "9c981e48",
   "metadata": {},
   "outputs": [],
   "source": [
    "with open(datapath, \"r\") as file1:\n",
    "    print('4 ->',file1.read(4))\n",
    "    print('7 ->',file1.read(7))\n",
    "    print('15 ->',file1.read(15))"
   ]
  },
  {
   "cell_type": "markdown",
   "id": "6b18803d",
   "metadata": {},
   "source": [
    "En la siguiente figura, los colores representan las partes del archivo que se leen en cada invocación del método ``read``."
   ]
  },
  {
   "cell_type": "markdown",
   "id": "92d33413",
   "metadata": {},
   "source": [
    "![image.png](data:image/png;base64,iVBORw0KGgoAAAANSUhEUgAAAzgAAAFGCAYAAACmOzoaAAAgAElEQVR4Ae2de4wtR33n5z9QpCVSRCCKSUgiS+EhRMQf9npEZPMICCXRrgkQx+JhZZUxbBxYiJxYhARZBFjeF4U4jrP2mIdiiCAxXnZCYrwQYgHLOkCygGImxsFw8eva9/r6Xs991+p75v7O1Ol39burP0ca9Tnd1V2/+lSfPvWZqq5ec7wgAAEIQAACEIAABCAAAQhEQmAtknJQDAhAAAIQgAAEIAABCEAAAg7B4SSAAAQgAAEIQAACEIAABKIhgOBEU5UUBAIQgAAEIAABCEAAAhBAcDgHIAABCEAAAhCAAAQgAIFoCCA40VQlBYEABCAAAQhAAAIQgAAEEBzOAQhAAAIQgAAEIAABCEAgGgIITjRVSUEgAAEIQAACEIAABCAAAQSHcwACEIAABCAAAQhAAAIQiIYAghNNVVIQCEAAAhCAAAQgAAEIQADB4RyAAAQgAAEIQAACEIAABKIhgOBEU5UUBAIQgAAEIAABCEAAAhBAcDgHIAABCEAAAhCAAAQgAIFoCCA40VRlvYJsb+1zG+vrbm1tzftbd/u2s4+3tbGbdn1jn8tJsthxa8M/nr3fcFvZh2VtZwS23b518c+v02TWquONvBMgmbji5+2tDbe+Qe1XxEUyCEAAAhCAAAQaEEBwGsCb+q7b+5JiYyKS0xje3ufWlyKUk+YsFARnLGdHmOAsz4n1YoENK53FsIbkhIEjNQQgAAEIQAACNQggODWgxbHLlts4Kyvr+7YKe2P88lbtwfH3cUsx6rAHZ3vL7TvbuxTSW7ESZ5QfTC6KhXRR9K2N3V68ELmxfRbnUlH9+udbUd9flJVAoSAAAQhAAAIQ6JEAgtMj7FFlZdIR0pitWwDLa62oAVzn4NtuMfRpMQTLep/ChmPVyXVa+1QUnGUdVRChJYA9adkd4lhSv7XyWGbGGwhAAAIQgAAEIFCJAIJTCVOEiew/733cF7Fs2JY0gEMxWxnUe7C+4ba2rcEd0kgPzXRq6asIjqVZcyGngw1DXN/YODt0sbx+uxkCN7U6IV4IQAACEIAABLokgOB0SXfMxzY5qNCitYbs6kQE5Y3ZZfGDBGfbaRjc3r0+a259IS/Lo3lvttzG+obbt2VDnroTnF0GJk6JGBWDheBFt/s2kXatqDzaQ71S6YkfxGCvnKlMzq7Ydlv7TDbO9mgtJ5Cw2DP2tXMhpDfP3yewfncnPQiTqYyoWQUBCEAAAhCAAAQyCSA4mVhiXGmNf38oV877hPT0JzhFMRY00JfVZftXSbvcqdKbPcGRVGVxy8rT4qma3rllD8dyMofVfddzTaooLx0jK77dolv9Jqq9gIv1+Jw9ZpDgeGWsnmFBLGyCAAQgAAEIQAACqwQQnFUeEX8qawB7DemihmdgY3YBtNI+1mhec2sb/qQHuz0gi96j0h4GK2N+Y75uBZsEWC/W3sQMq3HvHX91/V4HT3F5ttUDs7HPbW3v7aFenb38s3rOvLzWta8XhYbtFU4Tbcyyjrt3HP+dSdhStirVr3eE0PTerryFAAQgAAEIQAACZQQQnDJCsW63IUZFMpNV9jqN0yr7WJpMidlrwBeHa431bgVnwzcIMTKWfuytlMevgIKyZeW/3NXY5TApjHN5kL03WeltXeVJJCwmhqntgeUdBCAAAQhAAAJtEUBw2iI5teNYo7jYGNKlCm7M6rYSe35Ofi9BqlcgkXPZ9t3kBRKQOF7oR+tBWfZa+Aew8nmCUxZv2Xb/8LvvTQrSolJ8rPz9FscNOg9yjmXlryw4csLdHsPQ0y/NhTUQgAAEIAABCEBglQCCs8pjPp+CGrYelhqN2SqCYw1eGwKWt8wUjGV43QtO1QZ5k/LsTn1d/SGslld2bDlScpZZsRwtwS7e5KatcU7kHms1Sz5BAAIQgAAEIACBYAIITjCySHZAcIIqslgi0oey9HmiZuuTwla+X7oHx/bpVHBMYrxeqmWpbVtADw6Cs6THGwhAAAIQgAAEWiaA4LQMdDKHG5ngtNPgHU8PTq3yWJ2s6d4Ub6aAxUmV3xNjgpOUpd1zsZiJxamJHYpey3Q5s7uZsNkyO5a9HCzmkmz3duAdBCAAAQhAAAIQqEgAwakIKrpk1pgObWHW+G99lSFqyxv1Q+NZqZjixvxK0sUHk4Y1t16Sb3CDvAbfpURk9ZK4/NnQlvulyrBXvtxpoi3OzDz3iC3zaEVwLK50b9RejryDAAQgAAEIQAAC9QggOPW4TX8va9imGsUlRetKcNSAP9t43p0m2Y/DHn6ZP0nBbmo7RrWGc7LRXoQiWHDqlMfqZOWZNSq7//DOjLIt68Tr+dnecvZAzd1elYz9FtCMWRlbvz4S75f5Vz1GC3kmQuAjBCAAAQhAAAIQMAIIjpGY29Ia00Wt+gUTa4x6z8nJ+C/+6pCkOvv4s63l5ZVsQFfLJ2/4VbeC03Z51t16wfNsTMBsiJgtVS+72/IEZ29Gs9U6DPhChApO5XMvIAaSQgACEIAABCAAgbMEEJy5ngqVG5nVJGK1cVxnn7MVoZ6HjXW3viJR62cffpmsrGr55AmOHqBpvRytD1GzUIPKIynSUDR/BjWVfcvpuZ/ForLttvZ53NbXl/fxFO+X8xwfi7/KMkhwjHm+cFXJkjQQgAAEIAABCEAgjwCCk0eG9RCYDQGTjjW3KqodAKgs1h3kzSEhAAEIQAACEJgFAQRnFtVMISFQQmDZC9Nhz0ofeZQUk80QgAAEIAABCMRPAMGJv44pIQQqEdi7Jyl5r1Ol3UsS7fUSld72VXIkNkMAAhCAAAQgAIEiAghOER22QWBmBLY2zt7/UzJtdBiWPbnpfAhcWGCkhgAEIAABCEAgQgIIToSVSpEg0ISAJCf9oNEmR3Rue9+G29iXfHhps2OyNwQgAAEIQAACEMgigOBkUWEdBCAAAQhAAAIQgAAEIDBJAgjOJKuNoCEAAQhAAAIQgAAEIACBLAIIThYV1kEAAhCAAAQgAAEIQAACkySA4Eyy2ggaAhCAAAQgAAEIQAACEMgigOBkUWEdBCAAAQhAAAIQgAAEIDBJAgjOJKuNoMdO4OGjJ93JU2fGHibxQQACEIAABCAAgegIIDjRVSkFGprAkWOn3Hcf3Fn8PXD4hDt24vTQIZE/BCAAAQhAAAIQmA0BBGc2VU1B+yLwg4PHl4JjorP/0HH36LFTfYVAPhCAAAQgAAEIQGC2BBCc2VY9Be+KgHps1HNjcuMv73n4mDt49KQ7fYbha13x57gQgAAEIAABCMybAIIz7/qn9B0S0D04Dx056f79wLGU7Nx9YMcdOMJ9Oh3i59AQgAAEIAABCMyUAIIz04qn2P0RUG/NI4+ddOq98Xtz7P39h0+4He7T6a9CyAkCEIAABCAAgagJIDhRVy+FGxsBTUBw76H0PTqSHd27c3iH+3TGVmfEAwEIQAACEIDAtAggONOqL6KNhMDxk6fdg49m36fzvYeOOU0zfeo09+lEUt0UAwIQgAAEIACBHgkgOD3CJisIJAlIYiQzeffpSIJO8DydJDY+QwACEIAABCAAgVwCCE4uGjZAoD8CmlSt6D6d+x454Y4eZ/hafzVCThCAAAQgAAEITJUAgjPVmiPuaAlIZCQ0NgmBv/z+w8cW9+kwy3S01U/BIAABCEAAAhBoSADBaQiQ3SHQFQENTdMQNU0p7UuO3mtIG/fpdEWe40IAAhCAAAQgMGUCCM6Ua4/YZ0HA7tPR5ANJ0dFnSZAmLeAFAQhAAAIQgAAEIOAcgsNZAIGJENCwNE0jrWFqWaKj6ac1DTUvCEAAAhCAAAQgMGcCCM6ca5+yT5ZA0X06eqCoJizQA0Z5QQACEIAABCAAgbkRQHDmVuOUNyoCJ0+dcQeOnMy9T+ehIyed0vCCAAQgAAEIQAACcyGA4Mylpiln1ATUW3Pw6EmXd5/OA4dPuGMnuE8n6pOAwkEAAhCAAAQgsCCA4HAiQCAyArpP5wcHj2fep7P/0HH3KPfpRFbjFAcCEIAABCAAAZ8AguPT4D0EIiKwc+K0u/9w9vN0dJ/OIe7Tiai2KQoEIAABCEAAAkYAwTESLCEQKQG7T0fPzknOvqZn7OgeHu7TibTyKRYEIAABCEBghgQQnBlWOkWeJwHdp6NeG/XeJEVHn9Xbo14fXhCAAAQgAAEIQGDKBBCcKdcesUOgJgHdh6P7cbJER/fv6D4eXhCAAAQgAAEIQGCKBBCcKdYaMUOgJQKaWU0zrGWJjmZk08xsp04zzXRLuDkMBCAAAQhAAAI9EEBweoBMFhAYOwHdg6Nn5uTdp/PgoyfcCZ6nM/ZqJD4IQAACEIAABJxzCA6nAQQgsCSg+3QeKbhP575HTrijxxm+tgTGGwhAAAIQgAAERkcAwRldlRAQBMZB4MixU+7enPt0vv/wscV9OmcYvTaOyiIKCEAAAhCAAASWBBCcJQreQAACWQSOnzztNEQt7z6dh7lPJwsb6yAAAQhAAAIQGIgAgjMQeLKFwNQIaLIByUzWfTqSH0mQZIgXBCAAAQhAAAIQGJIAgjMkffKGwAQJaFia7tPRMLWsXh0Na9PwNl4QgAAEIAABCEBgCAIIzhDUyRMCkRDQhAOaeCBLdPRAUYkQ9+lEUtkUAwIQgAAEIDARAgjORCqKMCEwZgKaQlpD1O4+sJOSHQ1p0xTUmoqaFwQgAAEIQAACEOiaAILTNWGOD4EZEbD7dPSQ0KxeHT1UVA8X5QUBCEAAAhCAAAS6IoDgdEWW40JgxgQ0LO3wzqnc+3T2HzruHuU+nRmfIRQdAhCAAAQg0B0BBKc7thwZAhBwbvFg0PsP59+nc+ixk04PGOUFAQhAAAIQgAAE2iCA4LRBkWNAAAKlBHQPzoEjJ3Pv09E27tMpxUgCCEAAAhCAAARKCCA4JYDYDAEItEtAvTUHj550effpqLdnh/t02oXO0SAAAQhAAAIzIoDgzKiyKSoExkZA9+n84ODxzAkJtF7beUEAAhCAAAQgAIEQAghOCC3SQgACnRBQj03efTrq6VGPD/fpdIKeg0IAAhCAAASiI4DgRFelFAgC0yWge3D0zBw9Oyc5zbSesaNn7eiZO7wgAAEIQAACEIBAHgEEJ48M6yEAgcEIqLdGs6vd83BadCQ+9z1yYjE722ABkjEEIAABCEAAAqMlgOCMtmoIDAIQEAE9L0fPzUn26Ojz9x8+trhPh1mmOVcgAAEIQAACEDACCI6RYAkBCIyawLETp90DOc/T0X06Dx896U6dZvjaqCuR4CAAAQhAAAI9EEBweoBMFhCAQHsEiu7TUa+O7tM5fvJ0exlyJAhAAAIQgAAEJkUAwZlUdREsBCBgBDQs7ZGC+3TuPXTcHTnGNNPGiyUEIAABCEBgLgQQnLnUNOWEQMQEJDISmqz7dDRRgUSI+3QiPgEoGgQgAAEIQMAjgOB4MHgLAQhMm4CGpmmIWpboaOpp3aejIW68IAABCEAAAhCIlwCCE2/dUjIIzJaAJhuQzGQ9T0fyo8kKNGkBLwhAAAIQgAAE4iOA4MRXp5QIAhA4S8Du09F00lm9Opp+WtNQ84IABCAAAQhAIB4CCE48dUlJIACBAgJHj59aPCA0S3R0n44eLKoHjPKCAAQgAAEIQGDaBBCcadcf0UdAYGdnx+lviNfBgweHyHYlz75jOHHqzOI+nbsP7KR6dew+nZUAvQ9D1pUXRqW3fXHtK59KhS5JNKVYS4qS2hxz2VKFZQUEIACBEgIITgkgNkOgSwJqlDzjGc9wP/dzP+cuuuiiXv+U70/+5E/2mmdWGRWDYsna1uW6//SfL3YfuOZ/uK9v/3BFdP78xptyY1E9DVFXoRzW19fdj/zIj+SWI/R4Rel/7Md+zD3nOc/pJa+iOMq2KUbFWpZuqtv1PXrJS17S5eWKY0MAAhCYDAEEZzJVRaCxEnjNa17jfu2SV7q/vPnvev27/PW/6y58/ot6zTOrjIpBsWRt62Pdxz99q7v1S99w37rnoYXofOpv/yE3FtXTEHUVyuGD133EPflJT3Sf++SNnf89+5lPc++7+qrO82laFsWoWJseZ6z7v+iiX3RXX311rJdJygUBCEAgiACCE4SLxBBon8Bb3/pW94Yr/2ClFyHrPpG21737T65zL7vkVb3nmyyHYlAsyfVj/Kx6GqKuQll88Wv/6p76U+e4k/u/3fnfhRect5CGPvJqkofERLE2OcaY9331Ky52m5ub7V+gOCIEIACBCRJAcCZYaYQcFwEEB8EJFZiy9AhOWuwQnLium5QGAhCAQBEBBKeIDtsg0AMBBAfBKROW0O0IDoLTw6WLLCAAAQiMlgCCM9qqIbC5EEBwEJxQgSlLj+AgOHO5flJOCEAAAlkEEJwsKqyDQI8EEBwEp0xYQrcjOAhOj5cwsoIABCAwOgIIzuiqhIDmRgDBQXBCBaYsPYKD4MztOkp5IQABCPgEEByfBu8hMAABBAfBKROW0O0IDoIzwKWMLCEAAQiMhgCCM5qqIJC5EkBwEJxQgSlLj+AgOHO9nlJuCEAAAiKA4HAeQGBgAggOglMmLKHbERwEZ+DLGtlDAAIQGJQAgjMofjKHgHMIDoITKjBl6REcBIdrKwQgAIE5E0Bw5lz7lH0UBBAcBKdMWEK3IzgIzigubgQBAQhAYCACCM5A4MkWAkYAwUFwQgWmLD2Cg+DY9YUlBCAAgTkSQHDmWOuUeVQEEBwEp0xYQrcjOM0F51tf3HJ//1c3uNtvucmd3J8+3tjWvfoVF7vNzc1RXdsIBgIQgMBQBBCcociTLwTOEmgiOP981/3u9q9/x4U2gJX+3X9ynXvZJa+qtW+d/PL2UQyKJW/7mNa/4co/cPobU0xZsSA4aSH53CdvdBdecF5lWfnYNe91a2tri79/uvWvK+83lPggOPykQAACENgjgODsseAdBAYhUFdwJDbWAHvz1f89uNGN4OwEM0Nw0uIgaZA8DNWwr5pvqOCoB8e+X9e+5+rRlw/BGeTyTaYQgMBICSA4I60YwpoPgakKjgTrBS/+5UUj8B3v/9NgWbCeB3pwwkXL2OUtp96Do2FhGh7WZs9JqOBInH7ll563lJyH/vWro5YcBGc+vxmUFAIQKCeA4JQzIgUEOiUwVcH52F//7bLxp/905zW2y9YjOAiO9cKo18SXCp1Xtq3pso7g3HzjNctzfOz34iA4nV6mOTgEIDAxAgjOxCqMcOMjgOBwD06ZBIZun1oPjnpHNAzMhoT5y6ZiY/vXEZz9//yPy5je/IbXtiZbFlObSwQnvt8GSgQBCNQngODUZ8eeEGiFwFQFR41u9eLo77av/As9OA+23xMTKjaWfkqCo54Rv9fGfz90D44EZONVv76UHAlPm1LS5rEQnFYuxxwEAhCIhACCE0lFUozpEpiy4FiDusmSIWrti9FUBMcfAiax0X03d331tqVQjEFwJGDWo6R425SSNo+F4Ez3N4DIIQCB9gkgOO0z5YgQCCKA4DBErYkgZu07FcF59x/93kIeNDzNbuIfm+AoLhMc9ea0KSVtHgvBCbrskhgCEIicAIITeQVTvPETmLLgaCY1/el5PFkN7SrrmvTgWP7JfDRkzobP/a8v/J/asSWP2/Y00X6cTYf6+bFORXDUOyKh8Rv6YxMcxWYiJtHRRAh+vEXvVZZk+ZTeHiLa5kxxCM74r/VECAEI9EcAwemPNTlBIJPAVAVHcmH/2a7zHB5rkNcVHD9/yYGO96m//cJy6mqLzZaWxvKts2xLcBSLTbFt8dlS65vGOhXByZKDMQqOpqu2+tEDQLPiTq7zyyGR0fbk/UZ2TC0tTfI4VT8jOJmXV1ZCAAIzJYDgzLTiKfZ4CCA49YaoJQXng9d9ZNkI9RuO/vum4tCG4FzxpqtW4rz0st9yEsSk8DR5thCC8+2UhNSZRc2XC/888tfnvU8KjsTIP0bW+yaSg+CM55pOJBCAwPAEEJzh64AIZk4AwWkuOL4cSHT+77e/t+jR0RCwpFA0GU7XVHAkLdawVVySNL8nSZ/9stQVMgSnfcHxBaXKA0h9wfFnhtNxbDY2DVXT9NN2Tmhp9yLliVPeegRn5j8kFB8CEFghgOCs4OADBPongOA0FxxrIObdb+NLg4ax+VIR8r6J4EheLE712uTlKzmzdIo7L13RegSnfcGRjFi96J6cPNGw9b7g2H55YuQLkIax2TFClghO/9ducoQABMZLAMEZb90Q2UwIIDjtCE6e3EgE/uJjn1o2TtXDUyQHRduaCI7fe1MUq/L309Z5xhCC077gSDZ8ESnraUkKTp7c6Lj+dNlV7/FJyg+CM5MfDIoJAQhUIoDgVMJEIgh0RwDBaS44ZZMc+L0nZWm7Ehz7L76WRXlom4amWfo6w9QQnG4ExxeRsp4WX3DKenxC0ibFxj4jON1dozkyBCAwPQIIzvTqjIgjI4DgxC84/rAzDU+TcBX9aRidCU6dHicEpxvB0b0zVi9lz8QJkZaQtCY0ySWCE9kPA8WBAAQaEUBwGuFjZwg0J4DgxC84khlrGIcu6/Q4ITjdCI6kwp8UwCYLSMqGPodIS0jarLy0DsFpfi3mCBCAQDwEEJx46pKSTJQAgoPgFElP2f06WcPdEJzuBEdD06y+NGQtTzhCpCUkbV5+CM5EfwAIGwIQ6IQAgtMJVg4KgeoEEJx5CU6dHpksiSlah+B0JziaXMAER5MO5AlHiLSEpM3LD8Gpfs0lJQQgED8BBCf+OqaEIyeA4MxLcNQ4LpKTNrYhON0JjgTj2vdcvZQcTR+dJR0h0hKSNisvrUNwRn6hJzwIQKBXAghOr7jJDAJpAghO/IIjabH/+mvZ5GGjVQQIwelWcDTls9Vn3rTOIdISkhbBSV9DWQMBCEAgSQDBSRLhMwR6JoDgzENw/Gfb1Jn6uYrYWBoEp1vBkWT4z8TJko4QaQlJm5WX1tGD0/OFm+wgAIFRE0BwRl09BDcHAgjOPARHkwXYf/1f8OJfdpo62oQkb1klTda+CE73gqOeG6vPrId4hkhLSFoEZw6/CpQRAhBoSgDBaUqQ/SHQkACCMw/BkYhoggFrFGv5Fx/71OJ5OCYpEprbvvIvTs++kQQpjW0LWU5FcNSw//u/umHlzxcHlT+5XfvkNfKL1n/ukze6Cy84r9a+WcfVvTdWl1kP8gyRlpC0WbFoHT04DS/E7A4BCERFAMGJqjopzBQJIDjzERxJyhVvumrZMLYGct5SDwUNERtLOxXBkRjklT1vfZZM5DX6/fVtC46OrYd9WpyaXc3PL0RaQtL6efjvEZwpXv2JGQIQ6IoAgtMVWY4LgYoE6gqO/ttvjSvd32GN26rLd//Jde5ll7wqeD87ftP87TiKQbHY56rLkPxD0hbl/4Yr/8DpryhNlW0ariZ5sfpLLrVNvTt1JyOYiuAke2uSHLI+593U7zf2s953ITh6Do7FqOfj+PnqIaC2TbOu+duS70PSJve1zwhOxQsuySAAgVkQQHBmUc0UcswE6gpOlYZ0UZqmglN07JBtdQUnJI+20rYlOBaPBOb2r39n5c+2NVlORXCscd7HsgvB8cVEvTl9lCMvDwRnzFd5YoMABPomgOD0TZz8IJAggODU68FpIgB1921bcOrGUbYfgtP9JAMmGm9+w2uXPTUSHlvf9xLBSVxY+QgBCMyaAIIz6+qn8GMggOAgOGXCErodwelPcDQ0zYai1R0+14YMIThjuJoTAwQgMBYCCM5YaoI4ZksAwUFwQgWmLD2C05/gaHIBExw9G6cNWalzDARntj8hFBwCEMgggOBkQGEVBPokgOAgOGXCErodwelPcCQj/mQJQw1TQ3D6vGqTFwQgMHYCCM7Ya4j4oieA4CA4oQJTlh7B6Vdw6vS4tL0PghP9TwUFhAAEAgggOAGwSAqBLgggOAhOmbCEbkdwEJwurlUcEwIQgMBUCCA4U6kp4oyWAIKD4IQKTFl6BAfBifaCScEgAAEIVCCA4FSARBIIdEkAwUFwyoQldDuCg+B0ec3i2BCAAATGTgDBGXsNEV/0BBAcBCdUYMrSIzgITvQXTgoIAQhAoIAAglMAh00Q6IMAgoPglAlL6HYEB8Hp49pFHhCAAATGSgDBGWvNENdsCCA4CE6owJSlR3AQnNlcQCkoBCAAgQwCCE4GFFZBoE8CCA6CUyYsodsRHASnz2sYeUEAAhAYGwEEZ2w1QjyzI3D55Ze7X7vkle4vb/67Xv8uf/3vuguf/6Je88wqo2JQLFnbxrZO9TREXYVy+OB1H3FPftIT3ec+eWPnf89+5tPc+66+qvN8mpZFMSrWpscZ6/4vft5z3Tve8Y7ZXT8pMAQgAIEsAghOFhXWQaAnAjs7O+7cc891T33KOe7CC87r9e/nz/1Z9xNPemKveWaVUTEolqxtY1v31J86x+lvbHEl4zn/Oc92j3v849wFzz2v878n/OgT3DOe9fTO82laFsWoWJseZ6z7//iTn+jOP//8nq5cZAMBCEBg3AQQnHHXD9HNgICGqP3hm37btf1k87LjXf+Btzs9/bwsXdfbFYNi6TqfNo6vehqirkJj/7ev3Oqe8tPnuHsO3dn5nxr8n/jMRzvPp2lZFKNibXqcse7/8ktf6jY3N2dwxaSIEIAABMoJIDjljEgBgU4JIDgITqjAlKVHcNJih+B0ehnj4BCAAARGRQDBGVV1EMwcCSA4CE6ZsIRuR3AQnDleSykzBCAAASOA4BgJlhAYiACCg+CECkxZegQHwRnocka2EIAABEZBAMEZRTUQxJwJIDgITpmwhG5HcBCcOV9TKTsEIAABBIdzAAIDE0BwEJxQgSlLj+AgOANf1sgeAhCAwKAEEJxB8ZM5BJxDcBCcMmEJ3Y7gIDhcWyEAAQjMmQCCM+fap+yjIIDgIDihAlOWHsFBcEZxcSMICEAAAgMRQHAGAk+2EDACCA6CUyYsodsRHATHri8sIQABCHur7WAAACAASURBVMyRAIIzx1qnzKMigOAgOKECU5YewUFwRnWRIxgIQAACPRNAcHoGTnYQSBJAcBCcMmEJ3Y7gIDjJ6wyfIQABCMyJAIIzp9qmrKMkgOAgOKECU5YewUFwRnmxIygIQAACPRFAcHoCTTYQyCOA4CA4ZcISuh3BaS44X7jjs+6mWz7sbr71E+6eQ+njjW3dyy99qdvc3My7zLAeAhCAwKwIIDizqm4KO0YCTQTnoX/9qrvrq7e50Aaw0l//gbe7V7/i4lr71skvbx/FoFjyto9p/R++6bed/sYUU1YsCE5aSD7xmY+6C557XmVZ+dD173dra2uLv8/e/unK+w0lPgjOGK/uxAQBCAxFAMEZijz5QuAsgbqCI7GxBti7/+j3ghvdCM63g5khOGlxkDRIHoZq2FfNN1Rw1INj3693ffBtoy8fgsNPCgQgAIE9AgjOHgveQWAQAlMVHAnWr/zS8xaNwGvfc3WwLFjPAz044aJl7PKWU+vB+dY9dyyGgqnX5C1//PuLvxs+fq1rs+ckVHAkTi98yfOXkqMYq8rUEOkQnEEu32QKAQiMlACCM9KKIaz5EJiq4Pz9X92wbPzpP915je2y9QjOfAXna9tfWsiM9ZRkLSUZ6k1pKg11BEeSZTGN/V4cBGc+vxmUFAIQKCeA4JQzIgUEOiWA4HAPTpkEhm6fQg/Ol7/5+aU8mEQULZv25tQRHAmYxfT6K1/XWLKaSlrR/ghOp5dpDg4BCEyMAIIzsQoj3PgITFVw1OhWL47+vvXFLXpw9rffExMqNpZ+CoKjGcpMHjQ0ze+lkVjovhfbrqV6cooa+GXb6giOjvnK37xkGYfiKstnqO0ITny/DZQIAhCoTwDBqc+OPSHQCoEpC441qJssGaLWvhhNQXA05Ev32xRJgz+TmSSnSS9OXcFRnCZaGrI2lMCU5YvgtHI55iAQgEAkBBCcSCqSYkyXAILDELUmgpi17xQEp6zBbttNLrRUr4+tD13WFRxNLmAxqDcnNN++0iM40/0NIHIIQKB9AghO+0w5IgSCCExZcDSTmv70PJ6shnaVdU16cCz/ZD4aMmfD5/7p1r+uHVvyuG1PE+3H2XSonx9rTILjDxEbQnAkKOppMsnxh9KVyYvuM9JfMp2OobLor0mvlH9cBCfosktiCEAgcgIITuQVTPHGT2CqgiO5sEZfnefwWIO8ruD4+UsOdLzbb7lpOXW1xWZLS2P51lm2JTiKxabYtvhsqfVNY41JcPypmocSHEmI1Y+Gzflikffen0TB4tZwN788dkwtLU3e8crWIzjjv9YTIQQg0B8BBKc/1uQEgUwCCE69IWpJwfnYNe9dNkL9hqP/vqk4tCE4b37Da1fi3HjVrzsJYlJ4mjxbKCbB8euvyVTNdYeomVj4cdi6omVScJL3E/nHs/dNJAfByby8shICEJgpAQRnphVPscdDAMFpLji+HEh09v/zPy56dDQELCkUTYbTNRUcSYs1ZhWXJM3vSdJnvyx1hSwWwdFQLuOlZdGEBEWyoW1NBccXlCrDynzB8XttdBwrh8qn6af9MtZ9oCiCM55rOpFAAALDE0Bwhq8DIoiVwOlT7syxo8u/0zuH3enDD+z9PXKfO3Xge+7f7vgHd/v/vGmloes3evPe+z0YdYaIXf+BtzsND8s7ftn6pvnb8dsYomYNxLz7bXxp0DA2yzt02URwfF7qtcnLW3Jm5VHceemK1sciOP69L02fQ9NUcHzZUlxlQuULjtVnnhj5AlS3lwrBifWHhHJBAAJ1CCA4daixzzwIVBQUScri74Hv1mqMqqF63//7UvC+foMZwVlzeXIjvjffeM1SGtTDUyQHRduaCI7fe1MUq/L309Z5xlAMgpMUBAlGmVQUbW8qODq2LyJlPS3J+PPkRsfV9NMmQVXv8UmWFcGZx88SpYQABKoRQHCqcSLVFAmcOrnsPVFPyunHHtnrPVFPyqF7d8WkBUEpahRX2Xbg218JbnQjONUnOWjKyuqwieBYA1ZLO17eUkPTLH2dYWoxCI4/e1qVHpNkgz/5uQ3B8UWkrKfFF5yy+EPSJstlnxGcKf5IETMEINAVAQSnK7IctzmBUEG5/67ShmNeg7KL9cuenbMCtTI87fADS/m64do/dX/+nrcFx9600R7TELWyHqymrOz8qCs4/rAzDU9TPEV/GkZnglOnx2nqguPf76JeE2vEN1m2ITi6d8bqpeyZOCHSEpI2jwGC0/wnhyNAAALxEEBw4qnL8ZVk6oLy4N0rPTx5gmL32dStACYZaD7JwNgFxxcsayBXXZaVzeTLX05ZcNQz4rNR4z+vUR+yvg3BUX7+pAA2WUBWHCHSEpI2Ky+tQ3DqXoHZDwIQiJEAghNjrbZVptgFZefRZS+KJMWdOdMWuaDjIDgIjt+gT74vu1/HFxt7P1XB8Z83Iw5F963kNfTz1rclOL6AachaXn4h0hKSNi8/BCfosktiCEAgcgIITsQVfObUiZUG/OmjB4vvQRnbEK8Hvrvag/LIfavx7xxeKZ87fWqStYngzEtw6vTImLhUXU5RcLqUG0lBW4KjyQVMQouGz4VIS0haBGeSl3mChgAEeiaA4PQMPCS7UkE5+MMVATh133bwfRxVG0x10p26/66V+HRT/8owr8ceiUJQQuo0Ky2CMy/BUeO4zvcpZJ+pCY6GevkzlNWdSSyv8d+m4OhY7/rg25aSkze7W4i0hKTNKyM9OFlXV9ZBAAJzJYDgDFDzixm9NIvX2AXlvu0wQTl1cgCa088SwYlfcCQn9l9/LZs8bLSK6ExJcPqQm7YFx+9typOxEGkJSYvgTP+aTwkgAIHuCSA43TNO5XD60Yc6/w+uGkHq0fFn8pJQrfSgHD240oOiHiNe/RNAcOYhOP6zbepM/VxFbCzNVASnL7lpW3B0PL/HKUs6QqQlJG1WXlpHD07/125yhAAExksAwRmgbnQvjDVECpf3fWdVUB7+waqgHHl4VVBOHhugNGTZlACCMw/B0WQB1ovzK7/0PKepowu///u/XSlN1jGmIDh9yo0EoK17cEww/KmssyZDCJGWkLSWf3KJ4DS9ErM/BCAQEwEEZ4DaPHNiZ1dUEJQB6I8vSwRnHoIjEdEEAyY5Wt584zWL5+GYpEh6vvXFLadn30iClMa2hSynIDh6+KXPQp+r/EkGko37Kp/bFhzde2PxZz3IM0RaQtLmlRXBGd+1nYggAIHhCCA4w7EnZwgsCCA48xEcScqb3/DaZcPYGsh5Sz0UNERsLO0UBCevzGXrs2Qir9Hvr29bcHRsPezT4tXsan5+IdISktbPw3+P4PCDAgEIQGCPAIKzx4J3EBiEQF3B0X/7rXGl+zuscVt1ef0H3u5e/YqLg/ez4zfN346jGBSLfa66DMk/JG1R/n/4pt92+itKU2WbhqtJXqz+kkttU+9O3ckIpiA4EpVkuat8vumWD6+IhN/IL3rfheDoOTgWs56P4+evIXi2TbOu+duS70PSJve1zwjOIJdvMoUABEZKAMEZacUQ1nwI1BWcKg3pojRNBafo2CHb6gpOSB5tpW1LcCweCcxdX71t5c+2NVlOQXCsYd7XsgvB8cVEvTl9lSUrHwRnPr8ZlBQCECgngOCUMyIFBDolgODU68FpIgB1921bcOrGUbYfgnNnSja6EByJxuuvfN2yp0bCkyUffaxDcDq9THNwCEBgYgQQnIlVGOHGRwDBQXDKhCV0O4LTn+BoaJoNRct7Jg6CE991mxJBAALjJoDgjLt+iG4GBBAcBCdUYMrSIzj9CY4mFzDB0bNx+pCZrDzowZnBjwVFhAAEKhNAcCqjIiEEuiGA4CA4ZcISuh3B6U9wJBv+M3GGGqaG4HRzfeaoEIDANAkgONOsN6KOiACCg+CECkxZegSnX8HJ6lHpex2CE9GPAkWBAAQaE+hEcLa39rmN9fVlt/1u9/2627edHe/Wxm7a9Y19LifJYsetjbXEMfV5w21lH5a1nRHYdvvWxT6/TpNZq4438k6AZOKKn7e3Ntz6xvRrH8FBcMqEJXQ7goPgVLyMkqxFArR9WoQ5ykONo+1TB00s7aWQsrcuONv7kmJjUpLTGN7e59bXStKcLRGCE1K1XaYN+5Ivz4n1YoENi9hiWJu85CA4CE6owJSlR3AQnLDrKambElj+zi3bMyXtGto+TZEPsL+1O3Las4mIludEq22fRCaVPlrc028vVSru2UQtC86W2zj75V7ft1XYG+MHWbUHx9/HLS8OHfbgbG+5fWd7l0J6K1bijPKDfVkqfMm3NnZ73XK+4NnSaj8M3jJzf/98K+r7G3clIDgITpmwhG5HcBCccV/1YovO/y2i7RNb7e6Vp722z94xnXMBbc3SNlPuqBb/HJ1ue2mFW8mHdgXHpCOzMVoSSehmy6v1IWrbbtGVtxiC5TWwA4ZjhRZleukrfsmXdZQvQqVfVvtvWN45VSGPsfNFcBCcUIEpS4/gIDhjv+5FFZ/9DuX9TrVZWMuLtk+bVCseq722j3P12pqlbaZcwZFI2Yip/DZZRRCTSNau4Nh/64sAt4VlWVEt9+BYGdSwXt9wW9tmvfM4IapVT5UvuaVZc01OB/syrxfcvzOebuBq9JKpEBwEp0xYQrcjOAhO8jrD5w4JWLuhyY9d1fBo+1Ql1UE6a9cUtQctTUnbx86ZwLamtYnqnmpTby+FVOpggmOVZM8P2F0GyErQl3zbaRjc3r0+a259IS9ZqLbcxvqG27dlXXjdCc4uA/uiJGJUDBZCKsxE2rWi8mhn/acgPfGDGOyVM5XJ2RXbbmvfxgq7teUEEhZ7xr725W3yH63KdVzxgpIR5hhWITgITqjAlKVHcBCcMVzbZhOD/d5VaHXS9nGOto++GfXamnb+VDjVcr5+024v5RQqc3VDwbHGvz+UK+d9ojaskroXnKIYCxroS1y2f5W0y50qvdn7kutEz+KWlafFUzW9eiXzJn7YPUZ+70hRXto3K77dolv9Jqq9EhdLZMfIj89SemVskuHe4Xp9h+AgOGXCErodwUFwer2IzS6zst9G7/c58Ztkv2u0fdR+oO2z99Wxcyq/XaW0dv4kTqu9w1R4t2wTNjlIhXyGTjKY4KwUvPJ/6r29Ku2zZ6prG/6Nf7s9IIsLTGkPQ7WTzous8ls7Ue1Ctzcxw2rcewdcXb/XwVNcnm31wGzsc1vbe3uoV2cv/6yeMy+vde3rRbG8KOV9EY1Z1nH3jlP4rlL9ekcITe/tOvRbBAfBCRWYsvQIDoIz9HUt7vztN84TGbtfNLksakTW+d2qtI/3+03bZyJtHzun8tpVu98oa7cVnVal371K51DpUUafoKHgJMoX0E27smcd2FX2sTSZErN3ASg+UaqddCvlqfjBTlQJzoZvENrfWPqxt1IeP7iCsmXlv9zV2OV8EQvjXB6k8I2xqdJ7s3sgi6lk3Gthrv1v3NnZceeee6576lPOcRdecF6vfz9/7s+6n3jSE3vNM6uMikGxZG0b27qn/tQ5Tn9jiysZz/nPebZ73OMf5y547nmd/z3hR5/gnvGsp3eeT9OyKEbF2vQ4Y93/x5/8RHf++ef3fxGLJMdjJ4+6x048Wq809ntZ3JhIH9t+K0MmDKiyj6Xx2w/L3Kv+Vha0D5bHqvfGft9p+/j8qvH22dk/x3XbwO4/sf3jFb2veg4UHWP826IWHOuGy2skl23frb5qJ12dqrYTNTO+jAtUWbxl29Mx2kmeFpXiY+Xvt8ij7sXeArSyh1z0W+q6tRD6XF5++eXuZZde7D7xmY/2+vdf/9tvuYte8Iu95plVRsWgWLK2jW3dyy+92OlvbHEl4/nQ9e93P/6kJ/YS5zOf9TT31ne+uZe8kuUM+awYFWvIPlNKe9ELf9G94x3v6PPSFUVeEpsHjnzf3XPoTrf/8F3ujDsTXq66v3l1fusq7FP8+703pDuz7bEsPW2fJYrlmy7bPtV4W7txKTeJHsPiOl0WZDmCJ9TJ944w/ndRC07ZiWAnSPEJUe2kq1PVFl/VE8zSW9x5y6zy7E59nXcvTlpwLK/s2Iq/5GUX1zJWlndWOYr2bZpv0bG73KYham+86orFD6x+ZPv6e98173Qvv/SlveWXVy7FoFjyto9pveppiLoKZfClf/nf7ik/fU4vTNWjIREIjbHv9IpRsfadb1/56Xu0ubnZ5aUqqmMfP3XMPXh0f+p8OHzs4fByjkxw7Dc0r41g64t/Y2n7pE+ELts+9XlvL28bKL432i/PVNtLfhnK3iM4moEsf7qy3ZkuFoacloAyuGXb7SKULRHpvS29XZzylsnylO+XLpvtkx1bh1/yCv+dSpPZXTPVLyyCg+C03QhGcNL/KEBw8q6c81p/8vSJTLHRd/Chx+5z2h78QnCCkBW3L9KHsvR5bR5bP+m2j2ZVa9TWtP2rDdOfanspfXbkr4lacNqpQDtp0hKQj7XaFvvSZktE+hi1ymMX3qz7fFy+qFhsyQvGblTFTCxOTewQ+irOt/hotm+NbIsP3PFWBAfBQXDSQtI2EwSn4wvZyA8vcZHAZJ1X6smpJTZWZvudDf3xqfMPvQr72G9w9u+3BV22LP6dL9u7aHvob3Wt8lidTKTts5g2upHgWHuumuCE1kFRfY51W9SCs7xRP/Sis1JboV/yvZNsvSTf4BPMvrAlx/XDtwvDWubNhjZFY1relvul8torX+400RZnZp5+dIn3FS7ciT28jxZXuixeolG+RXAQnKxGV5N19OCkhQnBGeXlr/OgTp056Q7uPJArNhqq1vhlv3mp38uSI9f5zauyT914VsKl7bOCY/kP4YJhYMY9tO2zyCiU92p0bnleVGkDTbe9lCh14ce4BWfZ5beWMcOEPfyybCrjsJNuKQZnb/wqut4FC06d8tgXbuWZNSq7//DOjC/E8svizfC2veX2rTyvJ2O/lS9qGdvVc9N41Puvk9VTWJ6rEQzzCcFBcJrITNa+CA6CM8zVbDy5nj5zeiE233/kOym50aQCx0491l6w9jtb9IOfldvydzbgd6vSPvZ7SNtn9R+x42z77J4aVmd57aqsE0jrEmWqdA5aXgHnXV72I14/kOAY3OI55FcbunX2Ud3vc+tnZcPGaa4ukxVcLZ+84VfdCk7b5Vl36wthyf5CmXCs8tq9Z2l3W/Z+Ot9t39U6LPgmLOspWR8F+/ib6v7A+McY6D2Cg+BkSUqTdQgOgjPQ5WzwbCU2h3YOuB88sp0Sm/uP3OM0a1rrr8q/P9XaF6u/m3X2abut4LXVchrQtH12z6rqbZ9q9bra1rSeF68+vPatpor2HlmYf5pXPl/zDzGFLfELjmpBPQ8b6wnRyZs3vM5J51f13gnY+hA1yyaoPLvl31j3Z1BT2becnvtZLCrbbmufx219ffm8nuL9cp7jY/Gnlh6zwgkfUjueXWH75wtX3p5jWI/gIDhNZCZrXwQHwRnDta3PGDS9s2ZAyxKb+x799/rPuKlSiMoNxmrti1YER3EHtRWqxbba4Pbh2O+weo2K7781CShJ5h98931Qecbe9qnDe4/x3j+erS1bSW0E5exInGm2l9InRf6adgUnPx+2zI6AfYnKZqlrAUzlH5cW8urgEAgOgpMlKU3WITgITgeXqlEe0sRGz7BJfmd+ePi77uiJw6OMm6BiJdBj26cOwom3l0KKjOCE0CJtGIHlsLMO/1PQRx5hpQ5OjeAgOMmGWdPPCA6CE3whmuAOR44fcpKY5PdFsqNtvCAwCIGxtkvGGldHlYTgdASWw+4S2BuXW/PemkKQe/8pCe7qLjxuvxsRHAQn2UBr+hnBQXD6vYr1m9tjJx7NFRsNU1OvDi8IDEmg27ZPnZLF0V4KKTmCE0KLtLUIbG2cvf+n1tSJeVnufVlXxyvnpR/vegQHwWkqNMn9ERwEZ7xXvPqRSWx0P03yfNd9N48cewixqY+WPTsg0E3bp06g8bSXQkqP4ITQIm1tAvqib2xVvQmuWjbb+zbcRq1JCaodv69UCA6Ck2ywNf2M4DQXnC/c8Vl30y0fdjff+olUg7pp/XSx/8svfanb3Nzs67LVaz6a+UwzoCW5SWw0Y5pmTuMFgTES6KLtU6ecsbSXQsqO4ITQIi0EOiDQRHC+dc8d7svf/Hzqhz/ZEMj6/L5r3unUKMra1uc6xaBY+syzbl5vvOoKp7+6+/e1H4LTXHA+dP37nc1U9NnbPz36Oo9RcPSsGj2zJvm90bNt9PBOPcSTFwQgAIEsAghOFhXWQaBHAnUFR2JjDbC3/PHvpxoByUZB8jOCk24EJxklPyM4aWYXPPc894nPfDT4/Euy7fqzYlSsVfNRD459v971wbdV3q/q8dtOF5PgHD91zD14dH8m84d37kdsevx9IisITJUAgjPVmiPuaAhMVXAkWC98yfMXjcAmDUB6cNLS0LTxO7UeHPVEaiiYek0k6/q74ePXujZ7TkIFR3Vg57dERzE2rZcu949BcE6ePuEOPPbDTM4PPXaf03ZeEIAABKoQQHCqUCINBDokMFXB0f0J9h9uLes23hCc+QqOJFky459HyfeSjDZEp47gSLIsnrHfizNlwZG4SGCyriHqyTlx+niHV2AODQEIxEgAwYmxVinTpAggONyDk9Wwa7JuCj04/hBLkwjJTJ7waMhYEyZ1BOdr219aCs7rr3xdo/ybxF5l3ykKju6h0b00uqcmWcYHjv7AaagaLwhAAAJ1CCA4daixDwRaJDBVwVGDRL04+mvS+KQHZ549ONYDKKnR++QQMPXa+EPE9D7ZCA75XEdwdPxX/uYlS8mR8ITk2WfaKQmOZj07dOzBbLE58n2nWdN4QQACEGhCAMFpQo99IdACgSkLThsNOARnnoIjKdYQsKJzSJJjvTtaqtenKH3RtrqCo6FpFkNZvEX5d71tCoKzEJudA07TOyd56Pk2OyePtHBF5RAQgAAEnENwOAsgMDABBIchasnGXtPPUxiiVrWMJhdaNrkPpq7gqGfJYlBvTtW4+043ZsE54864w8cezhSbex+92+kBnrwgAAEItEkAwWmTJseCQA0CUxYc/Uddf8nhRSGNuyY9OJZ/Mj/1DtjwuTZuULfjtz1NtB9n06F+FqOWsQqOGPnlDHlfV3CUh39fUMhwzD7Pz7EKjsRm/+G7UvX2w8PfdUeOH6pxxWQXCEAAAuUEEJxyRqSAQKcEpio4arzZf7bVAAxpbPpp6wqOn781fPUffv++DYtPS0vj5x36vi3BUSx5cWp901hjFRzVeWidWfomguMPldNU1nbMomXf5+fYBEfyIolJMpLsPHr8YKfXVA4OAQhAAMHhHIDAwAQQnHpD1JINSP/J877Y+O+bikMbgqPZuPyYNOxJgpgUnibPFopFcHyxEJ9kYznkcxPBUT5+nVXJt+/zcyyCo+FmeWKj3hwNV+MFAQhAoGsCCE7XhDk+BEoIIDjNBceXA4mOzXal4URJoWgynK6p4EharKGsuJI9Evrsl6WukMUgOKrDNliYjDQVHF+gqwx79AXHL0dX5+fQgiOx0UQBxtuWmlDg0M4BpwkGeEEAAhDoiwCC0xdp8oFADgEEp7ngmDTkNTz9BmaTG9WbCI7f4C26Wd1/9oritoZiyHJqgiM29icp9WVCddvG7GVNBUdx2XlWZUimX9+2X5fn51CCoymdHzjy/dR5qmfbaCpoxCbnws9qCECgUwIITqd4OTgEygkgOO0ITl7jUWLgP5FejecQWfDTNhEcv/emKFbl56cNuandYp2S4PhlNRGwZVYvl5UxdNlUcJSfL8plPYFJwSmq8zbOz74FRw/hzBMbPbxTD/HkBQEIQGAoAgjOUOTJFwJnCSA4zQWn7D/qfmOzLG1Rw7mJ4FijXcuiPLRNQ9MsfZ1harEIjhhIKuowSDJuQ3B8ESnrCQw550LSJstln/sSHInNg0f3Z57DDz12H2LDLxsEIDAKAgjOKKqBIOZMAMGJX3D8YWcanqYGbdGfGs8mOHV6nKYkOOoJ8Vmox0pCI07GQEv15lhjvs6yDcFJ1mNRHCHSEpI2L8+uBefk6RPuwGM/zKwDrdd2XhCAAATGQgDBGUtNEMdsCSA48QuO34D1G+1V3tfpcZqS4OQ12LXeFz2xqsPCjt+G4OhY/qQVEh47fnLp13lZ3CFpk/nY564ER0PN1DNj+fhL9eSoR4cXBCAAgbERQHDGViPEMzsCCA6CUyQ6Rfdu+I1N/30sgqMy+cP1xKlIKnwGyfdtCY4vXUWTH4RIS0jaZLnsc9uCI7HRvTSaLMDysKXuvTl26rHZXaspMAQgMB0CCM506opIIyWA4MxLcMr+m2+NyCbLmARHHHwBrHs/TluCoyF1Fk/RLHch0hKSNu+8aEtwNOuZZj/LEpv7j9zjNGsaLwhAAAJjJ4DgjL2GiC96AgjOvARHjeO8Rmpb6xGcO1OM2xIc1ZE/81veLHch0hKSNu8caSo4C7HZOeD03JpkHnq+jZ5zwwsCEIDAVAggOFOpKeKMlgCCE7/gqMFo//XXsmyK4WQDM/RzzIJTNntZHqs2BUfDBq0+8yaBCJGWkLR55asrOGfcGXf42MNu/+G7UmLzw8PfRWyi/eWhYBCImwCCE3f9UroJEEBw5iE4/n/96w6zymvcJtfHJDi+TEgqhr4Hx1j7z8Sxdf4yRFpC0vp5+O/rCE6R2Bw5fmgCV09ChAAEIJBNAMHJ5sJaCPRGAMGZh+D4DXU1jqs01Kuk8Ru59n4KglPl+TYqvy8STaaKbrMHR5zVc2O9OFkTQYRIS0haq+PkMlRw7n307lSPjXpxJD3q1eEFAQhAYMoEEJwp1x6xR0EAwZmH4KhBqgkGrFGspWbhUuPWGqtq0OueDjWerWFv20KWYxec5I36Kq8kQSz0Zwx8VnpfV/jErm3BUYwWX9bEESHSEpI27zwIFRzNkGbH0n035Aj9UAAAEYNJREFUjxx7CLGJ4heFQkAAAiKA4HAeQGBgAgjOfARHDUr/OSrWQM5b6mGX1ggNWY5dcEI5SPbybuavyqVtwVG+/sNIk/dVhUhLSNq88oYKjqaBVo/NoZ0DThMM8IIABCAQEwEEJ6bapCyTJFBXcPTfbGsY6/6OvIZP3vr3XfNOp0ZR3vay9U3zt+MrBsVin6suQ/IPSVuU/xuvusLpryhNlW3qrfAbx1aPttQ29e4kG81Vjq00UxAcxSkORcInsSl61kxVHkrXheAoNquz5OQHIedcSNq8MocKziQvlgQNAQhAoCIBBKciKJJBoCsCdQUnr6FTdX1TwamaT1m6uoJTdtwutrclOBabBEb/vff/bFuT5VQExy+jz0Dv1ej3tzd934Xg+GJSt7etablsfwSnqys0x4UABKZIAMGZYq0Rc1QEEJx6PTjWsOtz2bbgdBX7FAWnKxZ23C4ER8f2e6DaljKLvcoSwYnqZ4HCQAACDQkgOA0BsjsEmhJAcBCcKg3YkDQITrcP+vTrQkPTbJha3jNx/PRdvUdwml6J2R8CEIiJAIITU21SlkkSQHAQnLYbvQhOf4KTnBGu7bqsejwEZ5KXf4KGAAQ6IoDgdASWw0KgKgEEB8Gp2oitmg7B6U9wVCf+M3GGGqaG4FS94pIOAhCYAwEEZw61TBlHTQDBQXCqikvVdAhOv4JTtV66TIfgjPoyT3AQgEDPBBCcnoGTHQSSBBAcBKfthi+Cg+AkrzN8hgAEIDAnAgjOnGqbso6SAIKD4CA4aSFpm0lXs6i1HWfd49GDM8rLO0FBAAIDEUBwBgJPthAwAggOglO3UZu3Hz04aWFCcOyKwxICEIBA/AQQnPjrmBKOnACCg+DkiUrd9QgOgjPyyx7hQQACEOiUAILTKV4ODoFyAggOglNXZPL2Q3AQnPIrDykgAAEIxEsAwYm3binZRAggOAhOnqjUXY/gIDgTufwRJgQgAIFOCCA4nWDloBCoTgDBQXDqikzefggOglP9CkRKCEAAAvERQHDiq1NKNDECCA6CkycqddcjOAjOxC6DhAsBCECgVQIITqs4ORgEwgm8+MUvdv/xuee5N151Ra9/L/rlF7hnPOvpveaZVUbFoFiyto1tneppiLoK5fBfXvca94Qf/Q+9MH3KT5/jXnbpxb3kFcrBT68YFau/Lqb3z3zW093v/M7vhF+A2AMCEIBAhAQQnAgrlSJNh8DBgwfdhRdeOEijGcEJF0oEJ81M0vCa17zGqSdyzH+K8Wd+5mdGHWMTfr/wC7/gfuM3fmM6Fz8ihQAEINAhAQSnQ7gcGgJVCDBEjSFqdYei5e3X9xC1z3/+81VO9UHTKMaLLrpo0Bi6zPyyyy5zm5ubXWbBsSEAAQhMhgCCM5mqItBYCSA4CE6eqNRdj+CkrxYITpoJayAAAQjESgDBibVmKddkCCA4CE5dkcnbD8FJf/0RnDQT1kAAAhCIlQCCE2vNUq7JEEBwEJw8Uam7HsFJf/0RnDQT1kAAAhCIlQCCE2vNUq7JEEBwEJy6IpO3H4KT/vojOGkmrIEABCAQKwEEJ9aapVyTIYDgIDh5olJ3PYKT/vojOGkmrIEABCAQKwEEJ9aapVyTIYDgIDh1RSZvPwQn/fVHcNJMWAMBCEAgVgIITqw1S7kmQwDBQXDyRKXuegQn/fVHcNJMWAMBCEAgVgIITqw1S7kmQwDBQXDqikzefghO+uuP4KSZsAYCEIBArAQQnFhrlnJNhgCCg+DkiUrd9QhO+uuP4KSZsAYCEIBArAQQnFhrlnJNhgCCg+DUFZm8/RCc9NcfwUkzYQ0EIACBWAkgOLHWLOWaDAEEB8HJE5W66xGc9NcfwUkzYQ0EIACBWAkgOLHWLOWaDAEEB8GpKzJ5+yE46a9/qODceeed7rbbbnNf/vKX0wcb4ZrLLrvMbW5ujjAyQoIABCDQPwEEp3/m5AiBFQJNBOdb99zhvvzNz7u8hm7R+vdd80738ktfWmvfouOGblMMiiV0vyHSv/GqK5z+hsg7JE8EZ+UrtvgQKjg33XSTW1tbW/x94xvfSB9wZGsQnJFVCOFAAAKDEkBwBsVP5hBwrq7gSGysAfaWP/794EY3gnNnMDMEJ83sguee5yQPY3+FCo56cOz7dd111429eA7BGX0VESAEINAjAQSnR9hkBYEsAlMVHAnWC1/y/EUj8F0ffFuwLFiPBD04aWkwNnWXMfTgqNdEQ8T010YPSqjg6Lv6q7/6q0vJOXToUNbXdzTrEJzRVAWBQAACIyCA4IygEghh3gSmKjg33fLhZeNP/+mu2xhHcBCc5BVAUmO9J7b83ve+l0wW9LmO4Nxyyy3LOMZ+Lw6CE3Q6kBgCEIicAIITeQVTvPETQHC4B6euHObtN+UeHPWUmNT4yyEE5/7771/G8pa3vGXUFxMEZ9TVQ3AQgEDPBBCcnoGTHQSSBKYqOGpcqxdHf1+447P04BxqvycmT2DK1k9ZcN773vcupeK1r33t8v0QgqPvqh+DhGesLwRnrDVDXBCAwBAEEJwhqJMnBDwCUxacsoZ2le0MUWtfjKYqOJIY67XR8DBfdoYSHA1N82PyvrqjeovgjKo6CAYCEBiYAIIzcAWQPQQQHIaoVRHBkDRTFRzrLdHN/XqNQXD8IXOKb6wvBGesNUNcEIDAEAQQnCGokycEPAJTFhzNpKY/PY8npAHup23Sg2P5+8fTew2Zs+Fzn73907VjSx637Wmi/TibDvXzY52i4PgTC9isaWMQHH1V/Tg0fXTVl3qdsnqe7CGibc0Qp3gQnKq1QjoIQGAOBBCcOdQyZRw1gakKjuTChu7UeQ6PNcjrCo6fv+RAx7v51k8sp6622GxpaSzfOsu2BEex2BTbFp8ttb5prFMTHPWS2JTMkgl7+WKRJQqWrsqyzixqdlwJl9WPHgBa5aV4bR+JjF4a7mbltG22tDRVjp2VBsHJosI6CEBgrgQQnLnWPOUeDQEEp94QtaTgfOj69y8blNZoTC6bikMbgvP6K1+3Eucrf/MSJ0FMCk+TZwtNTXD0IE2rK/9G/rEIji4WFp+WVV5JwZEY+cfIet9EchCcKrVCGghAYC4Eql2p50KDckJgAAIITnPB8eVAovO17S8tenQ0BCwpFE2G0zUVHEmLNWwVlyTN70nSZ78sdYVsSoLji4AmFvBfYxIcX1BsCJ0fa/K9Xy6/10bHMYnTUDVNP23nhJZ1HyiK4CRrgM8QgMCcCSA4c659yj4KAghOc8GxBmLe/Ta+NGgYmy8VIe+bCI7f46Rem7x8JWdWHsWdl65o/ZQEJzmxgP+lHJPgSEasXhRX2csXHNsvT4x8Aar7QFEEp6xG2A4BCMyJAIIzp9qmrKMkgOC0Izh5ciMRuOHj1y4bp+rhKZKDom1NBMfvvSmKVfn7aes8Y2gqguNPwZzVsB+T4Oji4YtIWU9LUnDy5EbHVc+VSVDVe3ySFzMEJ0mEzxCAwJwJIDhzrn3KPgoCCE5zwSmb5MDvPSlL25XgWANWy6I8tE1D0yx9nWFqUxEcEwYN08p6jU1wfBHJEjK/DL7glPX4hKT18/DfIzg+Dd5DAAJzJ4DgzP0MoPyDE0Bw4hccf9iZhqdJuIr+NIzOBKdOj9MUBMe/p0UN/KzX2ARH985YvZQ9EydEWkLSZnHSOgQnjwzrIQCBORJAcOZY65R5VAQQnPgFx+9BsgZy1WWdHqexC47foC8akjU2wdGFw58UwCYLyLqg+GWkByeLEOsgAAEIdEcAwemOLUeGQCUCCA6CUyQ7ZffrZA13G7vgmLhoiFrRy9KJj4ShyavJc3D8fP37hpKzvvnpEByfBu8hAAEI9EsAwemXN7lBIEUAwZmX4NTpkcmSmKJ1YxecIqGrsq3O82LaEhxNLmAxFgkagpO61LECAhCAQG8EEJzeUJMRBLIJIDjzEhw1jovkpI1tsQtO2ZCvrG9aW4KjY/sPJtX00VkvBCeLCusgAAEI9EMAwemHM7lAIJcAghO/4Eha7L/+WjZ52GgVARq74Oi+G0lK2Z/NsiZmuvfF0udJRe6XzDnXpuBoymerz7x7iBCcotpgGwQgAIFuCSA43fLl6BAoJYDgzENw/Gfb1Jn6uYrYWJqxC07pl+JsAgmNiYSEocmrTcFRHL58ZcWF4GRRYR0EIACBfgggOP1wJhcI5BJAcOYhOJoswBrrL3zJ852mjjYhyVtWSZO1L4KT/rq1LTj+NNdZD/FEcNJ1wBoIQAACfRFAcPoiTT4QyCGA4MxDcCQimmDAJEfLGz5+7eJ5OCYpEpov3PFZp2ffSIKUxraFLBGc9JetbcHRMDmrS/U0JV8ITpIInyEAAQj0RwDB6Y81OUEgkwCCMx/BkaS8/srXLRvG1kDOW+qhoCFiY2kRnPRXrW3BUQ562KfVnWZX818Ijk+D9xCAAAT6JYDg9Mub3CCQIlBXcPTffmtc6f4Oa9xWXb7vmne6l1/60uD97PhN87fjKAbFYp+rLkPyD0lblP8br7rC6a8oTZVtGq4mebH6Sy61Tb07dScjiEVw/NnKJAxNXl0Ijp6DY3Wn5+P4Lz0E1LapHEWvkLR5x7nsssvc5uZm3mbWQwACEJgVAQRnVtVNYcdIoK7gVGlIF6VpKjhFxw7ZVldwQvJoK21bgmPxSGC+/M3Pr/zZtibLWASnze9rF4Lji4l6c4Z8IThD0idvCEBgbAQQnLHVCPHMjgCCU68Hp4kA1N23bcGpG0fZfghO+jLSheAoF01fbT01Ep6hXgjOUOTJFwIQGCMBBGeMtUJMsyKA4CA4ZcISuh3BSV9CuhIcDU0zwcl7Jk46mvbXIDjtM+WIEIDAdAkgONOtOyKPhACCg+CECkxZegQnfXHoSnA0uYAJjp6NM9QLwRmKPPlCAAJjJIDgjLFWiGlWBBAcBKdMWEK3IzjpS0hXgqOc/GfiDDVMDcFJ1zlrIACB+RJAcOZb95R8JAQQHAQnVGDK0iM46S93l4KTzq3/NQhO/8zJEQIQGC8BBGe8dUNkMyGA4CA4ZcISuh3BSV88EJw0E9ZAAAIQiJUAghNrzVKuyRBAcBCcUIEpS4/gpL/+CE6aCWsgAAEIxEoAwYm1ZinXZAggOAhOmbCEbkdw0l9/BCfNhDUQgAAEYiWA4MRas5RrMgQQHAQnVGDK0iM46a8/gpNmwhoIQAACsRJAcGKtWco1GQIIDoJTJiyh2xGc9NcfwUkzYQ0EIACBWAkgOLHWLOWaDAEEB8EJFZiy9AhO+uuP4KSZsAYCEIBArAQQnFhrlnJNhgCCg+CUCUvodgQn/fVHcNJMWAMBCEAgVgIITqw1S7kmQwDBQXBCBaYsPYKT/vojOGkmrIEABCAQKwEEJ9aapVyTIHDw4EH3+Mc/3q2trfEHA84BzoFG58DTnva0SVz3CBICEIBA1wQQnK4Jc3wIlBDQf5a//vWvl6Rqf/Pdd9/t/uZv/qb9AwceUTEolim8VE+qr7G/dnZ23J/92Z/1EuZNN93k7r333l7yapKJ/pmwubnZ5BCj3ndK36NRgyQ4CEAgCgIIThTVSCEgAAEIQAACEIAABCAAARFAcDgPIAABCEAAAhCAAAQgAIFoCCA40VQlBYEABCAAAQhAAAIQgAAEEBzOAQhAAAIQgAAEIAABCEAgGgIITjRVSUEgAAEIQAACEIAABCAAAQSHcwACEIAABCAAAQhAAAIQiIYAghNNVVIQCEAAAhCAAAQgAAEIQADB4RyAAAQgAAEIQAACEIAABKIhgOBEU5UUBAIQgAAEIAABCEAAAhBAcDgHIAABCEAAAhCAAAQgAIFoCCA40VQlBYEABCAAAQhAAAIQgAAEEBzOAQhAAAIQgAAEIAABCEAgGgIITjRVSUEgAAEIQAACEIAABCAAAQSHcwACEIAABCAAAQhAAAIQiIYAghNNVVIQCEAAAhCAAAQgAAEIQADB4RyAAAQgAAEIQAACEIAABKIh8P8BDx9I/lOesZQAAAAASUVORK5CYII=)"
   ]
  },
  {
   "cell_type": "markdown",
   "id": "4cb98f26",
   "metadata": {},
   "source": [
    "También podemos leer de a líneas:"
   ]
  },
  {
   "cell_type": "code",
   "execution_count": null,
   "id": "6998630a",
   "metadata": {},
   "outputs": [],
   "source": [
    "with open(datapath, \"r\") as file1:\n",
    "    print(\"first line: \" + file1.readline())"
   ]
  },
  {
   "cell_type": "markdown",
   "id": "c2b2f2dc",
   "metadata": {},
   "source": [
    "Podemos iterar por las líneas:"
   ]
  },
  {
   "cell_type": "code",
   "execution_count": null,
   "id": "ea076113",
   "metadata": {},
   "outputs": [],
   "source": [
    "with open(datapath,\"r\") as file1:\n",
    "        i = 0;\n",
    "        for line in file1:\n",
    "            print(\"Iteration\", str(i), \": \", line)\n",
    "            i = i + 1;"
   ]
  },
  {
   "cell_type": "markdown",
   "id": "73314109",
   "metadata": {},
   "source": [
    "## Escritura de archivos\n",
    "\n",
    "Cambiando el modo del ``open``, podemos definir que se quiere poder escribir el archivo."
   ]
  },
  {
   "cell_type": "markdown",
   "id": "a83945b7",
   "metadata": {},
   "source": [
    "Por ejemplo, vamos a escribir \"linea A\" en el archivo ``test_escritura.txt`` que se creará en el ambito local donde estemos ejecutando esta notebook."
   ]
  },
  {
   "cell_type": "code",
   "execution_count": null,
   "id": "28cdf839",
   "metadata": {},
   "outputs": [],
   "source": [
    "with open('test_escritura.txt', 'w') as writefile:\n",
    "    writefile.write(\"linea A\\n\") # escribe una línea de texto en el archivo indicado sin incluir el salto de línea (por eso lo agregamos)"
   ]
  },
  {
   "cell_type": "markdown",
   "id": "061aee13",
   "metadata": {},
   "source": [
    "Vamos a chequear que efectivamente se haya realizado la escritura:"
   ]
  },
  {
   "cell_type": "code",
   "execution_count": null,
   "id": "e19e1eb6",
   "metadata": {},
   "outputs": [],
   "source": [
    "with open('test_escritura.txt', 'r') as testwritefile:\n",
    "    print(testwritefile.read())"
   ]
  },
  {
   "cell_type": "markdown",
   "id": "e36e48a8",
   "metadata": {},
   "source": [
    "Ahora, en lugar de reescribir el archivo, queremos agregar una línea al final, para ello seteamos el modo en ``a``."
   ]
  },
  {
   "cell_type": "code",
   "execution_count": null,
   "id": "8d0a8caa",
   "metadata": {},
   "outputs": [],
   "source": [
    "with open('test_escritura.txt', 'a') as writefile:\n",
    "    writefile.write(\"linea B\") "
   ]
  },
  {
   "cell_type": "markdown",
   "id": "dad83320",
   "metadata": {},
   "source": [
    "Vamos a chequear que efectivamente se haya realizado la escritura:"
   ]
  },
  {
   "cell_type": "code",
   "execution_count": null,
   "id": "93ad46d0",
   "metadata": {},
   "outputs": [],
   "source": [
    "with open('test_escritura.txt', 'r') as testwritefile:\n",
    "    print(testwritefile.read())"
   ]
  }
 ],
 "metadata": {
  "kernelspec": {
   "display_name": "Python 3",
   "language": "python",
   "name": "python3"
  },
  "language_info": {
   "codemirror_mode": {
    "name": "ipython",
    "version": 3
   },
   "file_extension": ".py",
   "mimetype": "text/x-python",
   "name": "python",
   "nbconvert_exporter": "python",
   "pygments_lexer": "ipython3",
   "version": "3.7.6"
  }
 },
 "nbformat": 4,
 "nbformat_minor": 5
}
