{
 "cells": [
  {
   "cell_type": "markdown",
   "metadata": {},
   "source": [
    "## Introducción a Pandas (2)\n",
    "\n",
    "Durante el curso vamos a estar desarrollando los aspectos prácticos utilizando Python. Para aquellos que no estén muy familiarizados con el lenguaje, acá tenemos una introducción a las bibliotecas que más vamos a manejar.\n",
    "\n",
    "Si necesitan más material, algunos libros para consultar (si los quieren, los podemos compartir):\n",
    "* Python for Data Analysis: Data Wrangling with Pandas, NumPy, and IPython\n",
    "* Pandas for Everyone: Python Data Analysis\n",
    "\n",
    "Cuentan con una serie de notebooks introductorias:\n",
    "* Creación, lectura y escritura.\n",
    "* **Indexando, seleccionando y asignando.**\n",
    "* Tipos de datos, valores faltantes, funciones de resumen.\n",
    "* Agrupamientos y orden.\n",
    "* Renombrado y combinación.\n",
    "\n",
    "En cada notebook van a encontrar algunos ejericios (opcionales).\n",
    "\n",
    "Las notebooks se encuentran basadas en diversos tutoriales de Kaggle y cursos de la Unversidad de Berkeley."
   ]
  },
  {
   "cell_type": "markdown",
   "metadata": {},
   "source": [
    "## Indexando, seleccionando y asignando\n",
    "\n",
    "Vamos a trabajar con el ``DataFrame`` de tweets que teníamos en la notebook anterior."
   ]
  },
  {
   "cell_type": "code",
   "execution_count": null,
   "metadata": {},
   "outputs": [],
   "source": [
    "import pandas as pd"
   ]
  },
  {
   "cell_type": "code",
   "execution_count": null,
   "metadata": {},
   "outputs": [],
   "source": [
    "df_tweets = pd.read_csv('tweets.csv',index_col = 0)\n",
    "df_tweets"
   ]
  },
  {
   "cell_type": "markdown",
   "metadata": {},
   "source": [
    "En Python podemos acceder a las propiedades de un objeto accediéndolas como si fueran atributos. Por ejemplo, si tenemos un objeto ``libro`` que tiene un atributo ``titulo``, lo podemos acceder como ``libro.titulo``. Las columnas de un ``DataFrame`` pueden ser accedidas de la misma forma."
   ]
  },
  {
   "cell_type": "code",
   "execution_count": null,
   "metadata": {},
   "outputs": [],
   "source": [
    "df_tweets.user_id"
   ]
  },
  {
   "cell_type": "markdown",
   "metadata": {},
   "source": [
    "También las podemos acceder como accedemos a las claves de un diccionario:"
   ]
  },
  {
   "cell_type": "code",
   "execution_count": null,
   "metadata": {},
   "outputs": [],
   "source": [
    "# esto es equivalente\n",
    "df_tweets['user_id']"
   ]
  },
  {
   "cell_type": "markdown",
   "metadata": {},
   "source": [
    "### Selección basada en índices\n",
    "\n",
    "La primera opción que tenemos para acceder a los datos es utilizar la posición numérica de los datos, es decir, su índice.\n",
    "\n",
    "Para seleccionar la primera fila de un ``DataFrame`` podemos utilizar:"
   ]
  },
  {
   "cell_type": "code",
   "execution_count": null,
   "metadata": {},
   "outputs": [],
   "source": [
    "df_tweets.iloc[0]"
   ]
  },
  {
   "cell_type": "markdown",
   "metadata": {},
   "source": [
    "Tanto ``iloc`` como ``loc`` funcionan indicando primero la fila y luego la columna. Con lo que puede parecer que acceder a una columna sea más complicado.\n",
    "\n",
    "Para acceder a la columna 0 usando ``iloc`` tenemos que hacer:"
   ]
  },
  {
   "cell_type": "code",
   "execution_count": null,
   "metadata": {},
   "outputs": [],
   "source": [
    "df_tweets.iloc[:,0]"
   ]
  },
  {
   "cell_type": "markdown",
   "metadata": {},
   "source": [
    "El operador ``:`` siginifica \"todo\". Como en este caso, seleccionamos todas las filas, y de ellas la columna 0. También se lo puede combinar con otros selectorres para indicar un rango de valores. Por ejemplo para seleccionar la columna 0 de las primeros 5 filas:"
   ]
  },
  {
   "cell_type": "code",
   "execution_count": null,
   "metadata": {},
   "outputs": [],
   "source": [
    "df_tweets.iloc[:5,0]"
   ]
  },
  {
   "cell_type": "markdown",
   "metadata": {},
   "source": [
    "O para seleccionar solo la tercera y cuarta fila:"
   ]
  },
  {
   "cell_type": "code",
   "execution_count": null,
   "metadata": {},
   "outputs": [],
   "source": [
    "df_tweets.iloc[2:5,0]"
   ]
  },
  {
   "cell_type": "markdown",
   "metadata": {},
   "source": [
    "También le podemos pasar una lista:"
   ]
  },
  {
   "cell_type": "code",
   "execution_count": null,
   "metadata": {},
   "outputs": [],
   "source": [
    "df_tweets.iloc[[0,1,2],0]"
   ]
  },
  {
   "cell_type": "markdown",
   "metadata": {},
   "source": [
    "Finalmente, también podemos utilizar números negativos. Lo que hace es contar desde el final de los valores. De esta forma, para acceder a la última fila:"
   ]
  },
  {
   "cell_type": "code",
   "execution_count": null,
   "metadata": {},
   "outputs": [],
   "source": [
    "df_tweets.iloc[-1:]"
   ]
  },
  {
   "cell_type": "markdown",
   "metadata": {},
   "source": [
    "Resumen:\n",
    "\n",
    "```\n",
    "a[start:stop]  # items start through stop-1\n",
    "a[start:]      # items start through the rest of the array\n",
    "a[:stop]       # items from the beginning through stop-1\n",
    "a[:]           # a copy of the whole array\n",
    "```"
   ]
  },
  {
   "cell_type": "markdown",
   "metadata": {},
   "source": [
    "### Selección basada en etiquetas\n",
    "\n",
    "Muy lindos los índices, pero recordemos que el ``DataFrame`` tiene nombres de columnas y filas que pueden ser utilizados para accederlos. \n",
    "\n",
    "Por ejemplo, para obtener la columna cero por nombre de la primera fila:\n",
    "En ``loc`` por más que se le pase un ``int`` se lo interpreta como label y no como índice."
   ]
  },
  {
   "cell_type": "code",
   "execution_count": null,
   "metadata": {},
   "outputs": [],
   "source": [
    "df_tweets.loc[915943026534514688,'created_at']"
   ]
  },
  {
   "cell_type": "markdown",
   "metadata": {},
   "source": [
    "``iloc`` es más simple que ``loc``. En ``iloc`` estamos tratando al ``DataFrame`` como si fuera una gran matrix, una lista de listas o un arreglo de arreglo como en Java, al que podemos acceder con índices. Por el contrario, ``loc`` utiliza las etiquetas. Dado que usualmente vamos a tener los ``DataFrame`` con índices significativos, suele ser más \"fácil\" (o intuitivo) utilizar ``loc``.\n",
    "\n",
    "Cúal elegir? Depende de lo que se necesite o quiera. Recordar que hay una diferencia entre ambos respecto a la inclusión de los extremos:\n",
    "\n",
    "* ``iloc``. De un rango, el primero es incluido, mientras que el último es excluido. De ``0:10``, se seleccionaran ``0...9``.\n",
    "* ``loc``. De un rango, incluye ambos índices. De ``0:10``, se seleccionaran ``0...10``.\n",
    "\n",
    "Por qué? ``loc`` puede indexar cualquier tipo, por ejemplo ``str``. En este caso, si tenemos un ``DataFrame`` con índices ``str``, por ejemplo ``Apples, ..., Potatoes...`` y queremos seleccionar todas los vegetales que estén entre Apples y Potatoes, es más conveniente escribir ``df.loc['Apples':'Potatoes']`` que hacer algo como ``df.loc['Apples':'Potatoet']`` (considerando que ``t`` está luego en el alfabeto que ``s``)."
   ]
  },
  {
   "cell_type": "markdown",
   "metadata": {},
   "source": [
    "### Manipulando el índice\n",
    "\n",
    "El índice puede ser manipulado, virtualmente, como querramos.\n",
    "\n",
    "Por ejemplo, podemos cambiarlo usando el ``set_index``.\n",
    "\n",
    "Nota: esta operación no se realiza por defecto sobre el ``DataFrame`` sino que retorna uno nuevo con el nuevo índice seteado. Entonces, en principio, si quisiéramos que el cambio quede en el df, deberíamos asignarlo a ``df_tweets``."
   ]
  },
  {
   "cell_type": "code",
   "execution_count": null,
   "metadata": {},
   "outputs": [],
   "source": [
    "df_tweets.set_index('user_id') "
   ]
  },
  {
   "cell_type": "markdown",
   "metadata": {},
   "source": [
    "Podemos acceder al index como si fuera una lista:"
   ]
  },
  {
   "cell_type": "code",
   "execution_count": null,
   "metadata": {},
   "outputs": [],
   "source": [
    "df_tweets.index"
   ]
  },
  {
   "cell_type": "code",
   "execution_count": null,
   "metadata": {},
   "outputs": [],
   "source": [
    "df_tweets.index[0]"
   ]
  },
  {
   "cell_type": "markdown",
   "metadata": {},
   "source": [
    "### Selección condicional\n",
    "\n",
    "Hasta ahora accedimos a los datos utilizando estructuras propias del ``DataFrame``, pero qué pasa si queremos acceder a valores que cumplen con una condición. \n",
    "\n",
    "Por ejemplo, queremos acceder a los tweets escritos por el usuario ``334537201``:"
   ]
  },
  {
   "cell_type": "code",
   "execution_count": null,
   "metadata": {},
   "outputs": [],
   "source": [
    "df_tweets.user_id == 393190233"
   ]
  },
  {
   "cell_type": "markdown",
   "metadata": {},
   "source": [
    "Esta operación da como resultado una serie booleana ``True/False`` basada en el ``user_id`` de cada tweet. \n",
    "\n",
    "Esto también puede ser utilizado dentro de un ``loc`` para seleccionar los registros relevantes:"
   ]
  },
  {
   "cell_type": "code",
   "execution_count": null,
   "metadata": {},
   "outputs": [],
   "source": [
    "df_tweets.loc[df_tweets.user_id == 393190233]"
   ]
  },
  {
   "cell_type": "markdown",
   "metadata": {},
   "source": [
    "El mismo resultado puede obtener sin usar el ``loc``."
   ]
  },
  {
   "cell_type": "code",
   "execution_count": null,
   "metadata": {},
   "outputs": [],
   "source": [
    "df_tweets[df_tweets['user_id'] == 393190233]"
   ]
  },
  {
   "cell_type": "markdown",
   "metadata": {},
   "source": [
    "También podemos combinar las consultas. Por ejemplo, los tweets del usuario ``393190233`` que sean replies (es decir que ``replied_id > `0``)"
   ]
  },
  {
   "cell_type": "code",
   "execution_count": null,
   "metadata": {},
   "outputs": [],
   "source": [
    "df_tweets[(df_tweets['user_id'] == 393190233) & (df_tweets['replied_id'] > 0)]"
   ]
  },
  {
   "cell_type": "markdown",
   "metadata": {},
   "source": [
    "Además de los operadores lógicos \"comunes\", también hay otros operadores \"especiales\". Entre ellos:\n",
    "\n",
    "* ``isin``. Para preguntar si un valor se encuentra dentro de los valores de una lista.\n",
    "* ``isnull``, ``notnull``. Para preguntar por valores que son o no nullos o vacíos.\n",
    "\n",
    "Para la negación se utiliza ``~`` delante. Por ejemplo: ``~df_tweets['user_id'].isin([334537201])``"
   ]
  },
  {
   "cell_type": "code",
   "execution_count": null,
   "metadata": {},
   "outputs": [],
   "source": [
    "df_tweets[df_tweets['user_id'].isin([393190233])]"
   ]
  },
  {
   "cell_type": "code",
   "execution_count": null,
   "metadata": {},
   "outputs": [],
   "source": [
    "df_tweets[~df_tweets['user_id'].isin([393190233])]"
   ]
  },
  {
   "cell_type": "markdown",
   "metadata": {},
   "source": [
    "### Asignando valores\n",
    "\n",
    "Se pueden asignar valores constantes o iterables. Si se asigna un valor constante, el mismo es asignado a todas las filas. Si se utiliza un iterable (por ejemplo una lista), el iterable debe tener tantos valores como elementos haya en el ``DataFrame``."
   ]
  },
  {
   "cell_type": "markdown",
   "metadata": {},
   "source": [
    "Vamos a crear una nueva columna y asignarle el mismo valor a todos los tweets:"
   ]
  },
  {
   "cell_type": "code",
   "execution_count": null,
   "metadata": {},
   "outputs": [],
   "source": [
    "df_tweets['constante'] = 'si'\n",
    "df_tweets"
   ]
  },
  {
   "cell_type": "markdown",
   "metadata": {},
   "source": [
    "Ahora, creamos una columna con valores consecutivos:"
   ]
  },
  {
   "cell_type": "code",
   "execution_count": null,
   "metadata": {},
   "outputs": [],
   "source": [
    "df_tweets['variable'] = [i for i in range(0,len(df_tweets))]\n",
    "df_tweets"
   ]
  },
  {
   "cell_type": "markdown",
   "metadata": {},
   "source": [
    "### Ejercicios\n",
    "\n",
    "1. Seleccionar la columna ``created_at`` y asignarla a la variable ``creacion``."
   ]
  },
  {
   "cell_type": "code",
   "execution_count": null,
   "metadata": {},
   "outputs": [],
   "source": [
    "# TODO"
   ]
  },
  {
   "cell_type": "markdown",
   "metadata": {},
   "source": [
    "2. Seleccionar el valor de la primera fila para la columna ``user_id`` de al menos dos formas diferentes."
   ]
  },
  {
   "cell_type": "code",
   "execution_count": null,
   "metadata": {},
   "outputs": [],
   "source": [
    "# TODO"
   ]
  },
  {
   "cell_type": "code",
   "execution_count": null,
   "metadata": {},
   "outputs": [],
   "source": [
    "# TODO"
   ]
  },
  {
   "cell_type": "markdown",
   "metadata": {},
   "source": [
    "3. Crear el ``DataFrame`` ``df`` conteniendo las columnas ``created_at`` y ``user_id`` para los tweets en las posiciones 0, 1, 4 y 5."
   ]
  },
  {
   "cell_type": "code",
   "execution_count": null,
   "metadata": {},
   "outputs": [],
   "source": [
    "# TODO"
   ]
  },
  {
   "cell_type": "markdown",
   "metadata": {},
   "source": [
    "4. Crear el ``DataFrame`` ``df`` conteniendo las columnas ``created_at`` y ``user_id`` para los tweets con id impar."
   ]
  },
  {
   "cell_type": "code",
   "execution_count": null,
   "metadata": {},
   "outputs": [],
   "source": [
    "# TODO"
   ]
  }
 ],
 "metadata": {
  "kernelspec": {
   "display_name": "Python 3",
   "language": "python",
   "name": "python3"
  },
  "language_info": {
   "codemirror_mode": {
    "name": "ipython",
    "version": 3
   },
   "file_extension": ".py",
   "mimetype": "text/x-python",
   "name": "python",
   "nbconvert_exporter": "python",
   "pygments_lexer": "ipython3",
   "version": "3.7.6"
  }
 },
 "nbformat": 4,
 "nbformat_minor": 4
}
