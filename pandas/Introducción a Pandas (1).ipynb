{
 "cells": [
  {
   "cell_type": "markdown",
   "metadata": {},
   "source": [
    "## Introducción a Pandas (1)\n",
    "\n",
    "Durante el curso vamos a estar desarrollando los aspectos prácticos utilizando Python. Para aquellos que no estén muy familiarizados con el lenguaje, acá tenemos una introducción a las bibliotecas que más vamos a manejar.\n",
    "\n",
    "Si necesitan más material, algunos libros para consultar (si los quieren, los podemos compartir):\n",
    "* Python for Data Analysis: Data Wrangling with Pandas, NumPy, and IPython\n",
    "* Pandas for Everyone: Python Data Analysis\n",
    "\n",
    "Cuentan con una serie de notebooks introductorias:\n",
    "* **Creación, lectura y escritura.**\n",
    "* Indexando, seleccionando y asignando.\n",
    "* Tipos de datos, valores faltantes, funciones de resumen.\n",
    "* Agrupamientos y orden.\n",
    "* Renombrado y combinación.\n",
    "\n",
    "En cada notebook van a encontrar algunos ejericios (opcionales).\n",
    "\n",
    "Las notebooks se encuentran basadas en diversos tutoriales de Kaggle y cursos de la Unversidad de Berkeley."
   ]
  },
  {
   "cell_type": "markdown",
   "metadata": {},
   "source": [
    "## Creación, lectura y escritura"
   ]
  },
  {
   "cell_type": "markdown",
   "metadata": {},
   "source": [
    "Pandas no viene por defecto en todas las instalaciones de Python, con lo que a veces es necesario instalarla con ``pip install pandas``.\n",
    "\n",
    "Luego, simplemente podemos importarla. No es obligatorio darle un alias, pero en todos los tutoriales, páginas y demás que vean es tradicional que se la llame ``pd``."
   ]
  },
  {
   "cell_type": "code",
   "execution_count": null,
   "metadata": {},
   "outputs": [],
   "source": [
    "import pandas as pd"
   ]
  },
  {
   "cell_type": "markdown",
   "metadata": {},
   "source": [
    "### Creating data\n",
    "\n",
    "Hay dos tipos principales de objetos con los que vamos a trabajar: ``DataFrame`` y ``Series``."
   ]
  },
  {
   "cell_type": "markdown",
   "metadata": {},
   "source": [
    "![image.png](data:image/png;base64,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)"
   ]
  },
  {
   "cell_type": "markdown",
   "metadata": {},
   "source": [
    "##### DataFrame\n",
    "\n",
    "Se trata de una tabla, como si fuera un Excel común y corriente. Contiene un arreglo de entradas, cada una de las cuales tiene un determinado valor. Cada entrada se corresponde con una fila y una columna.\n",
    "Pueden contener cualquier tipo de datos y combinaciones de ellos. Por ejemplo, una celda puede contener objetos como una lista o un diccionario. Tanto las columnas como las filas pueden tener nombres, lo que facilita la indexacción y acceso a los valores.\n",
    "Comentario: es una estructura almacenada por columnas, con lo que es mucho más costoso acceder un valor indexando fila-columna que columna-fila."
   ]
  },
  {
   "cell_type": "markdown",
   "metadata": {},
   "source": [
    "Veamos un ejemplo sencillo:"
   ]
  },
  {
   "cell_type": "code",
   "execution_count": null,
   "metadata": {},
   "outputs": [],
   "source": [
    "pd.DataFrame({'apples': [3, 2, 0, 1], \n",
    "              'oranges': [0, 3, 7, 2]})"
   ]
  },
  {
   "cell_type": "markdown",
   "metadata": {},
   "source": [
    "En este ejemplo estamos usando el constructor ``pd.DataFrame()`` para generar el ``DataFrame``. En este caso le estamos psando un diccionario cuyas claves serán las columnas del ``DataFrame``, cuyos valores luego son las listas de entradas. \n",
    "\n",
    "Este constructor de diccionario-lista asigna valores a las columnas, pero no así a las filas a las cuales se refiere por valores de forma ascendente desde el 0. Esto puede ser útil en muchos casos, pero en otros vamos a querer asignarle nosotros una etiqueta. La lista de etiquetas se conoce como ``index``. Podemos asignarlo usando el parámetro ``index`` en el constructor:"
   ]
  },
  {
   "cell_type": "code",
   "execution_count": null,
   "metadata": {},
   "outputs": [],
   "source": [
    "pd.DataFrame({'apples': [3, 2, 0, 1], \n",
    "              'oranges': [0, 3, 7, 2]},\n",
    "            index=['July','August','September','October'])"
   ]
  },
  {
   "cell_type": "markdown",
   "metadata": {},
   "source": [
    "##### Series\n",
    "\n",
    "Una ``serie`` es simplemente una secuencia de valores, una lista. \n",
    "Cada una de las columnas de un ``DataFrame`` es una serie. De forma que se pueden aignar valores a una serie de la misma forma que antes, utilizando el parámetro ``index``. Una serie no tiene nombre de columna, tiene solo un nombre general."
   ]
  },
  {
   "cell_type": "code",
   "execution_count": null,
   "metadata": {},
   "outputs": [],
   "source": [
    "pd.Series([30, 35, 40], \n",
    "          index=['2015 Sales', '2016 Sales', '2017 Sales'], \n",
    "          name='Product A')"
   ]
  },
  {
   "cell_type": "markdown",
   "metadata": {},
   "source": [
    "### Leyendo archivos\n",
    "\n",
    "Si bien puede ser útil construir los ``DataFrame`` a mano, por ejemplo, cuando estamos construyéndolos a partir de datos procesados, la mayoría de las veces vamos a estar cargando los datos de archivos.\n",
    "\n",
    "La más básica es utilizando archivos ``.csv``. Pandas ya trae métodos preparados para esto. Se puede costumizar para indicar la existencia o no de header, para indicar el separador de registros, qué columna será el índice, etc. En total, hay más de 30 parámetros.\n",
    "\n",
    "En este caso, vamos a estar abriendo un archivo que contiene información de tweets.\n",
    "Primero van a tener que [descargarlo]()."
   ]
  },
  {
   "cell_type": "code",
   "execution_count": null,
   "metadata": {},
   "outputs": [],
   "source": [
    "# este código es solo para descargar el archivo en su carpeta local, \n",
    "# si lo desean pueden descargarlo de forma manual"
   ]
  },
  {
   "cell_type": "code",
   "execution_count": null,
   "metadata": {},
   "outputs": [],
   "source": [
    "pip install gdown"
   ]
  },
  {
   "cell_type": "code",
   "execution_count": null,
   "metadata": {},
   "outputs": [],
   "source": [
    "import gdown\n",
    "url = 'https://drive.google.com/uc?export=download&id=1kk9AEXwl79LUVj7qq7RnroAql0G6N59Y'\n",
    "datapath =  \"tweets.csv\"\n",
    "gdown.download(url, datapath, quiet=False)"
   ]
  },
  {
   "cell_type": "code",
   "execution_count": null,
   "metadata": {},
   "outputs": [],
   "source": [
    "df_tweets = pd.read_csv('tweets.csv')\n",
    "df_tweets = df_tweets.set_index('tweet_id')\n",
    "df_tweets.head() # nos permite inspeccionar el dataframe imprimiendo los primeros 10 registros"
   ]
  },
  {
   "cell_type": "code",
   "execution_count": null,
   "metadata": {},
   "outputs": [],
   "source": [
    "# alternativamente lo pueden levantar de forma directa con read_csv\n",
    "# df_tweets = pd.read_csv(url)"
   ]
  },
  {
   "cell_type": "markdown",
   "metadata": {},
   "source": [
    "De una forma similar, podríamos importar ``.json`` con ``read_json``."
   ]
  },
  {
   "cell_type": "markdown",
   "metadata": {},
   "source": [
    "### Escritura de archivos\n",
    "\n",
    "Así como levantamos los ``.csv``, también podemos guardarlos. "
   ]
  },
  {
   "cell_type": "code",
   "execution_count": null,
   "metadata": {},
   "outputs": [],
   "source": [
    "df_tweets.to_csv('exported.csv')"
   ]
  },
  {
   "cell_type": "code",
   "execution_count": null,
   "metadata": {},
   "outputs": [],
   "source": [
    "### Ejercicios"
   ]
  },
  {
   "cell_type": "markdown",
   "metadata": {},
   "source": [
    "1. Crear un ``DataFrame`` como el siguiente:\n",
    "    \n",
    "![image.png](data:image/png;base64,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)"
   ]
  },
  {
   "cell_type": "code",
   "execution_count": null,
   "metadata": {},
   "outputs": [],
   "source": [
    "## TODO"
   ]
  },
  {
   "cell_type": "markdown",
   "metadata": {},
   "source": [
    "2. Crear un ``DataFrame`` como el siguiente:\n",
    "    \n",
    "![image.png](data:image/png;base64,iVBORw0KGgoAAAANSUhEUgAAATEAAACCCAYAAAAuTP8HAAATG0lEQVR4Ae2dsW7jOBCG9U4G/DCu/CYp8xpuUrlNeY2B1G7yBO72gMOuDRw2F2x2eaCkEYcUSZGyZHPkfwHDsixS8v/PfBxRUrZS+AcFoAAUEKxAJfjYcehQAApAAQWIIQigABQQrQAgJto+HDwUgAKAWEYMfPv2TeElV4Pv37+rz89PeCg8jr++vqysBcQsOeIfXl5eFF5yNfjrr79qgMFDuR5q7/79918rUQExS474BwS/7OAHxGT7R/kHiMU5Ff2WRMS7zGQAxGT65uYbIBbFVPxLV0x8lpUUgJgsv0L5BYjFORX9NiQq1stIDkBMhk9D+QSIRTEV/3JIXHxfdpIAYmX7k5o/gFicU9FvU0XGdmUmCyBWpi+5+QKIRTEV/zJXbGxfVtIAYmX5MTY/ALE4p6LfjhUd7cpIHkCsDB+uzQdALIqp+JfXio/2900iQOy++k8V/4BYnFPRb6cyQVo/r2+nTpfL+6vYpxauhRjX4fQmVwdp8eceLyDWpWP+givmo3x+fb90Yj00xBaig/S4BcS6dMxfkG7+2OMHxJrTsKXoMDYOSmkHiOWzq2tRiom3Po6lJO/Vp5OoxIqYSgDEOiTlL9waHqXsDxBDJVZKLOrjAMTy2dW1uIWRr69v6nS5KDMLpXd/UZfTm3p1/hSQgctJvb28KD3xfGENL5eTenu1r0hd10Yp35yYu9/ueJ19a/1e397r39eJGvhtc2g9dSXm/m6f3vVvvtZTI5a6nN57cVDiPub0GhBjAZG7OEdi8T4NYEJH1sCK2pjtT+p0YvSyml/UO4PJdW1ciL0qduHS2mvzIXS8vk3fZj9VmRJinl/QrgrpHWoR0uhiDUh261AbeyvzKbT9LfZhjqJbOl3nNSDWKZm/QPCY670GzOWk3t9e2Wj7qthUjDq9mcrKAKn9LV21ZrdRLGiubcMrMd7X5d1UivxWBLPvN9XdqHFh1cSrBmFTac6lK/U7OcRS9b7C007XupozMduLg6L2Ma/XgJiJg+wlSoZbv9uwMPcn8fWKg0Gfdr6+s1NSMxJf28ZAjIPS9N9o4/vODmz3NPcWmk4KsUS9Q7+L+2A0fVGh9bqf2He+/YS2D62fbh/zeg2IZaPLNPAFytTr9JzYu65MAmeHqQH/8sICSZlTnFgA57Xh/RuN+ksGcO6pp55D0lXn1BqG+psSYtyHZn9cD6O3/m4yT7mArLoucR/8UHVMTOk1INbPsuQ1oeSYaj0HTOigePLw7fn65nh4NWSSarI2VqUXOlq93kDs5eW1BnRvaw0zNm83lZ5uP/NCbFjv3u9uV3Dvov5wMjCI8Tal7GNOrwGxkMsJ692kmPazM5KzCoUHaXLAz12JcYi5p1bOVdSeTnoe7N2+kmrDzsz79doO9R35fl6IOf7VUHbWXeupF2Jl7qPzbQavAbEEWIU26YyJJMrobTgU2Cir+0uBmJlAbwHA+2PVEO9rTBsDUSd5RlVSujIjtU21OFrDAV+mhFiSdtyDEZ4arVtPfRArdB99D6fzGhCjnBnx3jdmyoqBQ8Hc36Xvq+LTYzywLSDp30NXy/S8Gms0ZRveF88pfWGBT9Z397vRA+N1sl2UfnC6u9/NuuImDGJ6nmdQ7+s85VrXsccF76BY4D5m9hoQGwEvajIvxF4G7rlqjoIHdg9idKDWO5+Tsqs6azPrQ7gN3399IYDB0uqi/dBtzysGz4bddgPV1DUeTFeJhS+8uKfFnDuen12v4r+de8rXhyF2XdzMso+ZvQbEQpGUsP6aBEpr284VsWNp7gI3oy0POjfg6zvIeVuqFBgYRrVhmcj33/wm3/yW/2pU/259/3ZpWuVXwdNBTEPe45X3bnrPdvWTFGmeWlpYPvAbRgvcR+/JjOm8BsRYkucuWgHFwHCv9S6QUo5jTJuUfiVscy3EJPzGRzhGQCyXXGz70gJkDJDGtCntd489HkAsv3odq/Wc7QAxBqXcxTmNGdP3GCCNaTPm2EpsA4gBYrk5v7jtS0tM/oxi6p9LHtOmtN899ngAMUBscVDK/UFjkwftykgeQKwMH67NB5xO5pKLbX+t+Gh/3yQCxO6r/1TxD4gxKOUuTmUC+rlPMgFi99F96ngHxHLJxbaf2gz0d9ukAsRuq/dc8Q2IMSjlLs5lCvq9TXIBYrfRee54BsRyycW2n9sc9D9vkgFi8+p7q/gFxBiUchfP57P69u0bXkI1+P79u/r8/IR/Qv2j3Pv6+rJSt7I+4QMUgAJQQJgCNcQ02U4n/T/m4BXSwKW/MJ9xuFBgsQp0lVgoebG+ATsgttgcwA8TrgAgllh9/vz5U10uF/X333/jJVSDHz9+1HNi8FB2DLsFBSCWCDF9ReSff/7BKXeiXiVW8BpeHx8f8FCwhzqufv36ZdWOgFiioYCY/PlSQEy+h4BYIrB8VQQgJj8BADH5HgJigNhDn0oBYoDYQycAKjH5CQCIyfcQlRgqsYceiAAxQOyhEwCVmPwEAMTke4hKDJXYQw9EgBgg9tAJgEpMfgIAYvI9nKcSO+zU02alVlWlKnqtNuppdwhC77B7UpsV275aqdVmpw7RSumgdptVs4/NztP3QT1ZffL++fJG7aL78RstGmJZHu3Uhnz0va+eBnzy66eD794v8RDL8pHrPZQ7fNvyl6e92XX3xOC1UqtVC5k2+De7viCHJ9pGg2ujNpuN6SOUIIedDb0AxDTk9DH4XwSyB4MY82i1avTmA8jqyR1sDMS8Onq17/t8b2D59i8aYszHSg/6CblWa5CUOzL8I08nhthGrTZPanfgIvCKyAHGgaC3CbZxk4pDTwOvrvZGJFLXz4i2WjyxldjO59FJdXr0Bo4WYiN1okAr8V02xHw+RnLtxDyuVnWxMDZ3SvNyWoiFThE6WK3UEwPcbtNUQy6oapGojZVUTUJpUNanmruxECOz7ePJMUcsxAY9cgaaEyCWExd335bypnJje6rc4QVKGct3hNgQSNrkccw4HNjpzliIUTsLkHmGLBZiPU0AsbuDKTTw+NYHIXZSk+SOb593XncbiBE0Kj7KE6T4Og6SIcid1In6zTrVoX4r5ZujSw3YZUHMaNKvilufVs0piD6F3+gpg91B7IQ+eSz6dDIEDsoJK9d4XrXLtF1W7nj6CR3HDdffBGLe08ZuxBiCWAQ2Y4ygNr2KI88g2RDTV5DbSX26wqvnSXqT+loTGmzoQgh/X101EBBM7vW+RIh5c80HFMoDQCwh8Uksd2QgiEVgQoYEKybqO8MI6rNfcST8FhYMoiFG2ju3TPQvypAm7BRea3Bgl+id0/17AWnMfhcHMcoHN9dY3HY60bYZudO19fV3x3XzVmL6cm7o9ooukUKV2EkRcCaDWMI+U40SDTEn4A7WZfewH6425E8lNBEWBbFYrjl+1z4CYjRCx94NwPxVD30fShqap3GvsrB9ZhpBSec/Htavz3Rn3ZIg1sCJ9K5Usj6kf6SadsFX0uflQIxyaYR3QgcgHkczVWLmZtRwQpDwIUjR9yHI5U7sU3+h/T06xNh9RKmBTRBL3d4ZCHgg3mN5GRBLyTVPbAv3jsfLDBBLF5UqI+/pIokcG+Vpm4Qk6m7mTNiWCxRaXl4lZk7fU08Pyb/wQOVJnoJAJh9i6bnWi+OM3Om1LchDfWwTQyxTVBKyNxFpTm28gCMRqf0gmKatwrRwMiGmddVXFJ2Jeq1nN1/IrwaHtz+Q9pjYv9MzoJm5RjlD7+TfYO6UPRBNDjEamfXjDN7n7PRzjI5opg09O8keHne21Qe8e6JbAzZqQ8+L8XuYnvoPg3dVWKyqI3MT32VCjFVb2iO6zYI9KG/7YwYT/Xxec4/YRq267XGLhY7Je7xM3mTk2ojcucdvy93npJUYF7b7CxbOZfyqB5JDDSb7r14EqoUTTyp+vxJb9vRPf80iWtVlBqNUiJ1OB9X81RB68L7RTj8M7v1LI/p2iicOLr29HnDcZ2Tvk8y5Ac+3l3w6mZ9rY3JHhqeTQowHyNKX5UJMRmDeIn4kQ+wW+kjZByCWWYGRsYCYfBgCYvI91PkIiAFid5nTocHgnu+AGCD2sMGvEw+VmPwEAMTke4hKbGQVBogtI/gBsWX4iNPJkSBDJSY/AQAx+R6iEhsJMFRiywh+QGwZPqISGwkyVGLyEwAQk+8hKrGRAEMltozgB8SW4SMqsZEgQyUmPwEAMfkeohIbCTBUYssIfkBsGT4GKzFtMF5hDT4+PtTlcoFGguPkx48f6vPzEx4K9lAz6uvrS/F/FX3QdMMrrMHv37+VfkGjsEala6OD/8+fP/BQeK5rD/m/DmLn81nhFdZAj+A/f/6ERoLjRM9ratAizsNxLkEbXUzwf4BYYlICYrIDXycnICbfQ+0jIJYILXdEAsTkJwAgJt9DQGwkwLRwgJj8BADE5HsIiAFiDz0fBIgBYg+dAKjE5CcAICbfQ1RiqMQeeiACxACxh04AVGLyEwAQk+8hKjFUYg89EAFigNhDJwAqMfkJAIjJ9xCVGCqxhx6IADFAzJ8Ax7163q7Vmv+nueutet4f/dufz+q4f1bbNfsPcKu1Wm/36hiFzFHtt2tV/ye9232w7/P5qPbPW7Xu9f+s9sfxJi6nEjuqZ6bNdh/TJFXzWB/lfCceYiNyTVcuzSvHd2pT5vu0d+zvnxm81mq9biHTAs2XIMdn2kaDa6u2263pY/3sB9lxb0MvCDFu1Lru2+q/2qp9Z2qeQYuB2H7bDAQRj+qgT9Y8T0eTVLdvJxpiLNfW6yZveCGwfg4XDbXmqb6PzI9b+joxxLZqvXUrHA4SBxpHgt7WqYpMG9cMDj0NpGglRkZ5YLjfNpWf23+q+MuAGOmsk6DRY2igGdRcQNCTx7Ih5su1s+rywxPz9Lv12UlTfcd9N9vffoDJ2fe0EAsFcAertXpmp3BRkFAby4y92lZVDcr6VJMgFajEyFAvqAbaDom4BIiRPhpc5EUfYnmaD+lW0veiITaYa07BwLZP871scPE4uiPEaDSwwWYOrkmeqrK/Px5ZmTwEosj3ZKQXcMxwczy2qfIh1urbDhJhiJ1VluYJ2oU0vfX6RUPMGvx57Kb7fms/xu7vNhAjmFhzUASp0IgxBLmzOlO/gUrsfKZ9VGr9bC4UHKld0Ghuun9ZOsQaaJkBIgYxK7hIu6Dmfr2sPgoB3fIgRjmj450N9kzv0b6zPkrz8iYQowSxhKXTRQtsPAGMIf1TnHa7lISyJqTNxQY9dxe/+smPpb8sGmKkPQMReRTUmoI4RXPatvB3+RDTdwK0k/p0pb5aq20AYOdrfC/Yy/khRkHvwooEjVRDg4lFfbNk9I4SFsj0BPZabffHB4UYDQ52BTyoNQVxqua0fcHv4iFGOcRvZ2rnjPu3D13pe8E+zgsxDY/QpfvOADuZOIQGEyshoWjuq2rvVbPuSVuH982Pw7csthJrNbOq4nNsYt+pQhM09+lV4jrxEHPAcrQGaye2r/Xd2VdJfs4IMQMwN2EaAeh7R+xOLBo5zLxNT7iBhOoA1rtxVt+02d5cG6kEe/vrjk3qH0UMa0564HTSgTbzPBYP5XxHecPnxSbwvWAdZoKYuRnVDzAdKCRsCFL0fQhyQxP71H6o/9D38WAWWYkR9OnmyG4+xTzRQDdO8lthrASlPoZO4QsOevo9S6vE6HfxwbteR55d43vBfs4AsRSANYCIjv6d8JEJeNrGm1AEsRAEacR6HIh1we3ModQ3DDvrgoNPVPM4+CnJSnlfKsQor6o2Lybx/XEglg4wa4RwJ/27O4orFT29iSYUQYqX1SzJqG1v32ybiHEiK7HI76HAj+qt25Nu3oEjTTtA7FqddGw3F6d6WnZzzQO508ZCsu+R2Okdw423nbQSI0H0yK6fm/S+nOA3bejZSfbwuLOtFks/zK0ffalf9GymNpTWPbOHwSnh6irDbGMeBteBMC6gHgliWZrfOICvSSDJlZjJG/0EC+VDO89bX6FkeRDxhPoZmwfX6D9V29kg5jtFqdf1JtLbvzLBT2dCowyr0JL79z3pX/+VDPcZzzyYPQ7ETEWbrHkkaaYK3Cn6kQwx/fxjc6Wd/oBCAzA9pxn7izGuboCYkGB1jZvi89IgNoUm0vqQDbG8QVeaNznHO2kllrNj6dsCYvKTCBCT76HmCCA2spoExOQnACAm30NAbCTAtHCAmPwEAMTkewiIAWKRP+u9jADXQR56AWJhbUKalbgep5ORII8ZhkpMfgIAYvI91DkKiAFiwUolBvElfAeIAWIPG/w6gVGJyU8AQEy+h6jERlZhgNgygh8QW4aPOJ0cCTJUYvITABCT7yEqsZEAQyW2jOAHxJbhY7AS0wbjFdbg169f6r///oNGguPk4+NDfX19wUPBHmpG/fnzR/F/Ff+AZSgABaCANAUAMWmO4XihABSwFADELDnwAQpAAWkKAGLSHMPxQgEoYCkAiFly4AMUgALSFADEpDmG44UCUMBSABCz5MAHKAAFpCkAiElzDMcLBaCApQAgZsmBD1AACkhT4H9iQeQduDvV7QAAAABJRU5ErkJggg==)"
   ]
  },
  {
   "cell_type": "code",
   "execution_count": null,
   "metadata": {},
   "outputs": [],
   "source": [
    "## TODO"
   ]
  },
  {
   "cell_type": "markdown",
   "metadata": {},
   "source": [
    "3. Exportar el ``DataFrame`` como un ``.csv``."
   ]
  },
  {
   "cell_type": "code",
   "execution_count": null,
   "metadata": {},
   "outputs": [],
   "source": [
    "## TODO"
   ]
  }
 ],
 "metadata": {
  "kernelspec": {
   "display_name": "Python 3",
   "language": "python",
   "name": "python3"
  },
  "language_info": {
   "codemirror_mode": {
    "name": "ipython",
    "version": 3
   },
   "file_extension": ".py",
   "mimetype": "text/x-python",
   "name": "python",
   "nbconvert_exporter": "python",
   "pygments_lexer": "ipython3",
   "version": "3.7.6"
  }
 },
 "nbformat": 4,
 "nbformat_minor": 4
}
