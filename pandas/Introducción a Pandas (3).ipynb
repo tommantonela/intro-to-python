{
 "cells": [
  {
   "cell_type": "markdown",
   "metadata": {},
   "source": [
    "## Introducción a Pandas (3)\n",
    "\n",
    "Durante el curso vamos a estar desarrollando los aspectos prácticos utilizando Python. Para aquellos que no estén muy familiarizados con el lenguaje, acá tenemos una introducción a las bibliotecas que más vamos a manejar.\n",
    "\n",
    "Si necesitan más material, algunos libros para consultar (si los quieren, los podemos compartir):\n",
    "* Python for Data Analysis: Data Wrangling with Pandas, NumPy, and IPython\n",
    "* Pandas for Everyone: Python Data Analysis\n",
    "\n",
    "Cuentan con una serie de notebooks introductorias:\n",
    "* Creación, lectura y escritura.\n",
    "* Indexando, seleccionando y asignando.\n",
    "* **Tipos de datos, valores faltantes, funciones de resumen.**\n",
    "* Agrupamientos y orden.\n",
    "* Renombrado y combinación.\n",
    "\n",
    "En cada notebook van a encontrar algunos ejericios (opcionales).\n",
    "\n",
    "Las notebooks se encuentran basadas en diversos tutoriales de Kaggle y cursos de la Unversidad de Berkeley."
   ]
  },
  {
   "cell_type": "markdown",
   "metadata": {},
   "source": [
    "Vamos a trabajar con el ``DataFrame`` de tweets que teníamos en la notebook anterior."
   ]
  },
  {
   "cell_type": "code",
   "execution_count": null,
   "metadata": {},
   "outputs": [],
   "source": [
    "import pandas as pd"
   ]
  },
  {
   "cell_type": "code",
   "execution_count": null,
   "metadata": {},
   "outputs": [],
   "source": [
    "df_tweets = pd.read_csv('tweets.csv',index_col = 0)\n",
    "df_tweets"
   ]
  },
  {
   "cell_type": "markdown",
   "metadata": {},
   "source": [
    "### Tipos de datos\n",
    "\n",
    "El tipo de una columna de un ``DataFrame`` o de una ``Series`` se puede saber con ``dtype``."
   ]
  },
  {
   "cell_type": "code",
   "execution_count": null,
   "metadata": {},
   "outputs": [],
   "source": [
    "df_tweets['created_at'].dtype, df_tweets['user_id'].dtype, "
   ]
  },
  {
   "cell_type": "markdown",
   "metadata": {},
   "source": [
    "También podemos obtener el tipo de todas las columnas a la vez"
   ]
  },
  {
   "cell_type": "code",
   "execution_count": null,
   "metadata": {},
   "outputs": [],
   "source": [
    "df_tweets.dtypes"
   ]
  },
  {
   "cell_type": "markdown",
   "metadata": {},
   "source": [
    "Una consideración a tener es que las columnas que son ``str`` no tienen su tipo particular, sino que son ``object``.\n",
    "\n",
    "Es posible convertir el tipo de una columna en otro, siempre y cuando la conversión tenga sentido utilizando ``astype``.\n",
    "\n",
    "Por ejemplo, queremos cambiar el tipo de la columna ``replied_id`` de ``int64`` a ``float64``."
   ]
  },
  {
   "cell_type": "code",
   "execution_count": null,
   "metadata": {},
   "outputs": [],
   "source": [
    "df_tweets['replied_id'].astype('float64')"
   ]
  },
  {
   "cell_type": "markdown",
   "metadata": {},
   "source": [
    "El index también tiene su propio ``dtype``."
   ]
  },
  {
   "cell_type": "code",
   "execution_count": null,
   "metadata": {},
   "outputs": [],
   "source": [
    "df_tweets.index.dtype"
   ]
  },
  {
   "cell_type": "markdown",
   "metadata": {},
   "source": [
    "Cambiando formato de fechas"
   ]
  },
  {
   "cell_type": "code",
   "execution_count": null,
   "metadata": {},
   "outputs": [],
   "source": [
    "df_tweets['created_at'].astype('datetime64[ns, US/Eastern]')"
   ]
  },
  {
   "cell_type": "markdown",
   "metadata": {},
   "source": [
    "También hay casos especiales"
   ]
  },
  {
   "cell_type": "code",
   "execution_count": null,
   "metadata": {},
   "outputs": [],
   "source": [
    "pd.to_datetime(df_tweets['created_at'])"
   ]
  },
  {
   "cell_type": "markdown",
   "metadata": {},
   "source": [
    "Otra forma de obtener el tipo de todas las columnas y algunos datos adicionales es utilizar ``info``."
   ]
  },
  {
   "cell_type": "code",
   "execution_count": null,
   "metadata": {},
   "outputs": [],
   "source": [
    "df_tweets.info()"
   ]
  },
  {
   "cell_type": "markdown",
   "metadata": {},
   "source": [
    "### Datos faltantes\n",
    "\n",
    "Las celdas que no tienen valor se les da un ``na`` o ``NaN``. Por razones técnicas, los ``NaN`` son siempre de tipo ``float64``.\n",
    "\n",
    "Como ya vimos, Pandas provee algunas funciones especiales para encontrar esos valores, reemplazarlos (``fillna``), e incluso borrar filas y columnas con valores faltantes con el ``dropna``.\n",
    "\n",
    "Vamos a reemplazar los ``na`` de ``mentions`` por un indicador de lista vacía (el ``str`` ``[]``)."
   ]
  },
  {
   "cell_type": "code",
   "execution_count": null,
   "metadata": {},
   "outputs": [],
   "source": [
    "df_tweets['mentions'] = df_tweets['mentions'].fillna('[]')\n",
    "df_tweets['mentions']"
   ]
  },
  {
   "cell_type": "markdown",
   "metadata": {},
   "source": [
    "Ahora que tenemos la columna sin ``na``, podemos hacer reemplazos por \"tipo\" más complejos. Por ejemplo, una interpretación literal de los valores. \n",
    "\n",
    "Considerar la columna ``mentions``, por como está escrita, pareciera que esperábamos que esa columna fuera una ``list``, pero como se la levantó de un ``.csv`` esa lista es un ``str`` plano. Para convertirlo nuevamente en lista podemos:"
   ]
  },
  {
   "cell_type": "code",
   "execution_count": null,
   "metadata": {},
   "outputs": [],
   "source": [
    "import ast"
   ]
  },
  {
   "cell_type": "code",
   "execution_count": null,
   "metadata": {},
   "outputs": [],
   "source": [
    "df_tweets['mentions'] = [ast.literal_eval(df_tweets['mentions'].values[i]) for i in range(0,len(df_tweets))]\n",
    "type(df_tweets['mentions'].values[0])"
   ]
  },
  {
   "cell_type": "markdown",
   "metadata": {},
   "source": [
    "Vamos a borrar aquellas filas que tengan valores faltantes en ``user_id``."
   ]
  },
  {
   "cell_type": "code",
   "execution_count": null,
   "metadata": {},
   "outputs": [],
   "source": [
    "df_tweets['user_id'].dropna()"
   ]
  },
  {
   "cell_type": "markdown",
   "metadata": {},
   "source": [
    "Si quisieramos borrar las columnas que tengan algún valor ``na``, se puede especificar el ``axis`` sobre el cual se quiere aplicar el cambio."
   ]
  },
  {
   "cell_type": "code",
   "execution_count": null,
   "metadata": {},
   "outputs": [],
   "source": [
    "df_tweets.dropna(axis=1)"
   ]
  },
  {
   "cell_type": "markdown",
   "metadata": {},
   "source": [
    "### Reemplazando valores\n",
    "\n",
    "Además de usar el ``fillna`` para reemplazar los ``na``, podemos usar el ``replace`` para cambiar otros valores.\n",
    "\n",
    "Por ejemplo, podemos usar el ``replace`` para cambiar los valores de ``retweeted_id`` inexistente (``-1``), por el valor 0.\n",
    "\n",
    "Nota. Esta operación no se hace inplace en el ``DataFrame`` sino que crea uno nuevo."
   ]
  },
  {
   "cell_type": "code",
   "execution_count": null,
   "metadata": {},
   "outputs": [],
   "source": [
    "df_tweets['replied_user'].replace(-1,0)"
   ]
  },
  {
   "cell_type": "markdown",
   "metadata": {},
   "source": [
    "### Datos duplicados\n",
    "\n",
    "En este caso, la última fila aparece repetida. Podemos eliminarlas utilizando ``drop_duplicates``. Tiene varias opciones:\n",
    "* ``first``. Eliminar los duplicados excepto por la primera ocurrencia (opción por defecto).\n",
    "* ``last``. Eliminar todos los duplicados excepto por el último.\n",
    "* ``False``. Borrar todos los duplicados."
   ]
  },
  {
   "cell_type": "code",
   "execution_count": null,
   "metadata": {},
   "outputs": [],
   "source": [
    "df_tweets.drop_duplicates()"
   ]
  },
  {
   "cell_type": "markdown",
   "metadata": {},
   "source": [
    "Si observamos ``df_tweets`` vamos a ver que no se aplicaron los cambios, sino que en como varios casos anteriores la operación devolvió un nuevo ``DataFrame``. Para evitar eso y aplicar los cambios de forma directa, podemos utilizar el parámetro ``inplace=True``. Esta opción se encuentra disponible en una gran variedad de métodos, incluso de los que ya hemos utilizado."
   ]
  },
  {
   "cell_type": "code",
   "execution_count": null,
   "metadata": {},
   "outputs": [],
   "source": [
    "df_tweets.drop_duplicates(inplace=True)\n",
    "df_tweets"
   ]
  },
  {
   "cell_type": "markdown",
   "metadata": {},
   "source": [
    "La primera función que podemos utilizar es ``describe`` que nos permite ver determinadas estadísticas de cada una de las columnas, resumiendo la tendencia central, dispersión y forma de la distribución, excluyendo los ``na``.\n",
    "\n",
    "Puede ser utilizado tanto sobre variables numéricas como variables categorías."
   ]
  },
  {
   "cell_type": "code",
   "execution_count": null,
   "metadata": {},
   "outputs": [],
   "source": [
    "df_tweets.describe()"
   ]
  },
  {
   "cell_type": "markdown",
   "metadata": {},
   "source": [
    "### Transformaciones con funciones\n",
    "\n",
    "Si bien es posible iterar sobre un ``DataFrame`` o ``Series`` como se haría con una lista, resulta ineficiente con datasets muy grandes. Para estos casos, existe ``apply`` que ptermine aplicar una función de transformación de los valores.\n",
    "\n",
    "Por ejemplo, queremos usar una función para eliminar los números y puntuación del texto de los tweets."
   ]
  },
  {
   "cell_type": "code",
   "execution_count": null,
   "metadata": {},
   "outputs": [],
   "source": [
    "import re\n",
    "\n",
    "def preprocess(t):\n",
    "    return re.sub(r'[^a-zA-Z]|_', ' ', t) # eliminamos todo lo que no sean letras"
   ]
  },
  {
   "cell_type": "markdown",
   "metadata": {},
   "source": [
    "Al invocar el método ``apply``, cada valor en la columna de ``text`` es pasado por la función de ``preprocess`` y al final retorna una nueva serie, la cual asigamos a la columna nueva ``text_mod``."
   ]
  },
  {
   "cell_type": "code",
   "execution_count": null,
   "metadata": {},
   "outputs": [],
   "source": [
    "df_tweets[\"text_mod\"] = df_tweets[\"text\"].apply(preprocess)\n",
    "df_tweets[\"text_mod\"] "
   ]
  },
  {
   "cell_type": "markdown",
   "metadata": {},
   "source": [
    "También se pueden utilizar funciones anónimas."
   ]
  },
  {
   "cell_type": "code",
   "execution_count": null,
   "metadata": {},
   "outputs": [],
   "source": [
    "df_tweets[\"text_length\"] = df_tweets[\"text\"].apply(lambda x : len(x.split(' ')))\n",
    "df_tweets[\"text_length\"]"
   ]
  },
  {
   "cell_type": "markdown",
   "metadata": {},
   "source": [
    "### Funciones de resumen\n",
    "\n",
    "Cómo obtener estadísticas de las diferentes ``Series`` o filas que componen el ``DataFrame``."
   ]
  },
  {
   "cell_type": "markdown",
   "metadata": {},
   "source": [
    "![image.png](data:image/png;base64,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)"
   ]
  },
  {
   "cell_type": "markdown",
   "metadata": {},
   "source": [
    "La primera función que podemos utilizar es ``describe`` que nos permite ver determinadas estadísticas de cada una de las columnas, resumiendo la tendencia central, dispersión y forma de la distribución, excluyendo los ``na``.\n",
    "\n",
    "Puede ser utilizado tanto sobre variables numéricas como variables categorías."
   ]
  },
  {
   "cell_type": "code",
   "execution_count": null,
   "metadata": {},
   "outputs": [],
   "source": [
    "df_tweets.describe()"
   ]
  },
  {
   "cell_type": "markdown",
   "metadata": {},
   "source": [
    "Estas estadísticas se pueden obtener de forma individual.\n",
    "\n",
    "Por ejemplo, cuál es el promedio de ``retweets``?"
   ]
  },
  {
   "cell_type": "code",
   "execution_count": null,
   "metadata": {},
   "outputs": [],
   "source": [
    "df_tweets['retweets'].mean()"
   ]
  },
  {
   "cell_type": "markdown",
   "metadata": {},
   "source": [
    "Además de columnas individuales, se pueden aplicar sobre conjuntos de columnas.\n",
    "\n",
    "![image.png](data:image/png;base64,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)"
   ]
  },
  {
   "cell_type": "code",
   "execution_count": null,
   "metadata": {},
   "outputs": [],
   "source": [
    "df_tweets[['retweets','text_length']].mean()"
   ]
  },
  {
   "cell_type": "markdown",
   "metadata": {},
   "source": [
    "También se puede utilizar la función ``agg`` para definir qué aplicar sobre cada columna particular."
   ]
  },
  {
   "cell_type": "code",
   "execution_count": null,
   "metadata": {},
   "outputs": [],
   "source": [
    "df_tweets.agg({\n",
    "            \"retweets\": [\"min\", \"max\", \"median\", \"skew\"],\n",
    "            \"text_length\": [\"min\", \"max\", \"median\", \"mean\"],\n",
    "        })"
   ]
  },
  {
   "cell_type": "markdown",
   "metadata": {},
   "source": [
    "Nota. En este caso calculamos todo sobre columnas, pero también se pueden calcular sobre las filas.\n",
    "Hay alguna funciones más además de las que vimos acá, por ejemplo ``corr`` que calcular la correlación de Pearson entre cada par de ``Series``."
   ]
  },
  {
   "cell_type": "markdown",
   "metadata": {},
   "source": [
    "### Ejercicios"
   ]
  },
  {
   "cell_type": "markdown",
   "metadata": {},
   "source": [
    "1. Contar la cantidad de elementos faltantes en la columna `replied_user`."
   ]
  },
  {
   "cell_type": "code",
   "execution_count": null,
   "metadata": {},
   "outputs": [],
   "source": [
    "# TODO"
   ]
  },
  {
   "cell_type": "markdown",
   "metadata": {},
   "source": [
    "2. Cuantos likes promedio recibieron los tweets?"
   ]
  },
  {
   "cell_type": "code",
   "execution_count": null,
   "metadata": {},
   "outputs": [],
   "source": [
    "# TODO"
   ]
  },
  {
   "cell_type": "markdown",
   "metadata": {},
   "source": [
    "3. Agregar una columna que traduzca las cantidades de likes de los tweets en ``mas-media``, ``menos-media``."
   ]
  },
  {
   "cell_type": "code",
   "execution_count": null,
   "metadata": {},
   "outputs": [],
   "source": [
    "# TODO"
   ]
  }
 ],
 "metadata": {
  "kernelspec": {
   "display_name": "Python 3",
   "language": "python",
   "name": "python3"
  },
  "language_info": {
   "codemirror_mode": {
    "name": "ipython",
    "version": 3
   },
   "file_extension": ".py",
   "mimetype": "text/x-python",
   "name": "python",
   "nbconvert_exporter": "python",
   "pygments_lexer": "ipython3",
   "version": "3.7.6"
  }
 },
 "nbformat": 4,
 "nbformat_minor": 4
}
